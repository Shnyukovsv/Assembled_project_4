{
 "cells": [
  {
   "cell_type": "markdown",
   "id": "1cd09df0",
   "metadata": {},
   "source": [
    "<img src=\"http://s3.amazonaws.com/pix.iemoji.com/images/emoji/apple/ios-12/256/waving-hand.png\" align=left width=44, heigth=44>\n",
    "<div class=\"alert alert-info\">\n",
    "<b> Комментарий ревьюера</b>\n",
    "\n",
    "\n",
    "Привет, Сергей! Давай знакомиться! Меня зовут Дмитрий Махортов, и я буду проверять твой проект. Сразу предлагаю общение на «ты» 🙂, но если тебе это не комфортно, то дай знать, и мы перейдем на «вы». \n",
    "\n",
    "\n",
    "Моя основная цель — не указать на совершенные тобою ошибки, а поделиться своим опытом и помочь тебе погрузиться в увлекательный мир работы с данными и вырасти в крепкого профи. Это отдаленная цель. А ближайшая - сделать твою работу еще лучше )).\n",
    "   \n",
    "    \n",
    "Все ключевые этапы в работе выполнены, и я вижу что с проектом ты справшяешься. Есть моменты, которые нужно доработать, но я уверен, у тебя все получится.\n",
    "        \n",
    "Расскажу как обычно проходит проверка:    \n",
    "Бывают моменты, которые требуют пристального внимания. Комментарии по ним выделены <span style='background-color:#F7B3A4'> красным цветом </span> и обозначены значком 🛑. После их доработки проект будет принят.  🙂\n",
    " \n",
    "<span style='background-color:#B7EBA7'> Зеленым цветом </span> и значком ✅ отмечены удачные и элегантные решения, на которые можно опираться в будущих проектах. Или советы «со звездочкой», которые помогут тебе в будущем.\n",
    "\n",
    "<span style='background-color:#F9EDA6'>Жёлтым цветом </span> и значком ⚠️ выделено то, что в следующий раз можно сделать по-другому. Ты можешь учесть эти комментарии при выполнении будущих заданий или доработать проект сейчас (однако это не обязательно).\n",
    "\n",
    "Давай работать над проектом в диалоге: **если ты что-то меняешь в проекте по моим рекомендациям — пиши об этом**. Выбери для своих комментариев какой-то заметный цвет, так мне будет легче отследить изменения. Пожалуйста, **не перемещай, не изменяй и не удаляй мои комментарии**. Всё это поможет выполнить повторную проверку твоего проекта оперативнее. \n",
    "</div>"
   ]
  },
  {
   "cell_type": "markdown",
   "id": "63e91b54",
   "metadata": {},
   "source": [
    "<div class=\"alert\" style=\"background-color:#ead7f7;color:#8737bf\">\n",
    "    <font size=\"3\"><b>образец комментария студента</b></font>\n",
    "   \n",
    "Можешь использовать этот комментарий. Просто удали этот текст и вместо него напиши свой 🙂\n",
    "\n",
    "</div>"
   ]
  },
  {
   "cell_type": "markdown",
   "id": "1ff1020a",
   "metadata": {
    "cellId": "pbwq209p45adtxfy5ofecd",
    "deletable": false,
    "editable": false,
    "execution_id": "7cb94123-6481-41de-973a-91abe63db303",
    "id": "1ff1020a",
    "tags": [
     "270beaa0-19d4-4537-bff1-11e2aaed886c"
    ]
   },
   "source": [
    "# Прекод\n",
    "\n",
    "# Сборный проект-4\n",
    "\n",
    "Вам поручено разработать демонстрационную версию поиска изображений по запросу.\n",
    "\n",
    "Для демонстрационной версии нужно обучить модель, которая получит векторное представление изображения, векторное представление текста, а на выходе выдаст число от 0 до 1 — покажет, насколько текст и картинка подходят друг другу.\n",
    "\n",
    "### Описание данных\n",
    "\n",
    "Данные лежат в папке `/datasets/image_search/` или доступны по [ссылке](https://code.s3.yandex.net/datasets/dsplus_integrated_project_4.zip).\n",
    "\n",
    "В файле `train_dataset.csv` находится информация, необходимая для обучения: имя файла изображения, идентификатор описания и текст описания. Для одной картинки может быть доступно до 5 описаний. Идентификатор описания имеет формат `<имя файла изображения>#<порядковый номер описания>`.\n",
    "\n",
    "В папке `train_images` содержатся изображения для тренировки модели.\n",
    "\n",
    "В файле `CrowdAnnotations.tsv` — данные по соответствию изображения и описания, полученные с помощью краудсорсинга. Номера колонок и соответствующий тип данных:\n",
    "\n",
    "1. Имя файла изображения.\n",
    "2. Идентификатор описания.\n",
    "3. Доля людей, подтвердивших, что описание соответствует изображению.\n",
    "4. Количество человек, подтвердивших, что описание соответствует изображению.\n",
    "5. Количество человек, подтвердивших, что описание не соответствует изображению.\n",
    "\n",
    "В файле `ExpertAnnotations.tsv` содержатся данные по соответствию изображения и описания, полученные в результате опроса экспертов. Номера колонок и соответствующий тип данных:\n",
    "\n",
    "1. Имя файла изображения.\n",
    "2. Идентификатор описания.\n",
    "\n",
    "3, 4, 5 — оценки трёх экспертов.\n",
    "\n",
    "Эксперты ставят оценки по шкале от 1 до 4, где 1 — изображение и запрос совершенно не соответствуют друг другу, 2 — запрос содержит элементы описания изображения, но в целом запрос тексту не соответствует, 3 — запрос и текст соответствуют с точностью до некоторых деталей, 4 — запрос и текст соответствуют полностью.\n",
    "\n",
    "В файле `test_queries.csv` находится информация, необходимая для тестирования: идентификатор запроса, текст запроса и релевантное изображение. Для одной картинки может быть доступно до 5 описаний. Идентификатор описания имеет формат `<имя файла изображения>#<порядковый номер описания>`.\n",
    "\n",
    "В папке `test_images` содержатся изображения для тестирования модели."
   ]
  },
  {
   "cell_type": "markdown",
   "id": "99489b26",
   "metadata": {
    "cellId": "n6vkjcacwu39w29bfocxt",
    "execution_id": "1b731a18-3394-4b62-b3f7-018692c2d6de",
    "id": "99489b26"
   },
   "source": [
    "## 1. Исследовательский анализ данных\n",
    "\n",
    "Наш датасет содержит экспертные и краудсорсинговые оценки соответствия текста и изображения.\n",
    "\n",
    "В файле с экспертными мнениями для каждой пары изображение-текст имеются оценки от трёх специалистов. Для решения задачи вы должны эти оценки агрегировать — превратить в одну. Существует несколько способов агрегации оценок, самый простой — голосование большинства: за какую оценку проголосовала большая часть экспертов (в нашем случае 2 или 3), та оценка и ставится как итоговая. Поскольку число экспертов меньше числа классов, может случиться, что каждый эксперт поставит разные оценки, например: 1, 4, 2. В таком случае данную пару изображение-текст можно исключить из датасета.\n",
    "\n",
    "Вы можете воспользоваться другим методом агрегации оценок или придумать свой.\n",
    "\n",
    "В файле с краудсорсинговыми оценками информация расположена в таком порядке:\n",
    "\n",
    "1. Доля исполнителей, подтвердивших, что текст **соответствует** картинке.\n",
    "2. Количество исполнителей, подтвердивших, что текст **соответствует** картинке.\n",
    "3. Количество исполнителей, подтвердивших, что текст **не соответствует** картинке.\n",
    "\n",
    "После анализа экспертных и краудсорсинговых оценок выберите либо одну из них, либо объедините их в одну по какому-то критерию: например, оценка эксперта принимается с коэффициентом 0.6, а крауда — с коэффициентом 0.4.\n",
    "\n",
    "Ваша модель должна возвращать на выходе вероятность соответствия изображения тексту, поэтому целевая переменная должна иметь значения от 0 до 1.\n"
   ]
  },
  {
   "cell_type": "markdown",
   "id": "c8a2ac14",
   "metadata": {},
   "source": [
    "<img src=\"https://emojigraph.org/media/apple/check-mark-button_2705.png\" align=left width=33, heigth=33>\n",
    "<div class=\"alert alert-success\">\n",
    " 👍 Да, это хорошая практика - дать описание контекста и проблемы, которую мы решаем. </div>"
   ]
  },
  {
   "cell_type": "code",
   "execution_count": 1,
   "id": "d3510b02",
   "metadata": {
    "id": "d3510b02",
    "outputId": "77e5f7b3-4855-403f-972f-93420bdc0be5",
    "scrolled": true
   },
   "outputs": [
    {
     "name": "stdout",
     "output_type": "stream",
     "text": [
      "Requirement already satisfied: spacy in c:\\users\\serge\\anaconda3\\lib\\site-packages (3.7.2)\n",
      "Requirement already satisfied: spacy-legacy<3.1.0,>=3.0.11 in c:\\users\\serge\\anaconda3\\lib\\site-packages (from spacy) (3.0.12)\n",
      "Requirement already satisfied: spacy-loggers<2.0.0,>=1.0.0 in c:\\users\\serge\\anaconda3\\lib\\site-packages (from spacy) (1.0.5)\n",
      "Requirement already satisfied: murmurhash<1.1.0,>=0.28.0 in c:\\users\\serge\\anaconda3\\lib\\site-packages (from spacy) (1.0.10)\n",
      "Requirement already satisfied: cymem<2.1.0,>=2.0.2 in c:\\users\\serge\\anaconda3\\lib\\site-packages (from spacy) (2.0.8)\n",
      "Requirement already satisfied: preshed<3.1.0,>=3.0.2 in c:\\users\\serge\\anaconda3\\lib\\site-packages (from spacy) (3.0.9)\n",
      "Requirement already satisfied: thinc<8.3.0,>=8.1.8 in c:\\users\\serge\\anaconda3\\lib\\site-packages (from spacy) (8.2.2)\n",
      "Requirement already satisfied: wasabi<1.2.0,>=0.9.1 in c:\\users\\serge\\anaconda3\\lib\\site-packages (from spacy) (1.1.2)\n",
      "Requirement already satisfied: srsly<3.0.0,>=2.4.3 in c:\\users\\serge\\anaconda3\\lib\\site-packages (from spacy) (2.4.8)\n",
      "Requirement already satisfied: catalogue<2.1.0,>=2.0.6 in c:\\users\\serge\\anaconda3\\lib\\site-packages (from spacy) (2.0.10)\n",
      "Requirement already satisfied: weasel<0.4.0,>=0.1.0 in c:\\users\\serge\\anaconda3\\lib\\site-packages (from spacy) (0.3.4)\n",
      "Requirement already satisfied: typer<0.10.0,>=0.3.0 in c:\\users\\serge\\anaconda3\\lib\\site-packages (from spacy) (0.9.0)\n",
      "Requirement already satisfied: smart-open<7.0.0,>=5.2.1 in c:\\users\\serge\\anaconda3\\lib\\site-packages (from spacy) (5.2.1)\n",
      "Requirement already satisfied: tqdm<5.0.0,>=4.38.0 in c:\\users\\serge\\anaconda3\\lib\\site-packages (from spacy) (4.65.0)\n",
      "Requirement already satisfied: requests<3.0.0,>=2.13.0 in c:\\users\\serge\\anaconda3\\lib\\site-packages (from spacy) (2.31.0)\n",
      "Requirement already satisfied: pydantic!=1.8,!=1.8.1,<3.0.0,>=1.7.4 in c:\\users\\serge\\anaconda3\\lib\\site-packages (from spacy) (1.10.8)\n",
      "Requirement already satisfied: jinja2 in c:\\users\\serge\\anaconda3\\lib\\site-packages (from spacy) (3.1.2)\n",
      "Requirement already satisfied: setuptools in c:\\users\\serge\\anaconda3\\lib\\site-packages (from spacy) (68.0.0)\n",
      "Requirement already satisfied: packaging>=20.0 in c:\\users\\serge\\anaconda3\\lib\\site-packages (from spacy) (23.1)\n",
      "Requirement already satisfied: langcodes<4.0.0,>=3.2.0 in c:\\users\\serge\\anaconda3\\lib\\site-packages (from spacy) (3.3.0)\n",
      "Requirement already satisfied: numpy>=1.19.0 in c:\\users\\serge\\anaconda3\\lib\\site-packages (from spacy) (1.24.3)\n",
      "Requirement already satisfied: typing-extensions>=4.2.0 in c:\\users\\serge\\anaconda3\\lib\\site-packages (from pydantic!=1.8,!=1.8.1,<3.0.0,>=1.7.4->spacy) (4.7.1)\n",
      "Requirement already satisfied: charset-normalizer<4,>=2 in c:\\users\\serge\\anaconda3\\lib\\site-packages (from requests<3.0.0,>=2.13.0->spacy) (2.0.4)\n",
      "Requirement already satisfied: idna<4,>=2.5 in c:\\users\\serge\\anaconda3\\lib\\site-packages (from requests<3.0.0,>=2.13.0->spacy) (3.4)\n",
      "Requirement already satisfied: urllib3<3,>=1.21.1 in c:\\users\\serge\\anaconda3\\lib\\site-packages (from requests<3.0.0,>=2.13.0->spacy) (1.26.16)\n",
      "Requirement already satisfied: certifi>=2017.4.17 in c:\\users\\serge\\anaconda3\\lib\\site-packages (from requests<3.0.0,>=2.13.0->spacy) (2023.7.22)\n",
      "Requirement already satisfied: blis<0.8.0,>=0.7.8 in c:\\users\\serge\\anaconda3\\lib\\site-packages (from thinc<8.3.0,>=8.1.8->spacy) (0.7.11)\n",
      "Requirement already satisfied: confection<1.0.0,>=0.0.1 in c:\\users\\serge\\anaconda3\\lib\\site-packages (from thinc<8.3.0,>=8.1.8->spacy) (0.1.4)\n",
      "Requirement already satisfied: colorama in c:\\users\\serge\\anaconda3\\lib\\site-packages (from tqdm<5.0.0,>=4.38.0->spacy) (0.4.6)\n",
      "Requirement already satisfied: click<9.0.0,>=7.1.1 in c:\\users\\serge\\anaconda3\\lib\\site-packages (from typer<0.10.0,>=0.3.0->spacy) (8.0.4)\n",
      "Requirement already satisfied: cloudpathlib<0.17.0,>=0.7.0 in c:\\users\\serge\\anaconda3\\lib\\site-packages (from weasel<0.4.0,>=0.1.0->spacy) (0.16.0)\n",
      "Requirement already satisfied: MarkupSafe>=2.0 in c:\\users\\serge\\anaconda3\\lib\\site-packages (from jinja2->spacy) (2.1.1)\n",
      "Collecting en-core-web-sm==3.7.1\n",
      "  Downloading https://github.com/explosion/spacy-models/releases/download/en_core_web_sm-3.7.1/en_core_web_sm-3.7.1-py3-none-any.whl (12.8 MB)\n",
      "     ---------------------------------------- 0.0/12.8 MB ? eta -:--:--\n",
      "     ---------------------------------------- 0.0/12.8 MB ? eta -:--:--\n",
      "     --------------------------------------- 0.0/12.8 MB 330.3 kB/s eta 0:00:39\n",
      "     --------------------------------------- 0.0/12.8 MB 281.8 kB/s eta 0:00:46\n",
      "     --------------------------------------- 0.1/12.8 MB 273.8 kB/s eta 0:00:47\n",
      "     --------------------------------------- 0.1/12.8 MB 306.3 kB/s eta 0:00:42\n",
      "     --------------------------------------- 0.1/12.8 MB 400.9 kB/s eta 0:00:32\n",
      "      -------------------------------------- 0.2/12.8 MB 567.2 kB/s eta 0:00:23\n",
      "      -------------------------------------- 0.3/12.8 MB 655.4 kB/s eta 0:00:20\n",
      "     - ------------------------------------- 0.3/12.8 MB 749.8 kB/s eta 0:00:17\n",
      "     - ------------------------------------- 0.4/12.8 MB 804.0 kB/s eta 0:00:16\n",
      "     - -------------------------------------- 0.6/12.8 MB 1.0 MB/s eta 0:00:12\n",
      "     -- ------------------------------------- 0.7/12.8 MB 1.2 MB/s eta 0:00:11\n",
      "     --- ------------------------------------ 1.0/12.8 MB 1.6 MB/s eta 0:00:08\n",
      "     ---- ----------------------------------- 1.4/12.8 MB 2.0 MB/s eta 0:00:06\n",
      "     ----- ---------------------------------- 1.9/12.8 MB 2.6 MB/s eta 0:00:05\n",
      "     ------- -------------------------------- 2.3/12.8 MB 3.0 MB/s eta 0:00:04\n",
      "     ------- -------------------------------- 2.3/12.8 MB 3.0 MB/s eta 0:00:04\n",
      "     ------- -------------------------------- 2.3/12.8 MB 3.0 MB/s eta 0:00:04\n",
      "     ------- -------------------------------- 2.3/12.8 MB 3.0 MB/s eta 0:00:04\n",
      "     ------- -------------------------------- 2.3/12.8 MB 3.0 MB/s eta 0:00:04\n",
      "     ------- -------------------------------- 2.4/12.8 MB 2.4 MB/s eta 0:00:05\n",
      "     ----------- ---------------------------- 3.5/12.8 MB 3.4 MB/s eta 0:00:03\n",
      "     ---------------- ----------------------- 5.1/12.8 MB 4.7 MB/s eta 0:00:02\n",
      "     ----------------- ---------------------- 5.5/12.8 MB 4.8 MB/s eta 0:00:02\n",
      "     ----------------- ---------------------- 5.5/12.8 MB 4.7 MB/s eta 0:00:02\n",
      "     ------------------- -------------------- 6.2/12.8 MB 5.0 MB/s eta 0:00:02\n",
      "     ------------------------ --------------- 7.8/12.8 MB 6.1 MB/s eta 0:00:01\n",
      "     --------------------------- ------------ 8.9/12.8 MB 6.7 MB/s eta 0:00:01\n",
      "     ----------------------------- ---------- 9.4/12.8 MB 6.9 MB/s eta 0:00:01\n",
      "     ------------------------------- -------- 10.0/12.8 MB 7.0 MB/s eta 0:00:01\n",
      "     -------------------------------- ------- 10.5/12.8 MB 9.6 MB/s eta 0:00:01\n",
      "     --------------------------------- ----- 11.1/12.8 MB 11.3 MB/s eta 0:00:01\n",
      "     ----------------------------------- --- 11.7/12.8 MB 11.7 MB/s eta 0:00:01\n",
      "     ------------------------------------- - 12.2/12.8 MB 11.7 MB/s eta 0:00:01\n",
      "     --------------------------------------  12.8/12.8 MB 16.4 MB/s eta 0:00:01\n",
      "     --------------------------------------  12.8/12.8 MB 16.0 MB/s eta 0:00:01\n",
      "     --------------------------------------  12.8/12.8 MB 16.0 MB/s eta 0:00:01\n",
      "     --------------------------------------  12.8/12.8 MB 16.0 MB/s eta 0:00:01\n",
      "     --------------------------------------- 12.8/12.8 MB 12.3 MB/s eta 0:00:00\n",
      "Requirement already satisfied: spacy<3.8.0,>=3.7.2 in c:\\users\\serge\\anaconda3\\lib\\site-packages (from en-core-web-sm==3.7.1) (3.7.2)\n",
      "Requirement already satisfied: spacy-legacy<3.1.0,>=3.0.11 in c:\\users\\serge\\anaconda3\\lib\\site-packages (from spacy<3.8.0,>=3.7.2->en-core-web-sm==3.7.1) (3.0.12)\n",
      "Requirement already satisfied: spacy-loggers<2.0.0,>=1.0.0 in c:\\users\\serge\\anaconda3\\lib\\site-packages (from spacy<3.8.0,>=3.7.2->en-core-web-sm==3.7.1) (1.0.5)\n",
      "Requirement already satisfied: murmurhash<1.1.0,>=0.28.0 in c:\\users\\serge\\anaconda3\\lib\\site-packages (from spacy<3.8.0,>=3.7.2->en-core-web-sm==3.7.1) (1.0.10)\n",
      "Requirement already satisfied: cymem<2.1.0,>=2.0.2 in c:\\users\\serge\\anaconda3\\lib\\site-packages (from spacy<3.8.0,>=3.7.2->en-core-web-sm==3.7.1) (2.0.8)\n",
      "Requirement already satisfied: preshed<3.1.0,>=3.0.2 in c:\\users\\serge\\anaconda3\\lib\\site-packages (from spacy<3.8.0,>=3.7.2->en-core-web-sm==3.7.1) (3.0.9)\n",
      "Requirement already satisfied: thinc<8.3.0,>=8.1.8 in c:\\users\\serge\\anaconda3\\lib\\site-packages (from spacy<3.8.0,>=3.7.2->en-core-web-sm==3.7.1) (8.2.2)\n",
      "Requirement already satisfied: wasabi<1.2.0,>=0.9.1 in c:\\users\\serge\\anaconda3\\lib\\site-packages (from spacy<3.8.0,>=3.7.2->en-core-web-sm==3.7.1) (1.1.2)\n",
      "Requirement already satisfied: srsly<3.0.0,>=2.4.3 in c:\\users\\serge\\anaconda3\\lib\\site-packages (from spacy<3.8.0,>=3.7.2->en-core-web-sm==3.7.1) (2.4.8)\n",
      "Requirement already satisfied: catalogue<2.1.0,>=2.0.6 in c:\\users\\serge\\anaconda3\\lib\\site-packages (from spacy<3.8.0,>=3.7.2->en-core-web-sm==3.7.1) (2.0.10)\n",
      "Requirement already satisfied: weasel<0.4.0,>=0.1.0 in c:\\users\\serge\\anaconda3\\lib\\site-packages (from spacy<3.8.0,>=3.7.2->en-core-web-sm==3.7.1) (0.3.4)\n",
      "Requirement already satisfied: typer<0.10.0,>=0.3.0 in c:\\users\\serge\\anaconda3\\lib\\site-packages (from spacy<3.8.0,>=3.7.2->en-core-web-sm==3.7.1) (0.9.0)\n",
      "Requirement already satisfied: smart-open<7.0.0,>=5.2.1 in c:\\users\\serge\\anaconda3\\lib\\site-packages (from spacy<3.8.0,>=3.7.2->en-core-web-sm==3.7.1) (5.2.1)\n",
      "Requirement already satisfied: tqdm<5.0.0,>=4.38.0 in c:\\users\\serge\\anaconda3\\lib\\site-packages (from spacy<3.8.0,>=3.7.2->en-core-web-sm==3.7.1) (4.65.0)\n",
      "Requirement already satisfied: requests<3.0.0,>=2.13.0 in c:\\users\\serge\\anaconda3\\lib\\site-packages (from spacy<3.8.0,>=3.7.2->en-core-web-sm==3.7.1) (2.31.0)\n",
      "Requirement already satisfied: pydantic!=1.8,!=1.8.1,<3.0.0,>=1.7.4 in c:\\users\\serge\\anaconda3\\lib\\site-packages (from spacy<3.8.0,>=3.7.2->en-core-web-sm==3.7.1) (1.10.8)\n",
      "Requirement already satisfied: jinja2 in c:\\users\\serge\\anaconda3\\lib\\site-packages (from spacy<3.8.0,>=3.7.2->en-core-web-sm==3.7.1) (3.1.2)\n",
      "Requirement already satisfied: setuptools in c:\\users\\serge\\anaconda3\\lib\\site-packages (from spacy<3.8.0,>=3.7.2->en-core-web-sm==3.7.1) (68.0.0)\n",
      "Requirement already satisfied: packaging>=20.0 in c:\\users\\serge\\anaconda3\\lib\\site-packages (from spacy<3.8.0,>=3.7.2->en-core-web-sm==3.7.1) (23.1)\n",
      "Requirement already satisfied: langcodes<4.0.0,>=3.2.0 in c:\\users\\serge\\anaconda3\\lib\\site-packages (from spacy<3.8.0,>=3.7.2->en-core-web-sm==3.7.1) (3.3.0)\n",
      "Requirement already satisfied: numpy>=1.19.0 in c:\\users\\serge\\anaconda3\\lib\\site-packages (from spacy<3.8.0,>=3.7.2->en-core-web-sm==3.7.1) (1.24.3)\n",
      "Requirement already satisfied: typing-extensions>=4.2.0 in c:\\users\\serge\\anaconda3\\lib\\site-packages (from pydantic!=1.8,!=1.8.1,<3.0.0,>=1.7.4->spacy<3.8.0,>=3.7.2->en-core-web-sm==3.7.1) (4.7.1)\n",
      "Requirement already satisfied: charset-normalizer<4,>=2 in c:\\users\\serge\\anaconda3\\lib\\site-packages (from requests<3.0.0,>=2.13.0->spacy<3.8.0,>=3.7.2->en-core-web-sm==3.7.1) (2.0.4)\n",
      "Requirement already satisfied: idna<4,>=2.5 in c:\\users\\serge\\anaconda3\\lib\\site-packages (from requests<3.0.0,>=2.13.0->spacy<3.8.0,>=3.7.2->en-core-web-sm==3.7.1) (3.4)\n",
      "Requirement already satisfied: urllib3<3,>=1.21.1 in c:\\users\\serge\\anaconda3\\lib\\site-packages (from requests<3.0.0,>=2.13.0->spacy<3.8.0,>=3.7.2->en-core-web-sm==3.7.1) (1.26.16)\n",
      "Requirement already satisfied: certifi>=2017.4.17 in c:\\users\\serge\\anaconda3\\lib\\site-packages (from requests<3.0.0,>=2.13.0->spacy<3.8.0,>=3.7.2->en-core-web-sm==3.7.1) (2023.7.22)\n",
      "Requirement already satisfied: blis<0.8.0,>=0.7.8 in c:\\users\\serge\\anaconda3\\lib\\site-packages (from thinc<8.3.0,>=8.1.8->spacy<3.8.0,>=3.7.2->en-core-web-sm==3.7.1) (0.7.11)\n",
      "Requirement already satisfied: confection<1.0.0,>=0.0.1 in c:\\users\\serge\\anaconda3\\lib\\site-packages (from thinc<8.3.0,>=8.1.8->spacy<3.8.0,>=3.7.2->en-core-web-sm==3.7.1) (0.1.4)\n",
      "Requirement already satisfied: colorama in c:\\users\\serge\\anaconda3\\lib\\site-packages (from tqdm<5.0.0,>=4.38.0->spacy<3.8.0,>=3.7.2->en-core-web-sm==3.7.1) (0.4.6)\n",
      "Requirement already satisfied: click<9.0.0,>=7.1.1 in c:\\users\\serge\\anaconda3\\lib\\site-packages (from typer<0.10.0,>=0.3.0->spacy<3.8.0,>=3.7.2->en-core-web-sm==3.7.1) (8.0.4)\n",
      "Requirement already satisfied: cloudpathlib<0.17.0,>=0.7.0 in c:\\users\\serge\\anaconda3\\lib\\site-packages (from weasel<0.4.0,>=0.1.0->spacy<3.8.0,>=3.7.2->en-core-web-sm==3.7.1) (0.16.0)\n",
      "Requirement already satisfied: MarkupSafe>=2.0 in c:\\users\\serge\\anaconda3\\lib\\site-packages (from jinja2->spacy<3.8.0,>=3.7.2->en-core-web-sm==3.7.1) (2.1.1)\n",
      "\u001b[38;5;2m[+] Download and installation successful\u001b[0m\n",
      "You can now load the package via spacy.load('en_core_web_sm')\n"
     ]
    },
    {
     "name": "stdout",
     "output_type": "stream",
     "text": [
      "Requirement already satisfied: spacy[transformers] in c:\\users\\serge\\anaconda3\\lib\\site-packages (3.7.2)\n",
      "Requirement already satisfied: spacy-legacy<3.1.0,>=3.0.11 in c:\\users\\serge\\anaconda3\\lib\\site-packages (from spacy[transformers]) (3.0.12)\n",
      "Requirement already satisfied: spacy-loggers<2.0.0,>=1.0.0 in c:\\users\\serge\\anaconda3\\lib\\site-packages (from spacy[transformers]) (1.0.5)\n",
      "Requirement already satisfied: murmurhash<1.1.0,>=0.28.0 in c:\\users\\serge\\anaconda3\\lib\\site-packages (from spacy[transformers]) (1.0.10)\n",
      "Requirement already satisfied: cymem<2.1.0,>=2.0.2 in c:\\users\\serge\\anaconda3\\lib\\site-packages (from spacy[transformers]) (2.0.8)\n",
      "Requirement already satisfied: preshed<3.1.0,>=3.0.2 in c:\\users\\serge\\anaconda3\\lib\\site-packages (from spacy[transformers]) (3.0.9)\n",
      "Requirement already satisfied: thinc<8.3.0,>=8.1.8 in c:\\users\\serge\\anaconda3\\lib\\site-packages (from spacy[transformers]) (8.2.2)\n",
      "Requirement already satisfied: wasabi<1.2.0,>=0.9.1 in c:\\users\\serge\\anaconda3\\lib\\site-packages (from spacy[transformers]) (1.1.2)\n",
      "Requirement already satisfied: srsly<3.0.0,>=2.4.3 in c:\\users\\serge\\anaconda3\\lib\\site-packages (from spacy[transformers]) (2.4.8)\n",
      "Requirement already satisfied: catalogue<2.1.0,>=2.0.6 in c:\\users\\serge\\anaconda3\\lib\\site-packages (from spacy[transformers]) (2.0.10)\n",
      "Requirement already satisfied: weasel<0.4.0,>=0.1.0 in c:\\users\\serge\\anaconda3\\lib\\site-packages (from spacy[transformers]) (0.3.4)\n",
      "Requirement already satisfied: typer<0.10.0,>=0.3.0 in c:\\users\\serge\\anaconda3\\lib\\site-packages (from spacy[transformers]) (0.9.0)\n",
      "Requirement already satisfied: smart-open<7.0.0,>=5.2.1 in c:\\users\\serge\\anaconda3\\lib\\site-packages (from spacy[transformers]) (5.2.1)\n",
      "Requirement already satisfied: tqdm<5.0.0,>=4.38.0 in c:\\users\\serge\\anaconda3\\lib\\site-packages (from spacy[transformers]) (4.65.0)\n",
      "Requirement already satisfied: requests<3.0.0,>=2.13.0 in c:\\users\\serge\\anaconda3\\lib\\site-packages (from spacy[transformers]) (2.31.0)\n",
      "Requirement already satisfied: pydantic!=1.8,!=1.8.1,<3.0.0,>=1.7.4 in c:\\users\\serge\\anaconda3\\lib\\site-packages (from spacy[transformers]) (1.10.8)\n",
      "Requirement already satisfied: jinja2 in c:\\users\\serge\\anaconda3\\lib\\site-packages (from spacy[transformers]) (3.1.2)\n",
      "Requirement already satisfied: setuptools in c:\\users\\serge\\anaconda3\\lib\\site-packages (from spacy[transformers]) (68.0.0)\n",
      "Requirement already satisfied: packaging>=20.0 in c:\\users\\serge\\anaconda3\\lib\\site-packages (from spacy[transformers]) (23.1)\n",
      "Requirement already satisfied: langcodes<4.0.0,>=3.2.0 in c:\\users\\serge\\anaconda3\\lib\\site-packages (from spacy[transformers]) (3.3.0)\n",
      "Requirement already satisfied: numpy>=1.19.0 in c:\\users\\serge\\anaconda3\\lib\\site-packages (from spacy[transformers]) (1.24.3)\n",
      "Requirement already satisfied: spacy-transformers<1.4.0,>=1.1.2 in c:\\users\\serge\\anaconda3\\lib\\site-packages (from spacy[transformers]) (1.3.4)\n",
      "Requirement already satisfied: typing-extensions>=4.2.0 in c:\\users\\serge\\anaconda3\\lib\\site-packages (from pydantic!=1.8,!=1.8.1,<3.0.0,>=1.7.4->spacy[transformers]) (4.7.1)\n",
      "Requirement already satisfied: charset-normalizer<4,>=2 in c:\\users\\serge\\anaconda3\\lib\\site-packages (from requests<3.0.0,>=2.13.0->spacy[transformers]) (2.0.4)\n",
      "Requirement already satisfied: idna<4,>=2.5 in c:\\users\\serge\\anaconda3\\lib\\site-packages (from requests<3.0.0,>=2.13.0->spacy[transformers]) (3.4)\n",
      "Requirement already satisfied: urllib3<3,>=1.21.1 in c:\\users\\serge\\anaconda3\\lib\\site-packages (from requests<3.0.0,>=2.13.0->spacy[transformers]) (1.26.16)\n",
      "Requirement already satisfied: certifi>=2017.4.17 in c:\\users\\serge\\anaconda3\\lib\\site-packages (from requests<3.0.0,>=2.13.0->spacy[transformers]) (2023.7.22)\n",
      "Requirement already satisfied: transformers<4.37.0,>=3.4.0 in c:\\users\\serge\\anaconda3\\lib\\site-packages (from spacy-transformers<1.4.0,>=1.1.2->spacy[transformers]) (4.32.1)\n",
      "Requirement already satisfied: torch>=1.8.0 in c:\\users\\serge\\anaconda3\\lib\\site-packages (from spacy-transformers<1.4.0,>=1.1.2->spacy[transformers]) (2.1.2)\n",
      "Requirement already satisfied: spacy-alignments<1.0.0,>=0.7.2 in c:\\users\\serge\\anaconda3\\lib\\site-packages (from spacy-transformers<1.4.0,>=1.1.2->spacy[transformers]) (0.9.1)\n",
      "Requirement already satisfied: blis<0.8.0,>=0.7.8 in c:\\users\\serge\\anaconda3\\lib\\site-packages (from thinc<8.3.0,>=8.1.8->spacy[transformers]) (0.7.11)\n",
      "Requirement already satisfied: confection<1.0.0,>=0.0.1 in c:\\users\\serge\\anaconda3\\lib\\site-packages (from thinc<8.3.0,>=8.1.8->spacy[transformers]) (0.1.4)\n",
      "Requirement already satisfied: colorama in c:\\users\\serge\\anaconda3\\lib\\site-packages (from tqdm<5.0.0,>=4.38.0->spacy[transformers]) (0.4.6)\n",
      "Requirement already satisfied: click<9.0.0,>=7.1.1 in c:\\users\\serge\\anaconda3\\lib\\site-packages (from typer<0.10.0,>=0.3.0->spacy[transformers]) (8.0.4)\n",
      "Requirement already satisfied: cloudpathlib<0.17.0,>=0.7.0 in c:\\users\\serge\\anaconda3\\lib\\site-packages (from weasel<0.4.0,>=0.1.0->spacy[transformers]) (0.16.0)\n",
      "Requirement already satisfied: MarkupSafe>=2.0 in c:\\users\\serge\\anaconda3\\lib\\site-packages (from jinja2->spacy[transformers]) (2.1.1)\n",
      "Requirement already satisfied: filelock in c:\\users\\serge\\anaconda3\\lib\\site-packages (from torch>=1.8.0->spacy-transformers<1.4.0,>=1.1.2->spacy[transformers]) (3.9.0)\n",
      "Requirement already satisfied: sympy in c:\\users\\serge\\anaconda3\\lib\\site-packages (from torch>=1.8.0->spacy-transformers<1.4.0,>=1.1.2->spacy[transformers]) (1.11.1)\n",
      "Requirement already satisfied: networkx in c:\\users\\serge\\anaconda3\\lib\\site-packages (from torch>=1.8.0->spacy-transformers<1.4.0,>=1.1.2->spacy[transformers]) (3.1)\n",
      "Requirement already satisfied: fsspec in c:\\users\\serge\\anaconda3\\lib\\site-packages (from torch>=1.8.0->spacy-transformers<1.4.0,>=1.1.2->spacy[transformers]) (2023.4.0)\n",
      "Requirement already satisfied: huggingface-hub<1.0,>=0.15.1 in c:\\users\\serge\\anaconda3\\lib\\site-packages (from transformers<4.37.0,>=3.4.0->spacy-transformers<1.4.0,>=1.1.2->spacy[transformers]) (0.15.1)\n",
      "Requirement already satisfied: pyyaml>=5.1 in c:\\users\\serge\\anaconda3\\lib\\site-packages (from transformers<4.37.0,>=3.4.0->spacy-transformers<1.4.0,>=1.1.2->spacy[transformers]) (6.0)\n",
      "Requirement already satisfied: regex!=2019.12.17 in c:\\users\\serge\\anaconda3\\lib\\site-packages (from transformers<4.37.0,>=3.4.0->spacy-transformers<1.4.0,>=1.1.2->spacy[transformers]) (2022.7.9)\n",
      "Requirement already satisfied: tokenizers!=0.11.3,<0.14,>=0.11.1 in c:\\users\\serge\\anaconda3\\lib\\site-packages (from transformers<4.37.0,>=3.4.0->spacy-transformers<1.4.0,>=1.1.2->spacy[transformers]) (0.13.2)\n",
      "Requirement already satisfied: safetensors>=0.3.1 in c:\\users\\serge\\anaconda3\\lib\\site-packages (from transformers<4.37.0,>=3.4.0->spacy-transformers<1.4.0,>=1.1.2->spacy[transformers]) (0.3.2)\n",
      "Requirement already satisfied: mpmath>=0.19 in c:\\users\\serge\\anaconda3\\lib\\site-packages (from sympy->torch>=1.8.0->spacy-transformers<1.4.0,>=1.1.2->spacy[transformers]) (1.3.0)\n"
     ]
    }
   ],
   "source": [
    "!pip install spacy\n",
    "!python -m spacy download en_core_web_sm\n",
    "!pip install spacy[transformers]\n",
    "!pip install -q torchvision"
   ]
  },
  {
   "cell_type": "markdown",
   "id": "0119f022",
   "metadata": {
    "id": "34b2b15b"
   },
   "source": [
    "<img src=\"https://upload.wikimedia.org/wikipedia/commons/b/ba/Warning_sign_4.0.png\" align=left width=44, heigth=33>\n",
    "<div class=\"alert alert-warning\">\n",
    "Лично меня очень утомляют простыни логов после установки библиотек. Я их все равно никто не читает. Можно добавить флаг -q будет гораздо аккуратноее.\n",
    "    \n",
    "    !pip install -q torchvision\n",
    "    \n",
    "Кстати, я вижу ты делаешь повторную установку torchvision, что для локальной среды уже лишнее. А во многих облачных средах (например в Google Colab) эта библиотека уже установлена.     \n",
    "</div>"
   ]
  },
  {
   "cell_type": "markdown",
   "id": "94d1514d",
   "metadata": {},
   "source": [
    "<div class=\"alert\" style=\"background-color:#ead7f7;color:#8737bf\">\n",
    "    <font size=\"3\"><b>Комментарий студента</b></font>\n",
    "   \n",
    "Выполнено\n",
    "\n",
    "</div>"
   ]
  },
  {
   "cell_type": "code",
   "execution_count": 2,
   "id": "391932cb",
   "metadata": {
    "id": "391932cb"
   },
   "outputs": [],
   "source": [
    "import torchvision.models as models\n",
    "import torch\n",
    "import torch.nn as nn\n",
    "import numpy as np\n",
    "#import tensorflow as tf\n",
    "\n",
    "import pandas as pd\n",
    "import random as rd\n",
    "\n",
    "from PIL import Image\n",
    "import os\n",
    "\n",
    "import spacy\n",
    "import re\n",
    "import nltk\n",
    "from nltk.corpus import stopwords as nltk_stopwords\n",
    "from sklearn.feature_extraction.text import TfidfVectorizer\n",
    "from sklearn.model_selection import GroupShuffleSplit\n",
    "\n",
    "from sklearn.linear_model import LinearRegression\n",
    "from sklearn.model_selection import cross_val_score\n",
    "from sklearn.model_selection import GridSearchCV\n",
    "from sklearn.metrics import make_scorer\n",
    "from sklearn.metrics import mean_squared_error\n",
    "from sklearn.preprocessing import MinMaxScaler\n",
    "\n",
    "#from skorch.callbacks import EpochScoring, EarlyStopping\n",
    "#from skorch import NeuralNetRegressor\n",
    "from sklearn.pipeline import Pipeline\n",
    "from tqdm import tqdm, tqdm_notebook\n",
    "import torch\n",
    "import torch.nn as nn\n",
    "from math import ceil"
   ]
  },
  {
   "cell_type": "markdown",
   "id": "85817084",
   "metadata": {},
   "source": [
    "<img src=\"https://emojigraph.org/media/apple/check-mark-button_2705.png\" align=left width=33, heigth=33>\n",
    "<div class=\"alert alert-success\">\n",
    "Отлично, все нужные библиотеки импортированы в начале ноутбука.Это хорошая практика.</div>"
   ]
  },
  {
   "cell_type": "markdown",
   "id": "51c4c481",
   "metadata": {
    "id": "51c4c481"
   },
   "source": [
    "Импортируем данные."
   ]
  },
  {
   "cell_type": "code",
   "execution_count": 3,
   "id": "67529761",
   "metadata": {
    "id": "67529761",
    "scrolled": true
   },
   "outputs": [],
   "source": [
    "train_dataset = pd.read_csv('to_upload/train_dataset.csv')\n",
    "CrowdAnnotations = pd.read_csv('to_upload/CrowdAnnotations.tsv', sep='\\t', header=None)\n",
    "ExpertAnnotations = pd.read_csv('to_upload/ExpertAnnotations.tsv', sep='\\t', header=None)\n",
    "test_queries = pd.read_csv('to_upload/test_queries.csv', sep='|', index_col=0)\n",
    "test_images = pd.read_csv('to_upload/test_images.csv', sep='|')"
   ]
  },
  {
   "cell_type": "markdown",
   "id": "9d8ffa65",
   "metadata": {
    "id": "970c736c"
   },
   "source": [
    "<img src=\"http://s3.amazonaws.com/pix.iemoji.com/images/emoji/apple/ios-12/256/waving-hand.png\" align=left width=44, heigth=44>\n",
    "<div class=\"alert alert-info\">\n",
    "<b> Комментарий ревьюера</b>\n",
    "\n",
    "Данный проект очень хороший пример того, как один и тот же код может запускаться на разных платформах, у разных людей, даже на операционных системах. Поэтому лучше заранее позаботиться о том, чтобы при переходе с одного компьютера на другой нужно было вносить как можно меньше изменений. Самый простой способ - вынести путь к данным в константу, которую определлить в самом начале ноутбука и все пути определять с этой константой.\n",
    "    \n",
    "Также для объединения путей лучше испльзовать os.path.join, т.к. этот метод соединяет пути с учетом операционной системы (в linux и windows для путей используются знаки / и \\)\n",
    "    \n",
    "Если ты используешь colab или другой облачный сервис, то датасет в виртуальную машину можно загрузить вот так\n",
    "    \n",
    "    \n",
    "    # загрузка датасета \n",
    "\n",
    "    !wget -q https://code.s3.yandex.net/datasets/dsplus_integrated_project_4.zip\n",
    "    !unzip -q dsplus_integrated_project_4.zip\n",
    "\n",
    "А вот это образец универсального кода для загрузки данных    \n",
    "    \n",
    "    DATA_PATH = твой путь    \n",
    "    \n",
    "    df_train = pd.read_csv(os.path.join(DATA_PATH, 'train_dataset.csv'))\n",
    "    ....\n",
    "\n",
    " \n",
    "    \n",
    "    \n",
    "\n",
    "\n",
    "</div>"
   ]
  },
  {
   "cell_type": "code",
   "execution_count": 4,
   "id": "403c28bc",
   "metadata": {
    "id": "403c28bc",
    "outputId": "e16a51fc-5482-4ca3-ec69-ea2cca585b4e",
    "scrolled": false
   },
   "outputs": [
    {
     "name": "stdout",
     "output_type": "stream",
     "text": [
      "train_dataset\n"
     ]
    },
    {
     "data": {
      "text/html": [
       "<div>\n",
       "<style scoped>\n",
       "    .dataframe tbody tr th:only-of-type {\n",
       "        vertical-align: middle;\n",
       "    }\n",
       "\n",
       "    .dataframe tbody tr th {\n",
       "        vertical-align: top;\n",
       "    }\n",
       "\n",
       "    .dataframe thead th {\n",
       "        text-align: right;\n",
       "    }\n",
       "</style>\n",
       "<table border=\"1\" class=\"dataframe\">\n",
       "  <thead>\n",
       "    <tr style=\"text-align: right;\">\n",
       "      <th></th>\n",
       "      <th>image</th>\n",
       "      <th>query_id</th>\n",
       "      <th>query_text</th>\n",
       "    </tr>\n",
       "  </thead>\n",
       "  <tbody>\n",
       "    <tr>\n",
       "      <th>0</th>\n",
       "      <td>1056338697_4f7d7ce270.jpg</td>\n",
       "      <td>2549968784_39bfbe44f9.jpg#2</td>\n",
       "      <td>A young child is wearing blue goggles and sitt...</td>\n",
       "    </tr>\n",
       "    <tr>\n",
       "      <th>1</th>\n",
       "      <td>1262583859_653f1469a9.jpg</td>\n",
       "      <td>2549968784_39bfbe44f9.jpg#2</td>\n",
       "      <td>A young child is wearing blue goggles and sitt...</td>\n",
       "    </tr>\n",
       "    <tr>\n",
       "      <th>2</th>\n",
       "      <td>2447284966_d6bbdb4b6e.jpg</td>\n",
       "      <td>2549968784_39bfbe44f9.jpg#2</td>\n",
       "      <td>A young child is wearing blue goggles and sitt...</td>\n",
       "    </tr>\n",
       "    <tr>\n",
       "      <th>3</th>\n",
       "      <td>2549968784_39bfbe44f9.jpg</td>\n",
       "      <td>2549968784_39bfbe44f9.jpg#2</td>\n",
       "      <td>A young child is wearing blue goggles and sitt...</td>\n",
       "    </tr>\n",
       "    <tr>\n",
       "      <th>4</th>\n",
       "      <td>2621415349_ef1a7e73be.jpg</td>\n",
       "      <td>2549968784_39bfbe44f9.jpg#2</td>\n",
       "      <td>A young child is wearing blue goggles and sitt...</td>\n",
       "    </tr>\n",
       "    <tr>\n",
       "      <th>5</th>\n",
       "      <td>3030566410_393c36a6c5.jpg</td>\n",
       "      <td>2549968784_39bfbe44f9.jpg#2</td>\n",
       "      <td>A young child is wearing blue goggles and sitt...</td>\n",
       "    </tr>\n",
       "    <tr>\n",
       "      <th>6</th>\n",
       "      <td>3155451946_c0862c70cb.jpg</td>\n",
       "      <td>2549968784_39bfbe44f9.jpg#2</td>\n",
       "      <td>A young child is wearing blue goggles and sitt...</td>\n",
       "    </tr>\n",
       "    <tr>\n",
       "      <th>7</th>\n",
       "      <td>3222041930_f642f49d28.jpg</td>\n",
       "      <td>2549968784_39bfbe44f9.jpg#2</td>\n",
       "      <td>A young child is wearing blue goggles and sitt...</td>\n",
       "    </tr>\n",
       "    <tr>\n",
       "      <th>8</th>\n",
       "      <td>343218198_1ca90e0734.jpg</td>\n",
       "      <td>2549968784_39bfbe44f9.jpg#2</td>\n",
       "      <td>A young child is wearing blue goggles and sitt...</td>\n",
       "    </tr>\n",
       "    <tr>\n",
       "      <th>9</th>\n",
       "      <td>3718964174_cb2dc1615e.jpg</td>\n",
       "      <td>2549968784_39bfbe44f9.jpg#2</td>\n",
       "      <td>A young child is wearing blue goggles and sitt...</td>\n",
       "    </tr>\n",
       "  </tbody>\n",
       "</table>\n",
       "</div>"
      ],
      "text/plain": [
       "                       image                     query_id  \\\n",
       "0  1056338697_4f7d7ce270.jpg  2549968784_39bfbe44f9.jpg#2   \n",
       "1  1262583859_653f1469a9.jpg  2549968784_39bfbe44f9.jpg#2   \n",
       "2  2447284966_d6bbdb4b6e.jpg  2549968784_39bfbe44f9.jpg#2   \n",
       "3  2549968784_39bfbe44f9.jpg  2549968784_39bfbe44f9.jpg#2   \n",
       "4  2621415349_ef1a7e73be.jpg  2549968784_39bfbe44f9.jpg#2   \n",
       "5  3030566410_393c36a6c5.jpg  2549968784_39bfbe44f9.jpg#2   \n",
       "6  3155451946_c0862c70cb.jpg  2549968784_39bfbe44f9.jpg#2   \n",
       "7  3222041930_f642f49d28.jpg  2549968784_39bfbe44f9.jpg#2   \n",
       "8   343218198_1ca90e0734.jpg  2549968784_39bfbe44f9.jpg#2   \n",
       "9  3718964174_cb2dc1615e.jpg  2549968784_39bfbe44f9.jpg#2   \n",
       "\n",
       "                                          query_text  \n",
       "0  A young child is wearing blue goggles and sitt...  \n",
       "1  A young child is wearing blue goggles and sitt...  \n",
       "2  A young child is wearing blue goggles and sitt...  \n",
       "3  A young child is wearing blue goggles and sitt...  \n",
       "4  A young child is wearing blue goggles and sitt...  \n",
       "5  A young child is wearing blue goggles and sitt...  \n",
       "6  A young child is wearing blue goggles and sitt...  \n",
       "7  A young child is wearing blue goggles and sitt...  \n",
       "8  A young child is wearing blue goggles and sitt...  \n",
       "9  A young child is wearing blue goggles and sitt...  "
      ]
     },
     "metadata": {},
     "output_type": "display_data"
    },
    {
     "name": "stdout",
     "output_type": "stream",
     "text": [
      "<class 'pandas.core.frame.DataFrame'>\n",
      "RangeIndex: 5822 entries, 0 to 5821\n",
      "Data columns (total 3 columns):\n",
      " #   Column      Non-Null Count  Dtype \n",
      "---  ------      --------------  ----- \n",
      " 0   image       5822 non-null   object\n",
      " 1   query_id    5822 non-null   object\n",
      " 2   query_text  5822 non-null   object\n",
      "dtypes: object(3)\n",
      "memory usage: 136.6+ KB\n",
      "\n",
      "\n",
      "\n",
      "CrowdAnnotations\n"
     ]
    },
    {
     "data": {
      "text/html": [
       "<div>\n",
       "<style scoped>\n",
       "    .dataframe tbody tr th:only-of-type {\n",
       "        vertical-align: middle;\n",
       "    }\n",
       "\n",
       "    .dataframe tbody tr th {\n",
       "        vertical-align: top;\n",
       "    }\n",
       "\n",
       "    .dataframe thead th {\n",
       "        text-align: right;\n",
       "    }\n",
       "</style>\n",
       "<table border=\"1\" class=\"dataframe\">\n",
       "  <thead>\n",
       "    <tr style=\"text-align: right;\">\n",
       "      <th></th>\n",
       "      <th>0</th>\n",
       "      <th>1</th>\n",
       "      <th>2</th>\n",
       "      <th>3</th>\n",
       "      <th>4</th>\n",
       "    </tr>\n",
       "  </thead>\n",
       "  <tbody>\n",
       "    <tr>\n",
       "      <th>0</th>\n",
       "      <td>1056338697_4f7d7ce270.jpg</td>\n",
       "      <td>1056338697_4f7d7ce270.jpg#2</td>\n",
       "      <td>1.000000</td>\n",
       "      <td>3</td>\n",
       "      <td>0</td>\n",
       "    </tr>\n",
       "    <tr>\n",
       "      <th>1</th>\n",
       "      <td>1056338697_4f7d7ce270.jpg</td>\n",
       "      <td>114051287_dd85625a04.jpg#2</td>\n",
       "      <td>0.000000</td>\n",
       "      <td>0</td>\n",
       "      <td>3</td>\n",
       "    </tr>\n",
       "    <tr>\n",
       "      <th>2</th>\n",
       "      <td>1056338697_4f7d7ce270.jpg</td>\n",
       "      <td>1427391496_ea512cbe7f.jpg#2</td>\n",
       "      <td>0.000000</td>\n",
       "      <td>0</td>\n",
       "      <td>3</td>\n",
       "    </tr>\n",
       "    <tr>\n",
       "      <th>3</th>\n",
       "      <td>1056338697_4f7d7ce270.jpg</td>\n",
       "      <td>2073964624_52da3a0fc4.jpg#2</td>\n",
       "      <td>0.000000</td>\n",
       "      <td>0</td>\n",
       "      <td>3</td>\n",
       "    </tr>\n",
       "    <tr>\n",
       "      <th>4</th>\n",
       "      <td>1056338697_4f7d7ce270.jpg</td>\n",
       "      <td>2083434441_a93bc6306b.jpg#2</td>\n",
       "      <td>0.000000</td>\n",
       "      <td>0</td>\n",
       "      <td>3</td>\n",
       "    </tr>\n",
       "    <tr>\n",
       "      <th>5</th>\n",
       "      <td>1056338697_4f7d7ce270.jpg</td>\n",
       "      <td>2204550058_2707d92338.jpg#2</td>\n",
       "      <td>0.000000</td>\n",
       "      <td>0</td>\n",
       "      <td>3</td>\n",
       "    </tr>\n",
       "    <tr>\n",
       "      <th>6</th>\n",
       "      <td>1056338697_4f7d7ce270.jpg</td>\n",
       "      <td>2224450291_4c133fabe8.jpg#2</td>\n",
       "      <td>0.000000</td>\n",
       "      <td>0</td>\n",
       "      <td>3</td>\n",
       "    </tr>\n",
       "    <tr>\n",
       "      <th>7</th>\n",
       "      <td>1056338697_4f7d7ce270.jpg</td>\n",
       "      <td>2248487950_c62d0c81a9.jpg#2</td>\n",
       "      <td>0.333333</td>\n",
       "      <td>1</td>\n",
       "      <td>2</td>\n",
       "    </tr>\n",
       "    <tr>\n",
       "      <th>8</th>\n",
       "      <td>1056338697_4f7d7ce270.jpg</td>\n",
       "      <td>2307118114_c258e3a47e.jpg#2</td>\n",
       "      <td>0.000000</td>\n",
       "      <td>0</td>\n",
       "      <td>3</td>\n",
       "    </tr>\n",
       "    <tr>\n",
       "      <th>9</th>\n",
       "      <td>1056338697_4f7d7ce270.jpg</td>\n",
       "      <td>2309860995_c2e2a0feeb.jpg#2</td>\n",
       "      <td>0.000000</td>\n",
       "      <td>0</td>\n",
       "      <td>3</td>\n",
       "    </tr>\n",
       "  </tbody>\n",
       "</table>\n",
       "</div>"
      ],
      "text/plain": [
       "                           0                            1         2  3  4\n",
       "0  1056338697_4f7d7ce270.jpg  1056338697_4f7d7ce270.jpg#2  1.000000  3  0\n",
       "1  1056338697_4f7d7ce270.jpg   114051287_dd85625a04.jpg#2  0.000000  0  3\n",
       "2  1056338697_4f7d7ce270.jpg  1427391496_ea512cbe7f.jpg#2  0.000000  0  3\n",
       "3  1056338697_4f7d7ce270.jpg  2073964624_52da3a0fc4.jpg#2  0.000000  0  3\n",
       "4  1056338697_4f7d7ce270.jpg  2083434441_a93bc6306b.jpg#2  0.000000  0  3\n",
       "5  1056338697_4f7d7ce270.jpg  2204550058_2707d92338.jpg#2  0.000000  0  3\n",
       "6  1056338697_4f7d7ce270.jpg  2224450291_4c133fabe8.jpg#2  0.000000  0  3\n",
       "7  1056338697_4f7d7ce270.jpg  2248487950_c62d0c81a9.jpg#2  0.333333  1  2\n",
       "8  1056338697_4f7d7ce270.jpg  2307118114_c258e3a47e.jpg#2  0.000000  0  3\n",
       "9  1056338697_4f7d7ce270.jpg  2309860995_c2e2a0feeb.jpg#2  0.000000  0  3"
      ]
     },
     "metadata": {},
     "output_type": "display_data"
    },
    {
     "name": "stdout",
     "output_type": "stream",
     "text": [
      "<class 'pandas.core.frame.DataFrame'>\n",
      "RangeIndex: 47830 entries, 0 to 47829\n",
      "Data columns (total 5 columns):\n",
      " #   Column  Non-Null Count  Dtype  \n",
      "---  ------  --------------  -----  \n",
      " 0   0       47830 non-null  object \n",
      " 1   1       47830 non-null  object \n",
      " 2   2       47830 non-null  float64\n",
      " 3   3       47830 non-null  int64  \n",
      " 4   4       47830 non-null  int64  \n",
      "dtypes: float64(1), int64(2), object(2)\n",
      "memory usage: 1.8+ MB\n",
      "\n",
      "\n",
      "\n",
      "ExpertAnnotations\n"
     ]
    },
    {
     "data": {
      "text/html": [
       "<div>\n",
       "<style scoped>\n",
       "    .dataframe tbody tr th:only-of-type {\n",
       "        vertical-align: middle;\n",
       "    }\n",
       "\n",
       "    .dataframe tbody tr th {\n",
       "        vertical-align: top;\n",
       "    }\n",
       "\n",
       "    .dataframe thead th {\n",
       "        text-align: right;\n",
       "    }\n",
       "</style>\n",
       "<table border=\"1\" class=\"dataframe\">\n",
       "  <thead>\n",
       "    <tr style=\"text-align: right;\">\n",
       "      <th></th>\n",
       "      <th>0</th>\n",
       "      <th>1</th>\n",
       "      <th>2</th>\n",
       "      <th>3</th>\n",
       "      <th>4</th>\n",
       "    </tr>\n",
       "  </thead>\n",
       "  <tbody>\n",
       "    <tr>\n",
       "      <th>0</th>\n",
       "      <td>1056338697_4f7d7ce270.jpg</td>\n",
       "      <td>2549968784_39bfbe44f9.jpg#2</td>\n",
       "      <td>1</td>\n",
       "      <td>1</td>\n",
       "      <td>1</td>\n",
       "    </tr>\n",
       "    <tr>\n",
       "      <th>1</th>\n",
       "      <td>1056338697_4f7d7ce270.jpg</td>\n",
       "      <td>2718495608_d8533e3ac5.jpg#2</td>\n",
       "      <td>1</td>\n",
       "      <td>1</td>\n",
       "      <td>2</td>\n",
       "    </tr>\n",
       "    <tr>\n",
       "      <th>2</th>\n",
       "      <td>1056338697_4f7d7ce270.jpg</td>\n",
       "      <td>3181701312_70a379ab6e.jpg#2</td>\n",
       "      <td>1</td>\n",
       "      <td>1</td>\n",
       "      <td>2</td>\n",
       "    </tr>\n",
       "    <tr>\n",
       "      <th>3</th>\n",
       "      <td>1056338697_4f7d7ce270.jpg</td>\n",
       "      <td>3207358897_bfa61fa3c6.jpg#2</td>\n",
       "      <td>1</td>\n",
       "      <td>2</td>\n",
       "      <td>2</td>\n",
       "    </tr>\n",
       "    <tr>\n",
       "      <th>4</th>\n",
       "      <td>1056338697_4f7d7ce270.jpg</td>\n",
       "      <td>3286822339_5535af6b93.jpg#2</td>\n",
       "      <td>1</td>\n",
       "      <td>1</td>\n",
       "      <td>2</td>\n",
       "    </tr>\n",
       "    <tr>\n",
       "      <th>5</th>\n",
       "      <td>1056338697_4f7d7ce270.jpg</td>\n",
       "      <td>3360930596_1e75164ce6.jpg#2</td>\n",
       "      <td>1</td>\n",
       "      <td>1</td>\n",
       "      <td>1</td>\n",
       "    </tr>\n",
       "    <tr>\n",
       "      <th>6</th>\n",
       "      <td>1056338697_4f7d7ce270.jpg</td>\n",
       "      <td>3545652636_0746537307.jpg#2</td>\n",
       "      <td>1</td>\n",
       "      <td>1</td>\n",
       "      <td>1</td>\n",
       "    </tr>\n",
       "    <tr>\n",
       "      <th>7</th>\n",
       "      <td>1056338697_4f7d7ce270.jpg</td>\n",
       "      <td>434792818_56375e203f.jpg#2</td>\n",
       "      <td>1</td>\n",
       "      <td>1</td>\n",
       "      <td>2</td>\n",
       "    </tr>\n",
       "    <tr>\n",
       "      <th>8</th>\n",
       "      <td>106490881_5a2dd9b7bd.jpg</td>\n",
       "      <td>1425069308_488e5fcf9d.jpg#2</td>\n",
       "      <td>1</td>\n",
       "      <td>1</td>\n",
       "      <td>1</td>\n",
       "    </tr>\n",
       "    <tr>\n",
       "      <th>9</th>\n",
       "      <td>106490881_5a2dd9b7bd.jpg</td>\n",
       "      <td>1714316707_8bbaa2a2ba.jpg#2</td>\n",
       "      <td>2</td>\n",
       "      <td>2</td>\n",
       "      <td>2</td>\n",
       "    </tr>\n",
       "  </tbody>\n",
       "</table>\n",
       "</div>"
      ],
      "text/plain": [
       "                           0                            1  2  3  4\n",
       "0  1056338697_4f7d7ce270.jpg  2549968784_39bfbe44f9.jpg#2  1  1  1\n",
       "1  1056338697_4f7d7ce270.jpg  2718495608_d8533e3ac5.jpg#2  1  1  2\n",
       "2  1056338697_4f7d7ce270.jpg  3181701312_70a379ab6e.jpg#2  1  1  2\n",
       "3  1056338697_4f7d7ce270.jpg  3207358897_bfa61fa3c6.jpg#2  1  2  2\n",
       "4  1056338697_4f7d7ce270.jpg  3286822339_5535af6b93.jpg#2  1  1  2\n",
       "5  1056338697_4f7d7ce270.jpg  3360930596_1e75164ce6.jpg#2  1  1  1\n",
       "6  1056338697_4f7d7ce270.jpg  3545652636_0746537307.jpg#2  1  1  1\n",
       "7  1056338697_4f7d7ce270.jpg   434792818_56375e203f.jpg#2  1  1  2\n",
       "8   106490881_5a2dd9b7bd.jpg  1425069308_488e5fcf9d.jpg#2  1  1  1\n",
       "9   106490881_5a2dd9b7bd.jpg  1714316707_8bbaa2a2ba.jpg#2  2  2  2"
      ]
     },
     "metadata": {},
     "output_type": "display_data"
    },
    {
     "name": "stdout",
     "output_type": "stream",
     "text": [
      "<class 'pandas.core.frame.DataFrame'>\n",
      "RangeIndex: 5822 entries, 0 to 5821\n",
      "Data columns (total 5 columns):\n",
      " #   Column  Non-Null Count  Dtype \n",
      "---  ------  --------------  ----- \n",
      " 0   0       5822 non-null   object\n",
      " 1   1       5822 non-null   object\n",
      " 2   2       5822 non-null   int64 \n",
      " 3   3       5822 non-null   int64 \n",
      " 4   4       5822 non-null   int64 \n",
      "dtypes: int64(3), object(2)\n",
      "memory usage: 227.6+ KB\n",
      "\n",
      "\n",
      "\n",
      "test_queries\n"
     ]
    },
    {
     "data": {
      "text/html": [
       "<div>\n",
       "<style scoped>\n",
       "    .dataframe tbody tr th:only-of-type {\n",
       "        vertical-align: middle;\n",
       "    }\n",
       "\n",
       "    .dataframe tbody tr th {\n",
       "        vertical-align: top;\n",
       "    }\n",
       "\n",
       "    .dataframe thead th {\n",
       "        text-align: right;\n",
       "    }\n",
       "</style>\n",
       "<table border=\"1\" class=\"dataframe\">\n",
       "  <thead>\n",
       "    <tr style=\"text-align: right;\">\n",
       "      <th></th>\n",
       "      <th>query_id</th>\n",
       "      <th>query_text</th>\n",
       "      <th>image</th>\n",
       "    </tr>\n",
       "  </thead>\n",
       "  <tbody>\n",
       "    <tr>\n",
       "      <th>0</th>\n",
       "      <td>1177994172_10d143cb8d.jpg#0</td>\n",
       "      <td>Two blonde boys , one in a camouflage shirt an...</td>\n",
       "      <td>1177994172_10d143cb8d.jpg</td>\n",
       "    </tr>\n",
       "    <tr>\n",
       "      <th>1</th>\n",
       "      <td>1177994172_10d143cb8d.jpg#1</td>\n",
       "      <td>Two boys are squirting water guns at each other .</td>\n",
       "      <td>1177994172_10d143cb8d.jpg</td>\n",
       "    </tr>\n",
       "    <tr>\n",
       "      <th>2</th>\n",
       "      <td>1177994172_10d143cb8d.jpg#2</td>\n",
       "      <td>Two boys spraying each other with water</td>\n",
       "      <td>1177994172_10d143cb8d.jpg</td>\n",
       "    </tr>\n",
       "    <tr>\n",
       "      <th>3</th>\n",
       "      <td>1177994172_10d143cb8d.jpg#3</td>\n",
       "      <td>Two children wearing jeans squirt water at eac...</td>\n",
       "      <td>1177994172_10d143cb8d.jpg</td>\n",
       "    </tr>\n",
       "    <tr>\n",
       "      <th>4</th>\n",
       "      <td>1177994172_10d143cb8d.jpg#4</td>\n",
       "      <td>Two young boys are squirting water at each oth...</td>\n",
       "      <td>1177994172_10d143cb8d.jpg</td>\n",
       "    </tr>\n",
       "    <tr>\n",
       "      <th>5</th>\n",
       "      <td>1232148178_4f45cc3284.jpg#0</td>\n",
       "      <td>A baby girl playing at a park .</td>\n",
       "      <td>1232148178_4f45cc3284.jpg</td>\n",
       "    </tr>\n",
       "    <tr>\n",
       "      <th>6</th>\n",
       "      <td>1232148178_4f45cc3284.jpg#1</td>\n",
       "      <td>A closeup of a child on a playground with adul...</td>\n",
       "      <td>1232148178_4f45cc3284.jpg</td>\n",
       "    </tr>\n",
       "    <tr>\n",
       "      <th>7</th>\n",
       "      <td>1232148178_4f45cc3284.jpg#2</td>\n",
       "      <td>A young boy poses for a picture in front of a ...</td>\n",
       "      <td>1232148178_4f45cc3284.jpg</td>\n",
       "    </tr>\n",
       "    <tr>\n",
       "      <th>8</th>\n",
       "      <td>1232148178_4f45cc3284.jpg#3</td>\n",
       "      <td>A young girl is smiling in front of the camera...</td>\n",
       "      <td>1232148178_4f45cc3284.jpg</td>\n",
       "    </tr>\n",
       "    <tr>\n",
       "      <th>9</th>\n",
       "      <td>1232148178_4f45cc3284.jpg#4</td>\n",
       "      <td>There is a little blond hair girl with a green...</td>\n",
       "      <td>1232148178_4f45cc3284.jpg</td>\n",
       "    </tr>\n",
       "  </tbody>\n",
       "</table>\n",
       "</div>"
      ],
      "text/plain": [
       "                      query_id  \\\n",
       "0  1177994172_10d143cb8d.jpg#0   \n",
       "1  1177994172_10d143cb8d.jpg#1   \n",
       "2  1177994172_10d143cb8d.jpg#2   \n",
       "3  1177994172_10d143cb8d.jpg#3   \n",
       "4  1177994172_10d143cb8d.jpg#4   \n",
       "5  1232148178_4f45cc3284.jpg#0   \n",
       "6  1232148178_4f45cc3284.jpg#1   \n",
       "7  1232148178_4f45cc3284.jpg#2   \n",
       "8  1232148178_4f45cc3284.jpg#3   \n",
       "9  1232148178_4f45cc3284.jpg#4   \n",
       "\n",
       "                                          query_text  \\\n",
       "0  Two blonde boys , one in a camouflage shirt an...   \n",
       "1  Two boys are squirting water guns at each other .   \n",
       "2            Two boys spraying each other with water   \n",
       "3  Two children wearing jeans squirt water at eac...   \n",
       "4  Two young boys are squirting water at each oth...   \n",
       "5                    A baby girl playing at a park .   \n",
       "6  A closeup of a child on a playground with adul...   \n",
       "7  A young boy poses for a picture in front of a ...   \n",
       "8  A young girl is smiling in front of the camera...   \n",
       "9  There is a little blond hair girl with a green...   \n",
       "\n",
       "                       image  \n",
       "0  1177994172_10d143cb8d.jpg  \n",
       "1  1177994172_10d143cb8d.jpg  \n",
       "2  1177994172_10d143cb8d.jpg  \n",
       "3  1177994172_10d143cb8d.jpg  \n",
       "4  1177994172_10d143cb8d.jpg  \n",
       "5  1232148178_4f45cc3284.jpg  \n",
       "6  1232148178_4f45cc3284.jpg  \n",
       "7  1232148178_4f45cc3284.jpg  \n",
       "8  1232148178_4f45cc3284.jpg  \n",
       "9  1232148178_4f45cc3284.jpg  "
      ]
     },
     "metadata": {},
     "output_type": "display_data"
    },
    {
     "name": "stdout",
     "output_type": "stream",
     "text": [
      "<class 'pandas.core.frame.DataFrame'>\n",
      "Index: 500 entries, 0 to 499\n",
      "Data columns (total 3 columns):\n",
      " #   Column      Non-Null Count  Dtype \n",
      "---  ------      --------------  ----- \n",
      " 0   query_id    500 non-null    object\n",
      " 1   query_text  500 non-null    object\n",
      " 2   image       500 non-null    object\n",
      "dtypes: object(3)\n",
      "memory usage: 15.6+ KB\n",
      "\n",
      "\n",
      "\n",
      "test_images\n"
     ]
    },
    {
     "data": {
      "text/html": [
       "<div>\n",
       "<style scoped>\n",
       "    .dataframe tbody tr th:only-of-type {\n",
       "        vertical-align: middle;\n",
       "    }\n",
       "\n",
       "    .dataframe tbody tr th {\n",
       "        vertical-align: top;\n",
       "    }\n",
       "\n",
       "    .dataframe thead th {\n",
       "        text-align: right;\n",
       "    }\n",
       "</style>\n",
       "<table border=\"1\" class=\"dataframe\">\n",
       "  <thead>\n",
       "    <tr style=\"text-align: right;\">\n",
       "      <th></th>\n",
       "      <th>image</th>\n",
       "    </tr>\n",
       "  </thead>\n",
       "  <tbody>\n",
       "    <tr>\n",
       "      <th>0</th>\n",
       "      <td>3356748019_2251399314.jpg</td>\n",
       "    </tr>\n",
       "    <tr>\n",
       "      <th>1</th>\n",
       "      <td>2887171449_f54a2b9f39.jpg</td>\n",
       "    </tr>\n",
       "    <tr>\n",
       "      <th>2</th>\n",
       "      <td>3089107423_81a24eaf18.jpg</td>\n",
       "    </tr>\n",
       "    <tr>\n",
       "      <th>3</th>\n",
       "      <td>1429546659_44cb09cbe2.jpg</td>\n",
       "    </tr>\n",
       "    <tr>\n",
       "      <th>4</th>\n",
       "      <td>1177994172_10d143cb8d.jpg</td>\n",
       "    </tr>\n",
       "    <tr>\n",
       "      <th>5</th>\n",
       "      <td>424307754_1e2f44d265.jpg</td>\n",
       "    </tr>\n",
       "    <tr>\n",
       "      <th>6</th>\n",
       "      <td>3044359043_627488ddf0.jpg</td>\n",
       "    </tr>\n",
       "    <tr>\n",
       "      <th>7</th>\n",
       "      <td>3396275223_ee080df8b5.jpg</td>\n",
       "    </tr>\n",
       "    <tr>\n",
       "      <th>8</th>\n",
       "      <td>2977379863_2e8d7a104e.jpg</td>\n",
       "    </tr>\n",
       "    <tr>\n",
       "      <th>9</th>\n",
       "      <td>634891010_9fa189effb.jpg</td>\n",
       "    </tr>\n",
       "  </tbody>\n",
       "</table>\n",
       "</div>"
      ],
      "text/plain": [
       "                       image\n",
       "0  3356748019_2251399314.jpg\n",
       "1  2887171449_f54a2b9f39.jpg\n",
       "2  3089107423_81a24eaf18.jpg\n",
       "3  1429546659_44cb09cbe2.jpg\n",
       "4  1177994172_10d143cb8d.jpg\n",
       "5   424307754_1e2f44d265.jpg\n",
       "6  3044359043_627488ddf0.jpg\n",
       "7  3396275223_ee080df8b5.jpg\n",
       "8  2977379863_2e8d7a104e.jpg\n",
       "9   634891010_9fa189effb.jpg"
      ]
     },
     "metadata": {},
     "output_type": "display_data"
    },
    {
     "name": "stdout",
     "output_type": "stream",
     "text": [
      "<class 'pandas.core.frame.DataFrame'>\n",
      "RangeIndex: 100 entries, 0 to 99\n",
      "Data columns (total 1 columns):\n",
      " #   Column  Non-Null Count  Dtype \n",
      "---  ------  --------------  ----- \n",
      " 0   image   100 non-null    object\n",
      "dtypes: object(1)\n",
      "memory usage: 932.0+ bytes\n",
      "\n",
      "\n",
      "\n"
     ]
    }
   ],
   "source": [
    "def display_table_info(name, data):\n",
    "    print(name)\n",
    "    display(data.head(10))\n",
    "    data.info()\n",
    "    print('')\n",
    "    print('')\n",
    "    print('')\n",
    "\n",
    "display_table_info('train_dataset', train_dataset)\n",
    "display_table_info('CrowdAnnotations', CrowdAnnotations)\n",
    "display_table_info('ExpertAnnotations', ExpertAnnotations)\n",
    "display_table_info('test_queries', test_queries)\n",
    "display_table_info('test_images', test_images)"
   ]
  },
  {
   "cell_type": "markdown",
   "id": "3fed8d26",
   "metadata": {
    "id": "3fed8d26"
   },
   "source": [
    "Добавим обобщенную экспертную оценку. В качестве результата возьмем, как предлагается, мнение большинства. Если показания у всех экспертов разные, оставим результат пустым и удалим в последствии эти строки.\n",
    "\n",
    "Напишем функцию, получающую на вход строку из датасета, а возвращающую результат обобщения"
   ]
  },
  {
   "cell_type": "code",
   "execution_count": 5,
   "id": "275a82da",
   "metadata": {
    "id": "275a82da"
   },
   "outputs": [],
   "source": [
    "def result_exp(str_in):\n",
    "    res=[0,0,0,0]\n",
    "    for i in range(0,3):\n",
    "        res[int(str_in[i+2]-1)]+=1\n",
    "    if max(res) == 1:\n",
    "        return None\n",
    "    else:\n",
    "        try:\n",
    "            return res.index(max(res))+1\n",
    "        except:\n",
    "            print('ERROR')\n",
    "            return None"
   ]
  },
  {
   "cell_type": "code",
   "execution_count": 6,
   "id": "3fcc4ec6",
   "metadata": {
    "id": "3fcc4ec6"
   },
   "outputs": [],
   "source": [
    "#ExpertAnnotations[5] = ExpertAnnotations.apply(result_exp, axis=1)\n",
    "#ExpertAnnotations = ExpertAnnotations.dropna()"
   ]
  },
  {
   "cell_type": "code",
   "execution_count": 7,
   "id": "90827f4f",
   "metadata": {
    "id": "90827f4f",
    "outputId": "e75d2760-7e24-4cfe-bde0-eefdef2ffc7c",
    "scrolled": false
   },
   "outputs": [],
   "source": [
    "#ExpertAnnotations.info()"
   ]
  },
  {
   "cell_type": "code",
   "execution_count": 8,
   "id": "7befc09d",
   "metadata": {
    "id": "7befc09d"
   },
   "outputs": [],
   "source": [
    "#train_dataset = train_dataset.iloc[ExpertAnnotations.index]"
   ]
  },
  {
   "cell_type": "code",
   "execution_count": 9,
   "id": "33680268",
   "metadata": {},
   "outputs": [
    {
     "data": {
      "text/plain": [
       "0"
      ]
     },
     "execution_count": 9,
     "metadata": {},
     "output_type": "execute_result"
    }
   ],
   "source": [
    "train_dataset.duplicated().sum()\n",
    "CrowdAnnotations.duplicated().sum()\n",
    "ExpertAnnotations.duplicated().sum()\n",
    "test_queries.duplicated().sum()\n",
    "test_images.duplicated().sum()"
   ]
  },
  {
   "cell_type": "markdown",
   "id": "17d716ad",
   "metadata": {},
   "source": [
    "Дубликаты отсутствуют"
   ]
  },
  {
   "cell_type": "code",
   "execution_count": 10,
   "id": "91553b5e",
   "metadata": {
    "scrolled": true
   },
   "outputs": [
    {
     "data": {
      "text/html": [
       "<div>\n",
       "<style scoped>\n",
       "    .dataframe tbody tr th:only-of-type {\n",
       "        vertical-align: middle;\n",
       "    }\n",
       "\n",
       "    .dataframe tbody tr th {\n",
       "        vertical-align: top;\n",
       "    }\n",
       "\n",
       "    .dataframe thead th {\n",
       "        text-align: right;\n",
       "    }\n",
       "</style>\n",
       "<table border=\"1\" class=\"dataframe\">\n",
       "  <thead>\n",
       "    <tr style=\"text-align: right;\">\n",
       "      <th></th>\n",
       "      <th>2</th>\n",
       "      <th>3</th>\n",
       "      <th>4</th>\n",
       "    </tr>\n",
       "  </thead>\n",
       "  <tbody>\n",
       "    <tr>\n",
       "      <th>count</th>\n",
       "      <td>47830.000000</td>\n",
       "      <td>47830.000000</td>\n",
       "      <td>47830.000000</td>\n",
       "    </tr>\n",
       "    <tr>\n",
       "      <th>mean</th>\n",
       "      <td>0.068786</td>\n",
       "      <td>0.208488</td>\n",
       "      <td>2.820155</td>\n",
       "    </tr>\n",
       "    <tr>\n",
       "      <th>std</th>\n",
       "      <td>0.207532</td>\n",
       "      <td>0.628898</td>\n",
       "      <td>0.656676</td>\n",
       "    </tr>\n",
       "    <tr>\n",
       "      <th>min</th>\n",
       "      <td>0.000000</td>\n",
       "      <td>0.000000</td>\n",
       "      <td>0.000000</td>\n",
       "    </tr>\n",
       "    <tr>\n",
       "      <th>25%</th>\n",
       "      <td>0.000000</td>\n",
       "      <td>0.000000</td>\n",
       "      <td>3.000000</td>\n",
       "    </tr>\n",
       "    <tr>\n",
       "      <th>50%</th>\n",
       "      <td>0.000000</td>\n",
       "      <td>0.000000</td>\n",
       "      <td>3.000000</td>\n",
       "    </tr>\n",
       "    <tr>\n",
       "      <th>75%</th>\n",
       "      <td>0.000000</td>\n",
       "      <td>0.000000</td>\n",
       "      <td>3.000000</td>\n",
       "    </tr>\n",
       "    <tr>\n",
       "      <th>max</th>\n",
       "      <td>1.000000</td>\n",
       "      <td>5.000000</td>\n",
       "      <td>6.000000</td>\n",
       "    </tr>\n",
       "  </tbody>\n",
       "</table>\n",
       "</div>"
      ],
      "text/plain": [
       "                  2             3             4\n",
       "count  47830.000000  47830.000000  47830.000000\n",
       "mean       0.068786      0.208488      2.820155\n",
       "std        0.207532      0.628898      0.656676\n",
       "min        0.000000      0.000000      0.000000\n",
       "25%        0.000000      0.000000      3.000000\n",
       "50%        0.000000      0.000000      3.000000\n",
       "75%        0.000000      0.000000      3.000000\n",
       "max        1.000000      5.000000      6.000000"
      ]
     },
     "execution_count": 10,
     "metadata": {},
     "output_type": "execute_result"
    }
   ],
   "source": [
    "CrowdAnnotations.describe()"
   ]
  },
  {
   "cell_type": "markdown",
   "id": "1a00997d",
   "metadata": {},
   "source": [
    "Почти 7% из опрошенных подтверждают, что описание соответствует изображению. При этом, имеется максимальное значение — 1, что означает, что есть изображения с описанием, релевантность которого подвердили абсолютно все \"краудсорсеры\"."
   ]
  },
  {
   "cell_type": "code",
   "execution_count": 11,
   "id": "969d0c2a",
   "metadata": {
    "scrolled": false
   },
   "outputs": [
    {
     "data": {
      "text/html": [
       "<div>\n",
       "<style scoped>\n",
       "    .dataframe tbody tr th:only-of-type {\n",
       "        vertical-align: middle;\n",
       "    }\n",
       "\n",
       "    .dataframe tbody tr th {\n",
       "        vertical-align: top;\n",
       "    }\n",
       "\n",
       "    .dataframe thead th {\n",
       "        text-align: right;\n",
       "    }\n",
       "</style>\n",
       "<table border=\"1\" class=\"dataframe\">\n",
       "  <thead>\n",
       "    <tr style=\"text-align: right;\">\n",
       "      <th></th>\n",
       "      <th>2</th>\n",
       "      <th>3</th>\n",
       "      <th>4</th>\n",
       "    </tr>\n",
       "  </thead>\n",
       "  <tbody>\n",
       "    <tr>\n",
       "      <th>count</th>\n",
       "      <td>5822.000000</td>\n",
       "      <td>5822.000000</td>\n",
       "      <td>5822.000000</td>\n",
       "    </tr>\n",
       "    <tr>\n",
       "      <th>mean</th>\n",
       "      <td>1.436620</td>\n",
       "      <td>1.624356</td>\n",
       "      <td>1.881999</td>\n",
       "    </tr>\n",
       "    <tr>\n",
       "      <th>std</th>\n",
       "      <td>0.787084</td>\n",
       "      <td>0.856222</td>\n",
       "      <td>0.904087</td>\n",
       "    </tr>\n",
       "    <tr>\n",
       "      <th>min</th>\n",
       "      <td>1.000000</td>\n",
       "      <td>1.000000</td>\n",
       "      <td>1.000000</td>\n",
       "    </tr>\n",
       "    <tr>\n",
       "      <th>25%</th>\n",
       "      <td>1.000000</td>\n",
       "      <td>1.000000</td>\n",
       "      <td>1.000000</td>\n",
       "    </tr>\n",
       "    <tr>\n",
       "      <th>50%</th>\n",
       "      <td>1.000000</td>\n",
       "      <td>1.000000</td>\n",
       "      <td>2.000000</td>\n",
       "    </tr>\n",
       "    <tr>\n",
       "      <th>75%</th>\n",
       "      <td>2.000000</td>\n",
       "      <td>2.000000</td>\n",
       "      <td>2.000000</td>\n",
       "    </tr>\n",
       "    <tr>\n",
       "      <th>max</th>\n",
       "      <td>4.000000</td>\n",
       "      <td>4.000000</td>\n",
       "      <td>4.000000</td>\n",
       "    </tr>\n",
       "  </tbody>\n",
       "</table>\n",
       "</div>"
      ],
      "text/plain": [
       "                 2            3            4\n",
       "count  5822.000000  5822.000000  5822.000000\n",
       "mean      1.436620     1.624356     1.881999\n",
       "std       0.787084     0.856222     0.904087\n",
       "min       1.000000     1.000000     1.000000\n",
       "25%       1.000000     1.000000     1.000000\n",
       "50%       1.000000     1.000000     2.000000\n",
       "75%       2.000000     2.000000     2.000000\n",
       "max       4.000000     4.000000     4.000000"
      ]
     },
     "execution_count": 11,
     "metadata": {},
     "output_type": "execute_result"
    }
   ],
   "source": [
    "ExpertAnnotations.describe()"
   ]
  },
  {
   "cell_type": "markdown",
   "id": "81b24853",
   "metadata": {},
   "source": [
    " Аномалий не наблюдается.  Третий эксперт ( 4-колонка) оценивает сходство запроса и картинки выше коллег (среднее 1,88 против 1,4 и 1,6, и медиана 2 против единицы у первых двух экспертов)"
   ]
  },
  {
   "cell_type": "code",
   "execution_count": 12,
   "id": "7cee5e58",
   "metadata": {
    "scrolled": false
   },
   "outputs": [
    {
     "data": {
      "text/html": [
       "<div>\n",
       "<style scoped>\n",
       "    .dataframe tbody tr th:only-of-type {\n",
       "        vertical-align: middle;\n",
       "    }\n",
       "\n",
       "    .dataframe tbody tr th {\n",
       "        vertical-align: top;\n",
       "    }\n",
       "\n",
       "    .dataframe thead th {\n",
       "        text-align: right;\n",
       "    }\n",
       "</style>\n",
       "<table border=\"1\" class=\"dataframe\">\n",
       "  <thead>\n",
       "    <tr style=\"text-align: right;\">\n",
       "      <th></th>\n",
       "      <th>query_id</th>\n",
       "      <th>query_text</th>\n",
       "      <th>image</th>\n",
       "    </tr>\n",
       "  </thead>\n",
       "  <tbody>\n",
       "    <tr>\n",
       "      <th>count</th>\n",
       "      <td>500</td>\n",
       "      <td>500</td>\n",
       "      <td>500</td>\n",
       "    </tr>\n",
       "    <tr>\n",
       "      <th>unique</th>\n",
       "      <td>500</td>\n",
       "      <td>500</td>\n",
       "      <td>100</td>\n",
       "    </tr>\n",
       "    <tr>\n",
       "      <th>top</th>\n",
       "      <td>1177994172_10d143cb8d.jpg#0</td>\n",
       "      <td>Two blonde boys , one in a camouflage shirt an...</td>\n",
       "      <td>1177994172_10d143cb8d.jpg</td>\n",
       "    </tr>\n",
       "    <tr>\n",
       "      <th>freq</th>\n",
       "      <td>1</td>\n",
       "      <td>1</td>\n",
       "      <td>5</td>\n",
       "    </tr>\n",
       "  </tbody>\n",
       "</table>\n",
       "</div>"
      ],
      "text/plain": [
       "                           query_id  \\\n",
       "count                           500   \n",
       "unique                          500   \n",
       "top     1177994172_10d143cb8d.jpg#0   \n",
       "freq                              1   \n",
       "\n",
       "                                               query_text  \\\n",
       "count                                                 500   \n",
       "unique                                                500   \n",
       "top     Two blonde boys , one in a camouflage shirt an...   \n",
       "freq                                                    1   \n",
       "\n",
       "                            image  \n",
       "count                         500  \n",
       "unique                        100  \n",
       "top     1177994172_10d143cb8d.jpg  \n",
       "freq                            5  "
      ]
     },
     "execution_count": 12,
     "metadata": {},
     "output_type": "execute_result"
    }
   ],
   "source": [
    "test_queries.describe()"
   ]
  },
  {
   "cell_type": "markdown",
   "id": "7f487e10",
   "metadata": {},
   "source": [
    "100 изображений, по 5 запросов на каждое."
   ]
  },
  {
   "cell_type": "markdown",
   "id": "55d90f90",
   "metadata": {},
   "source": [
    "### ВЫВОДЫ\n",
    "\n",
    " * Проведена загрузка данных и созданы переменные для них.\n",
    " * Обнаружено, что в работе на краудсорсинге соответствие текстового запроса изображению отмечается менее, чем в 7% случаев.\n",
    " * Эксперты в целом также невысоко оценивают соответствие текста изображению, их средние оценки колеблются в диапазоне 1,4-1,9 баллов из 4 и можно сделать вывод что запрос и изображение непохожи.\n",
    " * Экспертных оценок у нас 5822 запросов × 3 эксперта, а краудсорсинговых 47830."
   ]
  },
  {
   "cell_type": "markdown",
   "id": "f9a01ff7",
   "metadata": {
    "id": "17bb86e1"
   },
   "source": [
    "<img src=\"https://upload.wikimedia.org/wikipedia/commons/thumb/8/81/Stop_sign.png/240px-Stop_sign.png\" align=left width=35, heigth=35>\n",
    "<div class=\"alert alert-danger\">\n",
    "Ты познакомился с данными. Пожалуйста, напиши выводы что ты в них увидел.\n",
    "\n",
    "</div>\n"
   ]
  },
  {
   "cell_type": "markdown",
   "id": "62ddc5a2",
   "metadata": {},
   "source": [
    "<div class=\"alert\" style=\"background-color:#ead7f7;color:#8737bf\">\n",
    "    <font size=\"3\"><b>Комментарий студента</b></font>\n",
    "   \n",
    "Дополнено выводами\n",
    "\n",
    "</div>"
   ]
  },
  {
   "cell_type": "markdown",
   "id": "c54b0a92",
   "metadata": {},
   "source": [
    "<img src=\"https://upload.wikimedia.org/wikipedia/commons/b/ba/Warning_sign_4.0.png\" align=left width=44, heigth=33>\n",
    "<div class=\"alert alert-warning\">\n",
    "    \n",
    "Прежде чем приступать к чистке советую тебе провести предобработку. Общая последовательность шагов следующая:\n",
    "    \n",
    " - вначале мы знакомимся с данными и мысленно составляем план, как мы будем \"жонглировать\" доступными данными, чтобы получить итоговый датафрейм, на котором будем учить модели\n",
    " - в рамках реализации этого плана получаем единый датафрейм используя доступные три.\n",
    "    \n",
    "В следующем комментарии подсвечу тебе возможные стратегии использования оценок с плюсами и минусами    \n",
    "    \n",
    "    \n",
    "</div>"
   ]
  },
  {
   "cell_type": "markdown",
   "id": "dced1a65",
   "metadata": {},
   "source": [
    "<img src=\"https://upload.wikimedia.org/wikipedia/commons/b/ba/Warning_sign_4.0.png\" align=left width=44, heigth=33>\n",
    "<div class=\"alert alert-warning\">\n",
    "    \n",
    "В этом проекте есть несколько возможных стратегий работы с обучающими и краудсорс оценками,  вот эти стратегии с плюсами и минусами:\n",
    "   \n",
    "    \n",
    " - использовать соединение через outer, в этом случае, при корректной обработке пропусков мы можем получить более 50К размеченых пар. К плюсам данного подхода можно отнести большое количество данных. Минус - в основном это будут данные, размеченные краудсорсерами, а там качество раметки ниже.\n",
    " - использовать только экспертные оценки. плюс - высокое качество данных (разметка имеет шкалу). Минус - данных меньше.  Поясню по поводу качества разметки на примере: если на изображении одна собака, а в описании \"две собаки бегут по берегу\", то эксперты поставять соответствие 0,6-0,7 (переводя в шкалу 0-1), а краудсорсеры поставят 0.  Но на экспертных оценках модель хотя-бы научится находить собак, а на краудсор оценках ничему не начится.\n",
    "    \n",
    " - использование соединения через left.  Данный подход очевидно проигрывает второму варианту: данных столько же, нужно дополнительно возиться с объединением, но качество разметки снижается.. Но это соответсвует предложениям авторов проекта, поэтому такой подход имеет право на жизнь\n",
    "    \n",
    " - объединение через inner. Тут все плохо - и данных ОЧЕНЬ мало (в два раза меньше, чем использовать только экспертные оценки) и качество у них \"подпорчено\". И навыков по обработке пропусков не получаем.....\n",
    " \n",
    "</div>"
   ]
  },
  {
   "cell_type": "markdown",
   "id": "7cbaa861",
   "metadata": {
    "cellId": "9h91oxwx86d7i8rqt5miv4",
    "execution_id": "4401a0e8-fd2b-479b-9e84-6ffafbcead47",
    "id": "7cbaa861"
   },
   "source": [
    "## 2. Проверка данных\n",
    "\n",
    "В некоторых странах, где работает ваша компания, действуют ограничения по обработке изображений: поисковым сервисам и сервисам, предоставляющим возможность поиска, запрещено без разрешения родителей или законных представителей предоставлять любую информацию, в том числе, но не исключительно тексты, изображения, видео и аудио, содержащие описание, изображение или запись голоса детей. Ребёнком считается любой человек, не достигший 16 лет.\n",
    "\n",
    "В вашем сервисе строго следуют законам стран, в которых работают. Поэтому при попытке посмотреть изображения, запрещённые законодательством, вместо картинок показывается дисклеймер:\n",
    "\n",
    "> This image is unavailable in your country in compliance with local laws\n",
    ">\n",
    "\n",
    "Однако у вас в PoC нет возможности воспользоваться данным функционалом. Поэтому все изображения, которые нарушают данный закон, нужно удалить из обучающей выборки."
   ]
  },
  {
   "cell_type": "code",
   "execution_count": 13,
   "id": "b500bfee",
   "metadata": {},
   "outputs": [],
   "source": [
    "train_dataset['query_text'] = train_dataset['query_text'].str.lower()"
   ]
  },
  {
   "cell_type": "code",
   "execution_count": 14,
   "id": "e958ae31",
   "metadata": {
    "scrolled": true
   },
   "outputs": [],
   "source": [
    "disabled_pipes = [\"parser\",  \"ner\"]\n",
    "nlp = spacy.load(\"en_core_web_sm\", disable=disabled_pipes)"
   ]
  },
  {
   "cell_type": "code",
   "execution_count": 15,
   "id": "b809d415",
   "metadata": {},
   "outputs": [],
   "source": [
    "def clear_text(text):\n",
    "    processed_text = re.sub(r'[^A-Za-z ]', ' ', text)\n",
    "    return ' '.join(processed_text.split())"
   ]
  },
  {
   "cell_type": "code",
   "execution_count": 17,
   "id": "c0489d8b",
   "metadata": {
    "scrolled": true
   },
   "outputs": [
    {
     "name": "stderr",
     "output_type": "stream",
     "text": [
      "100%|██████████████████████████████████████████████████████████████████████████| 5822/5822 [00:00<00:00, 100399.79it/s]\n"
     ]
    }
   ],
   "source": [
    "tqdm.pandas()\n",
    "train_dataset['query_text'] = train_dataset['query_text'].progress_apply(lambda x: clear_text(x))"
   ]
  },
  {
   "cell_type": "code",
   "execution_count": 20,
   "id": "13b30127",
   "metadata": {},
   "outputs": [
    {
     "name": "stderr",
     "output_type": "stream",
     "text": [
      "100%|█████████████████████████████████████████████████████████████████████████████| 5822/5822 [00:10<00:00, 541.08it/s]\n"
     ]
    }
   ],
   "source": [
    "train_dataset['query_text'] = [ \" \".join([i.lemma_ for i in doc]) for doc in tqdm(nlp.pipe(train_dataset['query_text'].values, disable=['ner', 'parser']), total=train_dataset.shape[0])]"
   ]
  },
  {
   "cell_type": "code",
   "execution_count": 21,
   "id": "0a3cac30",
   "metadata": {},
   "outputs": [],
   "source": [
    "def lemmatize(texts):\n",
    "    lemmatized_texts = []\n",
    "    for doc in tqdm(nlp.pipe(texts, disable=['ner', 'parser']), total=len(texts)):\n",
    "        lemmatized_texts.append(\" \".join([i.lemma_ for i in doc]))\n",
    "    return lemmatized_texts"
   ]
  },
  {
   "cell_type": "code",
   "execution_count": 22,
   "id": "aa08a06b",
   "metadata": {},
   "outputs": [],
   "source": [
    "stop_kids = ['child', 'children', 'baby', 'babies', 'girl', 'boy', 'girls', 'boys', 'kid', 'kids', 'juvenile',\n",
    "             'minor', 'minors', 'teen', 'teens', 'teenager', 'teenagers', 'underage', 'infant', 'infants', 'toddler', 'toddlers']"
   ]
  },
  {
   "cell_type": "code",
   "execution_count": 23,
   "id": "b7200dae",
   "metadata": {},
   "outputs": [],
   "source": [
    "def check_kids(row):\n",
    "    text = row.loc['query_text']\n",
    "    for word in text.split():\n",
    "        if word in stop_kids:\n",
    "            return True\n",
    "    return False"
   ]
  },
  {
   "cell_type": "code",
   "execution_count": 25,
   "id": "a5250a7d",
   "metadata": {},
   "outputs": [],
   "source": [
    "# (добавляем столбец) создаем список/таблицу с признаком наличия \"запрещенных\" слов в тексте\n",
    "train_dataset['kids_list'] = train_dataset.apply(check_kids, axis=1)"
   ]
  },
  {
   "cell_type": "code",
   "execution_count": 26,
   "id": "ee9238d3",
   "metadata": {},
   "outputs": [
    {
     "data": {
      "text/html": [
       "<div>\n",
       "<style scoped>\n",
       "    .dataframe tbody tr th:only-of-type {\n",
       "        vertical-align: middle;\n",
       "    }\n",
       "\n",
       "    .dataframe tbody tr th {\n",
       "        vertical-align: top;\n",
       "    }\n",
       "\n",
       "    .dataframe thead th {\n",
       "        text-align: right;\n",
       "    }\n",
       "</style>\n",
       "<table border=\"1\" class=\"dataframe\">\n",
       "  <thead>\n",
       "    <tr style=\"text-align: right;\">\n",
       "      <th></th>\n",
       "      <th>image</th>\n",
       "      <th>query_id</th>\n",
       "      <th>query_text</th>\n",
       "      <th>kids_list</th>\n",
       "    </tr>\n",
       "  </thead>\n",
       "  <tbody>\n",
       "    <tr>\n",
       "      <th>0</th>\n",
       "      <td>1056338697_4f7d7ce270.jpg</td>\n",
       "      <td>2549968784_39bfbe44f9.jpg#2</td>\n",
       "      <td>a young child be wear blue goggle and sit in a...</td>\n",
       "      <td>True</td>\n",
       "    </tr>\n",
       "    <tr>\n",
       "      <th>1</th>\n",
       "      <td>1262583859_653f1469a9.jpg</td>\n",
       "      <td>2549968784_39bfbe44f9.jpg#2</td>\n",
       "      <td>a young child be wear blue goggle and sit in a...</td>\n",
       "      <td>True</td>\n",
       "    </tr>\n",
       "    <tr>\n",
       "      <th>2</th>\n",
       "      <td>2447284966_d6bbdb4b6e.jpg</td>\n",
       "      <td>2549968784_39bfbe44f9.jpg#2</td>\n",
       "      <td>a young child be wear blue goggle and sit in a...</td>\n",
       "      <td>True</td>\n",
       "    </tr>\n",
       "    <tr>\n",
       "      <th>3</th>\n",
       "      <td>2549968784_39bfbe44f9.jpg</td>\n",
       "      <td>2549968784_39bfbe44f9.jpg#2</td>\n",
       "      <td>a young child be wear blue goggle and sit in a...</td>\n",
       "      <td>True</td>\n",
       "    </tr>\n",
       "    <tr>\n",
       "      <th>4</th>\n",
       "      <td>2621415349_ef1a7e73be.jpg</td>\n",
       "      <td>2549968784_39bfbe44f9.jpg#2</td>\n",
       "      <td>a young child be wear blue goggle and sit in a...</td>\n",
       "      <td>True</td>\n",
       "    </tr>\n",
       "    <tr>\n",
       "      <th>5</th>\n",
       "      <td>3030566410_393c36a6c5.jpg</td>\n",
       "      <td>2549968784_39bfbe44f9.jpg#2</td>\n",
       "      <td>a young child be wear blue goggle and sit in a...</td>\n",
       "      <td>True</td>\n",
       "    </tr>\n",
       "    <tr>\n",
       "      <th>6</th>\n",
       "      <td>3155451946_c0862c70cb.jpg</td>\n",
       "      <td>2549968784_39bfbe44f9.jpg#2</td>\n",
       "      <td>a young child be wear blue goggle and sit in a...</td>\n",
       "      <td>True</td>\n",
       "    </tr>\n",
       "    <tr>\n",
       "      <th>7</th>\n",
       "      <td>3222041930_f642f49d28.jpg</td>\n",
       "      <td>2549968784_39bfbe44f9.jpg#2</td>\n",
       "      <td>a young child be wear blue goggle and sit in a...</td>\n",
       "      <td>True</td>\n",
       "    </tr>\n",
       "    <tr>\n",
       "      <th>8</th>\n",
       "      <td>343218198_1ca90e0734.jpg</td>\n",
       "      <td>2549968784_39bfbe44f9.jpg#2</td>\n",
       "      <td>a young child be wear blue goggle and sit in a...</td>\n",
       "      <td>True</td>\n",
       "    </tr>\n",
       "    <tr>\n",
       "      <th>9</th>\n",
       "      <td>3718964174_cb2dc1615e.jpg</td>\n",
       "      <td>2549968784_39bfbe44f9.jpg#2</td>\n",
       "      <td>a young child be wear blue goggle and sit in a...</td>\n",
       "      <td>True</td>\n",
       "    </tr>\n",
       "    <tr>\n",
       "      <th>10</th>\n",
       "      <td>3741827382_71e93298d0.jpg</td>\n",
       "      <td>2549968784_39bfbe44f9.jpg#2</td>\n",
       "      <td>a young child be wear blue goggle and sit in a...</td>\n",
       "      <td>True</td>\n",
       "    </tr>\n",
       "    <tr>\n",
       "      <th>11</th>\n",
       "      <td>486712504_36be449055.jpg</td>\n",
       "      <td>2549968784_39bfbe44f9.jpg#2</td>\n",
       "      <td>a young child be wear blue goggle and sit in a...</td>\n",
       "      <td>True</td>\n",
       "    </tr>\n",
       "    <tr>\n",
       "      <th>12</th>\n",
       "      <td>1056338697_4f7d7ce270.jpg</td>\n",
       "      <td>2718495608_d8533e3ac5.jpg#2</td>\n",
       "      <td>a girl wear a yellow shirt and sunglass smile</td>\n",
       "      <td>True</td>\n",
       "    </tr>\n",
       "    <tr>\n",
       "      <th>13</th>\n",
       "      <td>1167669558_87a8a467d6.jpg</td>\n",
       "      <td>2718495608_d8533e3ac5.jpg#2</td>\n",
       "      <td>a girl wear a yellow shirt and sunglass smile</td>\n",
       "      <td>True</td>\n",
       "    </tr>\n",
       "    <tr>\n",
       "      <th>14</th>\n",
       "      <td>2616643090_4f2d2d1a44.jpg</td>\n",
       "      <td>2718495608_d8533e3ac5.jpg#2</td>\n",
       "      <td>a girl wear a yellow shirt and sunglass smile</td>\n",
       "      <td>True</td>\n",
       "    </tr>\n",
       "    <tr>\n",
       "      <th>15</th>\n",
       "      <td>2648165716_02e2e74fd6.jpg</td>\n",
       "      <td>2718495608_d8533e3ac5.jpg#2</td>\n",
       "      <td>a girl wear a yellow shirt and sunglass smile</td>\n",
       "      <td>True</td>\n",
       "    </tr>\n",
       "    <tr>\n",
       "      <th>16</th>\n",
       "      <td>2718495608_d8533e3ac5.jpg</td>\n",
       "      <td>2718495608_d8533e3ac5.jpg#2</td>\n",
       "      <td>a girl wear a yellow shirt and sunglass smile</td>\n",
       "      <td>True</td>\n",
       "    </tr>\n",
       "    <tr>\n",
       "      <th>17</th>\n",
       "      <td>3244747165_17028936e0.jpg</td>\n",
       "      <td>2718495608_d8533e3ac5.jpg#2</td>\n",
       "      <td>a girl wear a yellow shirt and sunglass smile</td>\n",
       "      <td>True</td>\n",
       "    </tr>\n",
       "    <tr>\n",
       "      <th>18</th>\n",
       "      <td>3503689049_63212220be.jpg</td>\n",
       "      <td>2718495608_d8533e3ac5.jpg#2</td>\n",
       "      <td>a girl wear a yellow shirt and sunglass smile</td>\n",
       "      <td>True</td>\n",
       "    </tr>\n",
       "    <tr>\n",
       "      <th>19</th>\n",
       "      <td>3506560025_8d0f4f9ac4.jpg</td>\n",
       "      <td>2718495608_d8533e3ac5.jpg#2</td>\n",
       "      <td>a girl wear a yellow shirt and sunglass smile</td>\n",
       "      <td>True</td>\n",
       "    </tr>\n",
       "    <tr>\n",
       "      <th>20</th>\n",
       "      <td>3718964174_cb2dc1615e.jpg</td>\n",
       "      <td>2718495608_d8533e3ac5.jpg#2</td>\n",
       "      <td>a girl wear a yellow shirt and sunglass smile</td>\n",
       "      <td>True</td>\n",
       "    </tr>\n",
       "    <tr>\n",
       "      <th>21</th>\n",
       "      <td>700884207_d3ec546494.jpg</td>\n",
       "      <td>2718495608_d8533e3ac5.jpg#2</td>\n",
       "      <td>a girl wear a yellow shirt and sunglass smile</td>\n",
       "      <td>True</td>\n",
       "    </tr>\n",
       "    <tr>\n",
       "      <th>22</th>\n",
       "      <td>1056338697_4f7d7ce270.jpg</td>\n",
       "      <td>3181701312_70a379ab6e.jpg#2</td>\n",
       "      <td>a man sleep under a blanket on a city street</td>\n",
       "      <td>False</td>\n",
       "    </tr>\n",
       "    <tr>\n",
       "      <th>23</th>\n",
       "      <td>3187395715_f2940c2b72.jpg</td>\n",
       "      <td>3181701312_70a379ab6e.jpg#2</td>\n",
       "      <td>a man sleep under a blanket on a city street</td>\n",
       "      <td>False</td>\n",
       "    </tr>\n",
       "    <tr>\n",
       "      <th>24</th>\n",
       "      <td>463978865_c87c6ca84c.jpg</td>\n",
       "      <td>3181701312_70a379ab6e.jpg#2</td>\n",
       "      <td>a man sleep under a blanket on a city street</td>\n",
       "      <td>False</td>\n",
       "    </tr>\n",
       "    <tr>\n",
       "      <th>25</th>\n",
       "      <td>488590040_35a3e96c89.jpg</td>\n",
       "      <td>3181701312_70a379ab6e.jpg#2</td>\n",
       "      <td>a man sleep under a blanket on a city street</td>\n",
       "      <td>False</td>\n",
       "    </tr>\n",
       "    <tr>\n",
       "      <th>26</th>\n",
       "      <td>534875358_6ea30d3091.jpg</td>\n",
       "      <td>3181701312_70a379ab6e.jpg#2</td>\n",
       "      <td>a man sleep under a blanket on a city street</td>\n",
       "      <td>False</td>\n",
       "    </tr>\n",
       "    <tr>\n",
       "      <th>27</th>\n",
       "      <td>1056338697_4f7d7ce270.jpg</td>\n",
       "      <td>3207358897_bfa61fa3c6.jpg#2</td>\n",
       "      <td>a woman play with long red ribbon in an empty ...</td>\n",
       "      <td>False</td>\n",
       "    </tr>\n",
       "    <tr>\n",
       "      <th>28</th>\n",
       "      <td>3208074567_ac44aeb3f3.jpg</td>\n",
       "      <td>3207358897_bfa61fa3c6.jpg#2</td>\n",
       "      <td>a woman play with long red ribbon in an empty ...</td>\n",
       "      <td>False</td>\n",
       "    </tr>\n",
       "    <tr>\n",
       "      <th>29</th>\n",
       "      <td>3251976937_20625dc2b8.jpg</td>\n",
       "      <td>3207358897_bfa61fa3c6.jpg#2</td>\n",
       "      <td>a woman play with long red ribbon in an empty ...</td>\n",
       "      <td>False</td>\n",
       "    </tr>\n",
       "  </tbody>\n",
       "</table>\n",
       "</div>"
      ],
      "text/plain": [
       "                        image                     query_id  \\\n",
       "0   1056338697_4f7d7ce270.jpg  2549968784_39bfbe44f9.jpg#2   \n",
       "1   1262583859_653f1469a9.jpg  2549968784_39bfbe44f9.jpg#2   \n",
       "2   2447284966_d6bbdb4b6e.jpg  2549968784_39bfbe44f9.jpg#2   \n",
       "3   2549968784_39bfbe44f9.jpg  2549968784_39bfbe44f9.jpg#2   \n",
       "4   2621415349_ef1a7e73be.jpg  2549968784_39bfbe44f9.jpg#2   \n",
       "5   3030566410_393c36a6c5.jpg  2549968784_39bfbe44f9.jpg#2   \n",
       "6   3155451946_c0862c70cb.jpg  2549968784_39bfbe44f9.jpg#2   \n",
       "7   3222041930_f642f49d28.jpg  2549968784_39bfbe44f9.jpg#2   \n",
       "8    343218198_1ca90e0734.jpg  2549968784_39bfbe44f9.jpg#2   \n",
       "9   3718964174_cb2dc1615e.jpg  2549968784_39bfbe44f9.jpg#2   \n",
       "10  3741827382_71e93298d0.jpg  2549968784_39bfbe44f9.jpg#2   \n",
       "11   486712504_36be449055.jpg  2549968784_39bfbe44f9.jpg#2   \n",
       "12  1056338697_4f7d7ce270.jpg  2718495608_d8533e3ac5.jpg#2   \n",
       "13  1167669558_87a8a467d6.jpg  2718495608_d8533e3ac5.jpg#2   \n",
       "14  2616643090_4f2d2d1a44.jpg  2718495608_d8533e3ac5.jpg#2   \n",
       "15  2648165716_02e2e74fd6.jpg  2718495608_d8533e3ac5.jpg#2   \n",
       "16  2718495608_d8533e3ac5.jpg  2718495608_d8533e3ac5.jpg#2   \n",
       "17  3244747165_17028936e0.jpg  2718495608_d8533e3ac5.jpg#2   \n",
       "18  3503689049_63212220be.jpg  2718495608_d8533e3ac5.jpg#2   \n",
       "19  3506560025_8d0f4f9ac4.jpg  2718495608_d8533e3ac5.jpg#2   \n",
       "20  3718964174_cb2dc1615e.jpg  2718495608_d8533e3ac5.jpg#2   \n",
       "21   700884207_d3ec546494.jpg  2718495608_d8533e3ac5.jpg#2   \n",
       "22  1056338697_4f7d7ce270.jpg  3181701312_70a379ab6e.jpg#2   \n",
       "23  3187395715_f2940c2b72.jpg  3181701312_70a379ab6e.jpg#2   \n",
       "24   463978865_c87c6ca84c.jpg  3181701312_70a379ab6e.jpg#2   \n",
       "25   488590040_35a3e96c89.jpg  3181701312_70a379ab6e.jpg#2   \n",
       "26   534875358_6ea30d3091.jpg  3181701312_70a379ab6e.jpg#2   \n",
       "27  1056338697_4f7d7ce270.jpg  3207358897_bfa61fa3c6.jpg#2   \n",
       "28  3208074567_ac44aeb3f3.jpg  3207358897_bfa61fa3c6.jpg#2   \n",
       "29  3251976937_20625dc2b8.jpg  3207358897_bfa61fa3c6.jpg#2   \n",
       "\n",
       "                                           query_text  kids_list  \n",
       "0   a young child be wear blue goggle and sit in a...       True  \n",
       "1   a young child be wear blue goggle and sit in a...       True  \n",
       "2   a young child be wear blue goggle and sit in a...       True  \n",
       "3   a young child be wear blue goggle and sit in a...       True  \n",
       "4   a young child be wear blue goggle and sit in a...       True  \n",
       "5   a young child be wear blue goggle and sit in a...       True  \n",
       "6   a young child be wear blue goggle and sit in a...       True  \n",
       "7   a young child be wear blue goggle and sit in a...       True  \n",
       "8   a young child be wear blue goggle and sit in a...       True  \n",
       "9   a young child be wear blue goggle and sit in a...       True  \n",
       "10  a young child be wear blue goggle and sit in a...       True  \n",
       "11  a young child be wear blue goggle and sit in a...       True  \n",
       "12      a girl wear a yellow shirt and sunglass smile       True  \n",
       "13      a girl wear a yellow shirt and sunglass smile       True  \n",
       "14      a girl wear a yellow shirt and sunglass smile       True  \n",
       "15      a girl wear a yellow shirt and sunglass smile       True  \n",
       "16      a girl wear a yellow shirt and sunglass smile       True  \n",
       "17      a girl wear a yellow shirt and sunglass smile       True  \n",
       "18      a girl wear a yellow shirt and sunglass smile       True  \n",
       "19      a girl wear a yellow shirt and sunglass smile       True  \n",
       "20      a girl wear a yellow shirt and sunglass smile       True  \n",
       "21      a girl wear a yellow shirt and sunglass smile       True  \n",
       "22       a man sleep under a blanket on a city street      False  \n",
       "23       a man sleep under a blanket on a city street      False  \n",
       "24       a man sleep under a blanket on a city street      False  \n",
       "25       a man sleep under a blanket on a city street      False  \n",
       "26       a man sleep under a blanket on a city street      False  \n",
       "27  a woman play with long red ribbon in an empty ...      False  \n",
       "28  a woman play with long red ribbon in an empty ...      False  \n",
       "29  a woman play with long red ribbon in an empty ...      False  "
      ]
     },
     "execution_count": 26,
     "metadata": {},
     "output_type": "execute_result"
    }
   ],
   "source": [
    "train_dataset.head(30)"
   ]
  },
  {
   "cell_type": "code",
   "execution_count": 30,
   "id": "cc884fbc",
   "metadata": {},
   "outputs": [],
   "source": [
    "# Фильтрация строк, где kids_list = True\n",
    "kids_df = train_dataset[train_dataset['kids_list'] == True]\n",
    "# Составление списка query_id\n",
    "query_id_kids = kids_df['query_id']"
   ]
  },
  {
   "cell_type": "code",
   "execution_count": 31,
   "id": "51aa5923",
   "metadata": {
    "scrolled": true
   },
   "outputs": [
    {
     "data": {
      "text/plain": [
       "0       2549968784_39bfbe44f9.jpg#2\n",
       "1       2549968784_39bfbe44f9.jpg#2\n",
       "2       2549968784_39bfbe44f9.jpg#2\n",
       "3       2549968784_39bfbe44f9.jpg#2\n",
       "4       2549968784_39bfbe44f9.jpg#2\n",
       "                   ...             \n",
       "5802     523985664_c866af4850.jpg#2\n",
       "5803    1352410176_af6b139734.jpg#2\n",
       "5804    1352410176_af6b139734.jpg#2\n",
       "5814    2475162978_2c51048dca.jpg#2\n",
       "5817    2061144717_5b3a1864f0.jpg#2\n",
       "Name: query_id, Length: 1559, dtype: object"
      ]
     },
     "execution_count": 31,
     "metadata": {},
     "output_type": "execute_result"
    }
   ],
   "source": [
    "query_id_kids"
   ]
  },
  {
   "cell_type": "markdown",
   "id": "8964f2b8",
   "metadata": {},
   "source": [
    "Удалим последние два символа, чтобы получить список названий файлов."
   ]
  },
  {
   "cell_type": "code",
   "execution_count": 32,
   "id": "e6b0fb40",
   "metadata": {},
   "outputs": [],
   "source": [
    "query_id_kidslist = [query_id[:-2] for query_id in query_id_kids]"
   ]
  },
  {
   "cell_type": "code",
   "execution_count": 33,
   "id": "5bdc3a73",
   "metadata": {},
   "outputs": [
    {
     "data": {
      "text/plain": [
       "1559"
      ]
     },
     "execution_count": 33,
     "metadata": {},
     "output_type": "execute_result"
    }
   ],
   "source": [
    "len(query_id_kidslist)"
   ]
  },
  {
   "cell_type": "markdown",
   "id": "ef6a675a",
   "metadata": {},
   "source": [
    "Удалим дубликаты названий"
   ]
  },
  {
   "cell_type": "code",
   "execution_count": 34,
   "id": "5f67b3e7",
   "metadata": {},
   "outputs": [],
   "source": [
    "modified_query_id_list = list(set(query_id_kidslist))"
   ]
  },
  {
   "cell_type": "code",
   "execution_count": 35,
   "id": "b17f1768",
   "metadata": {},
   "outputs": [
    {
     "data": {
      "text/plain": [
       "290"
      ]
     },
     "execution_count": 35,
     "metadata": {},
     "output_type": "execute_result"
    }
   ],
   "source": [
    "len(modified_query_id_list)"
   ]
  },
  {
   "cell_type": "code",
   "execution_count": 37,
   "id": "4d7a01d7",
   "metadata": {},
   "outputs": [],
   "source": [
    "df_train_nokids = train_dataset[~train_dataset['image'].isin(modified_query_id_list)]"
   ]
  },
  {
   "cell_type": "code",
   "execution_count": 38,
   "id": "4efa51ff",
   "metadata": {},
   "outputs": [],
   "source": [
    "df_train_nokids = df_train_nokids.reset_index(drop=True)"
   ]
  },
  {
   "cell_type": "code",
   "execution_count": 39,
   "id": "9a8bb1e3",
   "metadata": {
    "scrolled": true
   },
   "outputs": [
    {
     "data": {
      "text/html": [
       "<div>\n",
       "<style scoped>\n",
       "    .dataframe tbody tr th:only-of-type {\n",
       "        vertical-align: middle;\n",
       "    }\n",
       "\n",
       "    .dataframe tbody tr th {\n",
       "        vertical-align: top;\n",
       "    }\n",
       "\n",
       "    .dataframe thead th {\n",
       "        text-align: right;\n",
       "    }\n",
       "</style>\n",
       "<table border=\"1\" class=\"dataframe\">\n",
       "  <thead>\n",
       "    <tr style=\"text-align: right;\">\n",
       "      <th></th>\n",
       "      <th>image</th>\n",
       "      <th>query_id</th>\n",
       "      <th>query_text</th>\n",
       "      <th>kids_list</th>\n",
       "    </tr>\n",
       "  </thead>\n",
       "  <tbody>\n",
       "    <tr>\n",
       "      <th>0</th>\n",
       "      <td>1056338697_4f7d7ce270.jpg</td>\n",
       "      <td>2549968784_39bfbe44f9.jpg#2</td>\n",
       "      <td>a young child be wear blue goggle and sit in a...</td>\n",
       "      <td>True</td>\n",
       "    </tr>\n",
       "    <tr>\n",
       "      <th>1</th>\n",
       "      <td>1262583859_653f1469a9.jpg</td>\n",
       "      <td>2549968784_39bfbe44f9.jpg#2</td>\n",
       "      <td>a young child be wear blue goggle and sit in a...</td>\n",
       "      <td>True</td>\n",
       "    </tr>\n",
       "    <tr>\n",
       "      <th>2</th>\n",
       "      <td>2621415349_ef1a7e73be.jpg</td>\n",
       "      <td>2549968784_39bfbe44f9.jpg#2</td>\n",
       "      <td>a young child be wear blue goggle and sit in a...</td>\n",
       "      <td>True</td>\n",
       "    </tr>\n",
       "    <tr>\n",
       "      <th>3</th>\n",
       "      <td>3155451946_c0862c70cb.jpg</td>\n",
       "      <td>2549968784_39bfbe44f9.jpg#2</td>\n",
       "      <td>a young child be wear blue goggle and sit in a...</td>\n",
       "      <td>True</td>\n",
       "    </tr>\n",
       "    <tr>\n",
       "      <th>4</th>\n",
       "      <td>3222041930_f642f49d28.jpg</td>\n",
       "      <td>2549968784_39bfbe44f9.jpg#2</td>\n",
       "      <td>a young child be wear blue goggle and sit in a...</td>\n",
       "      <td>True</td>\n",
       "    </tr>\n",
       "    <tr>\n",
       "      <th>...</th>\n",
       "      <td>...</td>\n",
       "      <td>...</td>\n",
       "      <td>...</td>\n",
       "      <td>...</td>\n",
       "    </tr>\n",
       "    <tr>\n",
       "      <th>4083</th>\n",
       "      <td>561417861_8e25d0c0e8.jpg</td>\n",
       "      <td>410453140_5401bf659a.jpg#2</td>\n",
       "      <td>a man stand at the entrance of yerba buena cen...</td>\n",
       "      <td>False</td>\n",
       "    </tr>\n",
       "    <tr>\n",
       "      <th>4084</th>\n",
       "      <td>561940436_64d6fc125d.jpg</td>\n",
       "      <td>3157847991_463e006a28.jpg#2</td>\n",
       "      <td>two man in black jacket behind a white handrail</td>\n",
       "      <td>False</td>\n",
       "    </tr>\n",
       "    <tr>\n",
       "      <th>4085</th>\n",
       "      <td>70995350_75d0698839.jpg</td>\n",
       "      <td>3200120942_59cfbb3437.jpg#2</td>\n",
       "      <td>one person be on a ski lift while another snow...</td>\n",
       "      <td>False</td>\n",
       "    </tr>\n",
       "    <tr>\n",
       "      <th>4086</th>\n",
       "      <td>909808296_23c427022d.jpg</td>\n",
       "      <td>2112921744_92bf706805.jpg#2</td>\n",
       "      <td>a dog stand on the side of a grassy cliff</td>\n",
       "      <td>False</td>\n",
       "    </tr>\n",
       "    <tr>\n",
       "      <th>4087</th>\n",
       "      <td>929679367_ff8c7df2ee.jpg</td>\n",
       "      <td>3651971126_309e6a5e22.jpg#2</td>\n",
       "      <td>a blurry photo of two dog</td>\n",
       "      <td>False</td>\n",
       "    </tr>\n",
       "  </tbody>\n",
       "</table>\n",
       "<p>4088 rows × 4 columns</p>\n",
       "</div>"
      ],
      "text/plain": [
       "                          image                     query_id  \\\n",
       "0     1056338697_4f7d7ce270.jpg  2549968784_39bfbe44f9.jpg#2   \n",
       "1     1262583859_653f1469a9.jpg  2549968784_39bfbe44f9.jpg#2   \n",
       "2     2621415349_ef1a7e73be.jpg  2549968784_39bfbe44f9.jpg#2   \n",
       "3     3155451946_c0862c70cb.jpg  2549968784_39bfbe44f9.jpg#2   \n",
       "4     3222041930_f642f49d28.jpg  2549968784_39bfbe44f9.jpg#2   \n",
       "...                         ...                          ...   \n",
       "4083   561417861_8e25d0c0e8.jpg   410453140_5401bf659a.jpg#2   \n",
       "4084   561940436_64d6fc125d.jpg  3157847991_463e006a28.jpg#2   \n",
       "4085    70995350_75d0698839.jpg  3200120942_59cfbb3437.jpg#2   \n",
       "4086   909808296_23c427022d.jpg  2112921744_92bf706805.jpg#2   \n",
       "4087   929679367_ff8c7df2ee.jpg  3651971126_309e6a5e22.jpg#2   \n",
       "\n",
       "                                             query_text  kids_list  \n",
       "0     a young child be wear blue goggle and sit in a...       True  \n",
       "1     a young child be wear blue goggle and sit in a...       True  \n",
       "2     a young child be wear blue goggle and sit in a...       True  \n",
       "3     a young child be wear blue goggle and sit in a...       True  \n",
       "4     a young child be wear blue goggle and sit in a...       True  \n",
       "...                                                 ...        ...  \n",
       "4083  a man stand at the entrance of yerba buena cen...      False  \n",
       "4084    two man in black jacket behind a white handrail      False  \n",
       "4085  one person be on a ski lift while another snow...      False  \n",
       "4086          a dog stand on the side of a grassy cliff      False  \n",
       "4087                          a blurry photo of two dog      False  \n",
       "\n",
       "[4088 rows x 4 columns]"
      ]
     },
     "execution_count": 39,
     "metadata": {},
     "output_type": "execute_result"
    }
   ],
   "source": [
    "df_train_nokids"
   ]
  },
  {
   "cell_type": "markdown",
   "id": "504f172f",
   "metadata": {},
   "source": [
    "Таким образом, мы выполнили фильтрацию тренировочного датасета от изображений с детьми. Осталось 4088 строк из 5818, удалено 1730 строк.\n",
    "\n",
    "Поскольку финальная модель должна обучаться как на текстовых описаниях и оценках, так и на самих изображениях, соединим df, где есть посчитанная по формуле оценка, и df_train_nokids, где есть текст запроса, и при этом нет изображений с детьми. Джойн будем производить по паре значений 'image' и 'query_id'."
   ]
  },
  {
   "cell_type": "code",
   "execution_count": 40,
   "id": "56fe7b72",
   "metadata": {},
   "outputs": [
    {
     "ename": "NameError",
     "evalue": "name 'df' is not defined",
     "output_type": "error",
     "traceback": [
      "\u001b[1;31m---------------------------------------------------------------------------\u001b[0m",
      "\u001b[1;31mNameError\u001b[0m                                 Traceback (most recent call last)",
      "Cell \u001b[1;32mIn[40], line 1\u001b[0m\n\u001b[1;32m----> 1\u001b[0m train_df \u001b[38;5;241m=\u001b[39m pd\u001b[38;5;241m.\u001b[39mmerge(df, df_train_nokids, on\u001b[38;5;241m=\u001b[39m[\u001b[38;5;124m'\u001b[39m\u001b[38;5;124mimage\u001b[39m\u001b[38;5;124m'\u001b[39m, \u001b[38;5;124m'\u001b[39m\u001b[38;5;124mquery_id\u001b[39m\u001b[38;5;124m'\u001b[39m], how\u001b[38;5;241m=\u001b[39m\u001b[38;5;124m'\u001b[39m\u001b[38;5;124minner\u001b[39m\u001b[38;5;124m'\u001b[39m)\n\u001b[0;32m      2\u001b[0m train_df\u001b[38;5;241m.\u001b[39minfo()\n",
      "\u001b[1;31mNameError\u001b[0m: name 'df' is not defined"
     ]
    }
   ],
   "source": [
    "train_df = pd.merge(df, df_train_nokids, on=['image', 'query_id'], how='inner')\n",
    "train_df.info()"
   ]
  },
  {
   "cell_type": "markdown",
   "id": "0e2454c1",
   "metadata": {},
   "source": [
    "<img src=\"https://upload.wikimedia.org/wikipedia/commons/thumb/8/81/Stop_sign.png/240px-Stop_sign.png\" align=left width=35, heigth=35>\n",
    "<div class=\"alert alert-danger\">\n",
    "Ты использовал соединение через inner и как следствие потерял слишком много данных... Пожалуйста выбери любую другую страгетию (в комментарии выше я подробно расписал тебе разные варианты..</div>\n"
   ]
  },
  {
   "cell_type": "markdown",
   "id": "1d4ef807",
   "metadata": {
    "cellId": "ggxcvhmhcm9rshysbjoo4n",
    "execution_id": "d7935f99-48c0-42b8-a227-dd2b2d9b70fc",
    "id": "1d4ef807"
   },
   "source": [
    "## 3. Векторизация изображений\n",
    "\n",
    "Перейдём к векторизации изображений.\n",
    "\n",
    "Самый примитивный способ — прочесть изображение и превратить полученную матрицу в вектор. Такой способ нам не подходит: длина векторов может быть сильно разной, так как размеры изображений разные. Поэтому стоит обратиться к свёрточным сетям: они позволяют \"выделить\" главные компоненты изображений. Как это сделать? Нужно выбрать какую-либо архитектуру, например ResNet-18, посмотреть на слои и исключить полносвязные слои, которые отвечают за конечное предсказание. При этом можно загрузить модель данной архитектуры, предварительно натренированную на датасете ImageNet."
   ]
  },
  {
   "cell_type": "markdown",
   "id": "590205d0",
   "metadata": {
    "cellId": "4wiflhqkew9mq1gq5927e",
    "id": "590205d0"
   },
   "source": [
    "Возьмем архитектуру resnet50 со стандартрными весами (как раз полученными на датасете resnet50 ImageNet). Уберем последние два слоя, чтобы получить на выходе вектор. На примере одного из изображений посмотрим, какой вектор получается."
   ]
  },
  {
   "cell_type": "code",
   "execution_count": null,
   "id": "2ae1847a",
   "metadata": {
    "id": "2ae1847a",
    "outputId": "ee7aa18f-7f67-494d-b598-1f82ec2a2942",
    "scrolled": true
   },
   "outputs": [],
   "source": [
    "resnet = models.resnet50(pretrained=True)\n",
    "\n",
    "for param in resnet.parameters():\n",
    "    param.requires_grad_(False)\n",
    "\n",
    "print(list(resnet.children()))\n",
    "\n",
    "modules = list(resnet.children())[:-1]\n",
    "resnet = nn.Sequential(*modules)\n",
    "\n",
    "resnet.eval()"
   ]
  },
  {
   "cell_type": "markdown",
   "id": "da80bc7f",
   "metadata": {},
   "source": [
    "<img src=\"https://upload.wikimedia.org/wikipedia/commons/b/ba/Warning_sign_4.0.png\" align=left width=44, heigth=33>\n",
    "<div class=\"alert alert-warning\">\n",
    "Ух, какая \"портянка\". Ты точно хочешь выводить все слои модели на несколько экранов?</div>"
   ]
  },
  {
   "cell_type": "code",
   "execution_count": null,
   "id": "a88c0d56",
   "metadata": {
    "id": "a88c0d56"
   },
   "outputs": [],
   "source": [
    "from torchvision import transforms\n",
    "norm = transforms.Normalize(\n",
    "    mean=[0.485, 0.456, 0.406], std=[0.229, 0.224, 0.225])\n",
    "\n",
    "preprocess = transforms.Compose([\n",
    "    transforms.Resize(150),\n",
    "    transforms.CenterCrop(140),\n",
    "    transforms.ToTensor(),\n",
    "    norm,\n",
    "])"
   ]
  },
  {
   "cell_type": "code",
   "execution_count": null,
   "id": "398afd52",
   "metadata": {
    "id": "398afd52"
   },
   "outputs": [],
   "source": [
    "img = Image.open(\"to_upload/train_images/1056338697_4f7d7ce270.jpg\").convert('RGB')"
   ]
  },
  {
   "cell_type": "code",
   "execution_count": null,
   "id": "86d7263b",
   "metadata": {
    "id": "86d7263b",
    "outputId": "464835f1-0616-4bee-805e-5ac2dffa5259",
    "scrolled": true
   },
   "outputs": [],
   "source": [
    "image_tensor = preprocess(img)\n",
    "output_tensor = resnet(image_tensor.unsqueeze(0)).flatten()\n",
    "output_tensor.size()\n",
    "#output_tensor"
   ]
  },
  {
   "cell_type": "markdown",
   "id": "3b07c419",
   "metadata": {
    "id": "3b07c419"
   },
   "source": [
    "Размер выходного вектора без пуллинга был слишком велик, поэтому был уменьшен с помощью пуллинга, чтобы сократить затраты памяти.\n",
    "\n",
    "Превратим все изображения в датасете в вектора с помощью этой модели. Для этого напишем функцию."
   ]
  },
  {
   "cell_type": "code",
   "execution_count": null,
   "id": "1cfea33a",
   "metadata": {
    "id": "1cfea33a"
   },
   "outputs": [],
   "source": [
    "def vect_gen_test(string):\n",
    "    img = Image.open(path+string[0]).convert('RGB')\n",
    "    image_tensor = preprocess(img)\n",
    "    output_tensor = resnet(image_tensor.unsqueeze(0)).flatten()\n",
    "    output_tensor.size()\n",
    "    return output_tensor.numpy()\n",
    "\n",
    "def vect_gen_train(string):\n",
    "    img = Image.open(path+string['image']).convert('RGB')\n",
    "    image_tensor = preprocess(img)\n",
    "    output_tensor = resnet(image_tensor.unsqueeze(0)).flatten()\n",
    "    output_tensor.size()\n",
    "    return output_tensor.numpy()"
   ]
  },
  {
   "cell_type": "code",
   "execution_count": null,
   "id": "f74956cc",
   "metadata": {
    "id": "f74956cc"
   },
   "outputs": [],
   "source": [
    "path=\"to_upload/train_images/\"\n",
    "train_img_vec_arr = np.array(train_data.apply(vect_gen_test, axis=1))\n",
    "\n",
    "#path=\"to_upload/test_images/\"\n",
    "#test_img_vec_arr = np.array(test_queries.apply(vect_gen_train, axis=1))"
   ]
  },
  {
   "cell_type": "markdown",
   "id": "170ae790",
   "metadata": {},
   "source": [
    "<img src=\"https://emojigraph.org/media/apple/check-mark-button_2705.png\" align=left width=33, heigth=33>\n",
    "<div class=\"alert alert-success\">\n",
    " Отлично, вектра для изображений получены👍 </div>"
   ]
  },
  {
   "cell_type": "markdown",
   "id": "e80d2040",
   "metadata": {},
   "source": [
    "<img src=\"https://upload.wikimedia.org/wikipedia/commons/b/ba/Warning_sign_4.0.png\" align=left width=44, heigth=33>\n",
    "<div class=\"alert alert-warning\">\n",
    "Есть технический момент, связанный с оптимальнойстью кода. Конечно, сейчас у тебя слишком маленький датасет и это возможно не критично, но если ты будешь работать с датасетом крупнее, это может стать проблемой. Вообще у нас должно получиться меньше 1000 уникальных изображений (убираем детские). Но в датасете может быть до 40 тысяч записей (в зависимости от выбранной сттарегии), а значит каждое изображение векторизуется по нескольку раз. Чтобы победить это  нужно сильно переписывать код. Но можно использовать декоратор @lru_cahe (попробуй загуглить про него сама, информации очень много). \n",
    "    \n",
    "Ну и конечно же включение GPU тоже может дать вклад в ускорение векторизации.\n",
    "    \n",
    "\n",
    "    from functools import lru_cache\n",
    "    from tqdm.notebook import tqdm\n",
    "    tqdm.pandas()    \n",
    "\n",
    "    @lru_cache(1000)\n",
    "    def pic_vector(img_name):\n",
    "        img = Image.open(path+img_name).convert('RGB')\n",
    "        image_tensor = preprocess(img)\n",
    "        output_tensor = resnet(image_tensor.unsqueeze(0).to(device)).flatten().cpu()\n",
    "        output_tensor.size()\n",
    "        return output_tensor.numpy()    \n",
    "    \n",
    "    device = torch.device(\"cuda\" if torch.cuda.is_available() else \"cpu\")\n",
    "    resnet = resnet.to(device)    \n",
    "\n",
    "    df_train_vectors = df_train['image'].progress_apply(pic_vector)\n",
    "\n",
    "</div>"
   ]
  },
  {
   "cell_type": "markdown",
   "id": "cd9dd49d",
   "metadata": {
    "id": "cd9dd49d"
   },
   "source": [
    "Таким образом мы получили массив векторов в порядке, в котором изображения находятся в train_data и test_images"
   ]
  },
  {
   "cell_type": "markdown",
   "id": "aea53bf6",
   "metadata": {
    "cellId": "z8evfugfch8wpstvnxv0t",
    "execution_id": "028ade1d-49fe-4110-8b13-3c1aecdaa142",
    "id": "aea53bf6"
   },
   "source": [
    "## 4. Векторизация текстов\n",
    "\n",
    "Следующий этап — векторизация текстов. Вы можете поэкспериментировать с несколькими способами векторизации текстов:\n",
    "\n",
    "- tf-idf\n",
    "- word2vec\n",
    "- \\*трансформеры (например Bert)\n",
    "\n",
    "\\* — если вы изучали трансформеры в спринте Машинное обучение для текстов.\n"
   ]
  },
  {
   "cell_type": "markdown",
   "id": "0bd0b514",
   "metadata": {
    "id": "0bd0b514"
   },
   "source": [
    "Воспользуемся tf-idf"
   ]
  },
  {
   "cell_type": "code",
   "execution_count": null,
   "id": "cd7584bd",
   "metadata": {
    "cellId": "5f0eae9yldcozrwh01qp0c",
    "id": "cd7584bd",
    "outputId": "c77e057d-b3ab-4b21-8296-0e8f2b3a0b41"
   },
   "outputs": [],
   "source": [
    "nltk.download('stopwords')\n",
    "stopwords = set(nltk_stopwords.words('english'))"
   ]
  },
  {
   "cell_type": "code",
   "execution_count": null,
   "id": "b747671f",
   "metadata": {
    "cellId": "n64cmotqegij9arvbc7sxf",
    "id": "b747671f",
    "outputId": "b67cad53-92ef-4467-df6c-59bfa90897a0",
    "scrolled": true
   },
   "outputs": [],
   "source": [
    "corpus = train_dataset_clear['lem_query_text']\n",
    "\n",
    "count_tf_idf = TfidfVectorizer(stop_words=list(stopwords))\n",
    "\n",
    "tf_idf_train = count_tf_idf.fit_transform(corpus)\n",
    "\n",
    "print(\"Размер матрицы:\", tf_idf_train.shape)"
   ]
  },
  {
   "cell_type": "markdown",
   "id": "3c430244",
   "metadata": {},
   "source": [
    "<img src=\"https://emojigraph.org/media/apple/check-mark-button_2705.png\" align=left width=33, heigth=33>\n",
    "<div class=\"alert alert-success\">\n",
    " 👍 Вектора для текста получены с помощью TF-IDF. Здесь конечно есть очень тонкий момент, и в другом проекте это мог бы быть красный комментарий. Ты же помнишь, что векторайзеры мы обучаем на обучающем датасете и применяем к валидационому и тестовому. А сейчас ты сделал вектора с использованием всех частей датасета.  Но для этого проекта это должно быть допустимо, т.к. .утечка,повышающая оценку на валидации врядли что-то сильно  испортит.</div>"
   ]
  },
  {
   "cell_type": "markdown",
   "id": "2b51dce0",
   "metadata": {
    "id": "2b51dce0"
   },
   "source": [
    "Теперь можно векторизируем тексты test_queries"
   ]
  },
  {
   "cell_type": "code",
   "execution_count": null,
   "id": "b998c14e",
   "metadata": {
    "id": "b998c14e"
   },
   "outputs": [],
   "source": [
    "corpus = test_queries['query_text'].apply(lemma_clear)"
   ]
  },
  {
   "cell_type": "code",
   "execution_count": null,
   "id": "fe7cdbd0",
   "metadata": {
    "id": "fe7cdbd0"
   },
   "outputs": [],
   "source": [
    "test_queries['lem_query_text'] = corpus"
   ]
  },
  {
   "cell_type": "code",
   "execution_count": null,
   "id": "0ce1737c",
   "metadata": {
    "id": "0ce1737c",
    "outputId": "967bab53-c14d-4e40-a9e4-43bc6a4cd464",
    "scrolled": true
   },
   "outputs": [],
   "source": [
    "corpus = test_queries['lem_query_text']\n",
    "\n",
    "tf_idf_test = count_tf_idf.transform(corpus)\n",
    "\n",
    "print(\"Размер матрицы:\", tf_idf_test.shape)"
   ]
  },
  {
   "cell_type": "markdown",
   "id": "4a06f90e",
   "metadata": {},
   "source": [
    "<img src=\"https://upload.wikimedia.org/wikipedia/commons/b/ba/Warning_sign_4.0.png\" align=left width=44, heigth=33>\n",
    "<div class=\"alert alert-warning\">\n",
    "Нет смысла делать векторизацию тестовых запросов заранее, лучше внести этот функционал внутрь функции для тестирования\n",
    "    \n",
    "    \n",
    "</div>"
   ]
  },
  {
   "cell_type": "markdown",
   "id": "0e96f58c",
   "metadata": {
    "id": "0e96f58c"
   },
   "source": [
    "### 5. Объединение векторов\n",
    "Подготовьте данные для обучения: объедините векторы изображений и векторы текстов с целевой переменной."
   ]
  },
  {
   "cell_type": "markdown",
   "id": "fa5336c9",
   "metadata": {
    "id": "fa5336c9"
   },
   "source": [
    "Чтобы объединить вектора, переведем их в один формат (np.array) и воспользуемся функцией np.hstack"
   ]
  },
  {
   "cell_type": "code",
   "execution_count": null,
   "id": "f6c95c79",
   "metadata": {
    "id": "f6c95c79"
   },
   "outputs": [],
   "source": [
    "train_mass = np.hstack([np.vstack(train_img_vec_arr), tf_idf_train.toarray()])\n"
   ]
  },
  {
   "cell_type": "markdown",
   "id": "39963dc3",
   "metadata": {},
   "source": [
    "<img src=\"https://emojigraph.org/media/apple/check-mark-button_2705.png\" align=left width=33, heigth=33>\n",
    "<div class=\"alert alert-success\">\n",
    " Вектора, полученные из текста и изображения объеденены👍 </div>"
   ]
  },
  {
   "cell_type": "markdown",
   "id": "ea26308a",
   "metadata": {
    "id": "87c8f9ce"
   },
   "source": [
    "<img src=\"https://upload.wikimedia.org/wikipedia/commons/b/ba/Warning_sign_4.0.png\" align=left width=44, heigth=33>\n",
    "<div class=\"alert alert-warning\">\n",
    "Здесь напрашивается небольшой вывод, хотя бы с указанием размерностей полученных признаков.  \n",
    "</div>"
   ]
  },
  {
   "cell_type": "markdown",
   "id": "60bc5668",
   "metadata": {
    "cellId": "97c9jj3s2zjj62vznivsk",
    "execution_id": "1a2d7233-0c79-479a-be63-5787145e3b48",
    "id": "60bc5668"
   },
   "source": [
    "## 6. Обучение модели предсказания соответствия\n",
    "\n",
    "Для обучения разделите датасет на тренировочную и тестовую выборки. Простое случайное разбиение не подходит: нужно исключить попадание изображения и в обучающую, и в тестовую выборки.\n",
    "Для того чтобы учесть изображения при разбиении, можно воспользоваться классом [GroupShuffleSplit](https://scikit-learn.org/stable/modules/generated/sklearn.model_selection.GroupShuffleSplit.html) из библиотеки sklearn.model_selection.\n",
    "\n",
    "Код ниже разбивает датасет на тренировочную и тестовую выборки в пропорции 7:3 так, что строки с одинаковым значением 'group_column' будут содержаться либо в тестовом, либо в тренировочном датасете.\n",
    "\n",
    "```\n",
    "from sklearn.model_selection import GroupShuffleSplit\n",
    "gss = GroupShuffleSplit(n_splits=1, train_size=.7, random_state=42)\n",
    "train_indices, test_indices = next(gss.split(X=df.drop(columns=['target']), y=df['target'], groups=df['group_column']))\n",
    "train_df, test_df = df.loc[train_indices], df.loc[test_indices]\n",
    "\n",
    "```\n",
    "\n",
    "Какую модель использовать — выберите самостоятельно. Также вам предстоит выбрать метрику качества либо реализовать свою."
   ]
  },
  {
   "cell_type": "markdown",
   "id": "a71f0e95",
   "metadata": {},
   "source": [
    "<img src=\"https://upload.wikimedia.org/wikipedia/commons/thumb/8/81/Stop_sign.png/240px-Stop_sign.png\" align=left width=35, heigth=35>\n",
    "<div class=\"alert alert-danger\">\n",
    "В этом задании требуется выбрать основную метрику, которую ты будешь оптимизировать. Пожаулуйста выбери метрику и обоснуй свой выбор.  </div>"
   ]
  },
  {
   "cell_type": "code",
   "execution_count": null,
   "id": "a723a8ad",
   "metadata": {
    "cellId": "v1ntb27jt4z9fazi1y8me",
    "id": "a723a8ad"
   },
   "outputs": [],
   "source": [
    "gss = GroupShuffleSplit(n_splits=1, train_size=.7, random_state=42)\n",
    "train_indexes, test_indexes = next(gss.split(X=train_mass, y=train_data['res'], groups=train_dataset_clear['image']))\n",
    "#train_df, test_df = df.loc[train_indices], df.loc[test_indices]\n",
    "\n",
    "X_train = train_mass[train_indexes]\n",
    "X_test = train_mass[test_indexes]\n",
    "y_train = train_data['res'].loc[train_indexes]\n",
    "y_test = train_data['res'].loc[test_indexes]"
   ]
  },
  {
   "cell_type": "markdown",
   "id": "6409931d",
   "metadata": {},
   "source": [
    "<img src=\"https://emojigraph.org/media/apple/check-mark-button_2705.png\" align=left width=33, heigth=33>\n",
    "<div class=\"alert alert-success\">\n",
    "Отлично, благодаря использованию GroupShuffleSplit ты исключаешь попадание одного изображения в обучающий и валидационный наборы.</div>"
   ]
  },
  {
   "cell_type": "markdown",
   "id": "e466a16f",
   "metadata": {
    "id": "diQyugE-EoPS"
   },
   "source": [
    "<img src=\"https://upload.wikimedia.org/wikipedia/commons/b/ba/Warning_sign_4.0.png\" align=left width=44, heigth=33>\n",
    "<div class=\"alert alert-warning\">\n",
    "Только давай разберемся с выборками. Финальное тестирование (визуальное) мы делаем на отложенной выборке. Поэтому выборка,которую ты сейчас отделил играет роль валидационной. Есть смысл в её названии использовать слово valid а не test</div>"
   ]
  },
  {
   "cell_type": "markdown",
   "id": "b84d9031",
   "metadata": {
    "id": "b84d9031"
   },
   "source": [
    "Для начала создадим и обучим линейную регрессию."
   ]
  },
  {
   "cell_type": "markdown",
   "id": "b3a9c4d7",
   "metadata": {},
   "source": [
    "<img src=\"https://upload.wikimedia.org/wikipedia/commons/b/ba/Warning_sign_4.0.png\" align=left width=44, heigth=33>\n",
    "<div class=\"alert alert-warning\">\n",
    "Мы решаем новую задачу и не знаем, наксколько хороши наши метрики и наши модели. Поэтому советую начать с бейзлайна - константной модели (можешь взять простой DummyRegressor).</div>"
   ]
  },
  {
   "cell_type": "code",
   "execution_count": null,
   "id": "2d9eb16c",
   "metadata": {
    "id": "2d9eb16c",
    "outputId": "a43ced34-5a9a-4a80-d319-88749f56eaf0",
    "scrolled": true
   },
   "outputs": [],
   "source": [
    "model_lr = LinearRegression(positive=True)\n",
    "#param_search = {}\n",
    "#gsearch = GridSearchCV(estimator=model_lr, cv=5, param_grid=param_search, scoring='neg_root_mean_squared_error')\n",
    "#gsearch.fit(X_train, y_train)\n",
    "model_lr.fit(X_train, y_train)"
   ]
  },
  {
   "cell_type": "code",
   "execution_count": null,
   "id": "7f0ca874",
   "metadata": {
    "id": "7f0ca874",
    "outputId": "dea8b35a-cfcb-4c8a-c2bf-046dedd64403"
   },
   "outputs": [],
   "source": [
    "scaler = MinMaxScaler()\n",
    "\n",
    "print(\"RMSE кросс-валидации:\",\n",
    "      mean_squared_error(y_test, scaler.fit_transform(model_lr.predict(X_test).reshape(-1, 1)), squared=False)\n",
    ") #С помощью скейлера приводим результаты к значениям от 0 до 1"
   ]
  },
  {
   "cell_type": "markdown",
   "id": "ee61940b",
   "metadata": {},
   "source": [
    "<img src=\"https://upload.wikimedia.org/wikipedia/commons/thumb/8/81/Stop_sign.png/240px-Stop_sign.png\" align=left width=35, heigth=35>\n",
    "<div class=\"alert alert-danger\">\n",
    "Нельзя применять скаллер к предсказаниям, тем более обучать этот скаллер на этих же предсказаниях.\n",
    "\n",
    "Да, линейная регрессия сильно переобучается. Но давай честно посмотрим правде в глаза и поймем насколько она плоха здесь.\n",
    "</div>"
   ]
  },
  {
   "cell_type": "markdown",
   "id": "6f9b316d",
   "metadata": {
    "id": "6f9b316d"
   },
   "source": [
    "Теперь создадим полносвязную нейронную сеть."
   ]
  },
  {
   "cell_type": "code",
   "execution_count": null,
   "id": "dcc28007",
   "metadata": {
    "id": "dcc28007"
   },
   "outputs": [],
   "source": [
    "X_train = torch.FloatTensor(np.array(X_train))\n",
    "X_test = torch.FloatTensor(np.array(X_test))\n",
    "y_train = torch.FloatTensor(np.array(y_train))\n",
    "y_test = torch.FloatTensor(np.array(y_test))"
   ]
  },
  {
   "cell_type": "code",
   "execution_count": null,
   "id": "d78f050c",
   "metadata": {
    "id": "d78f050c",
    "outputId": "66470575-fc76-410b-d1e8-ffd7d7dd95b5"
   },
   "outputs": [],
   "source": [
    "X_train.shape"
   ]
  },
  {
   "cell_type": "code",
   "execution_count": null,
   "id": "1d84ee92",
   "metadata": {
    "id": "1d84ee92"
   },
   "outputs": [],
   "source": [
    "class Net(nn.Module):\n",
    "    def __init__(self, n_in_neurons, n_hidden_neurons_1, n_hidden_neurons_2, n_hidden_neurons_3, n_hidden_neurons_4, n_out_neurons):\n",
    "            super(Net, self).__init__()\n",
    "\n",
    "            self.fc1 = nn.Linear(n_in_neurons, n_hidden_neurons_1)\n",
    "            self.act1 = nn.ReLU()\n",
    "            #self.do1 = nn.Dropout(p=0.7)\n",
    "            self.fc2 = nn.Linear(n_hidden_neurons_1, n_hidden_neurons_2)\n",
    "            self.act2 = nn.ReLU()\n",
    "            self.fc3 = nn.Linear(n_hidden_neurons_2, n_hidden_neurons_3)\n",
    "            self.act3 = nn.ReLU()\n",
    "            self.fc4 = nn.Linear(n_hidden_neurons_3, n_hidden_neurons_4)\n",
    "            self.act4 = nn.ReLU()\n",
    "            self.fc5 = nn.Linear(n_hidden_neurons_4, n_out_neurons)\n",
    "            self.act5 = nn.Sigmoid()\n",
    "\n",
    "            nn.init.kaiming_uniform_(self.fc1.weight, mode='fan_in', nonlinearity='relu')\n",
    "            nn.init.kaiming_uniform_(self.fc2.weight, mode='fan_in', nonlinearity='relu')\n",
    "            nn.init.kaiming_uniform_(self.fc3.weight, mode='fan_in', nonlinearity='relu')\n",
    "            nn.init.kaiming_uniform_(self.fc4.weight, mode='fan_in', nonlinearity='relu')\n",
    "            nn.init.kaiming_uniform_(self.fc5.weight, mode='fan_in', nonlinearity='sigmoid')\n",
    "\n",
    "    def forward(self, x):\n",
    "        x = self.fc1(x)\n",
    "        x = self.act1(x)\n",
    "        #x = self.do1(x)\n",
    "        x = self.fc2(x)\n",
    "        x = self.act2(x)\n",
    "        x = self.fc3(x)\n",
    "        x = self.act3(x)\n",
    "        x = self.fc4(x)\n",
    "        x = self.act4(x)\n",
    "        x = self.fc5(x)\n",
    "        x = self.act5(x)\n",
    "\n",
    "        return x"
   ]
  },
  {
   "cell_type": "markdown",
   "id": "0f9ab4fa",
   "metadata": {},
   "source": [
    "<img src=\"https://emojigraph.org/media/apple/check-mark-button_2705.png\" align=left width=33, heigth=33>\n",
    "<div class=\"alert alert-success\">\n",
    "Технически все верно. Но учитывая что даже простая модель переобучается я бы озаботился борьбой с переобучением. Возможно начал с более простых архитектур (один - два внутренних слоя, возможно поменьше нейронов).\n",
    "\n",
    "Что касается регуляризации - стоит попробовать dropout (посмотри p в диапазоне 0,1-0,3), но например добавь слои прореживания после каждого внутреннего слоя.\n",
    "    \n",
    "Как альтернативу можно попробовать l1/l2 регуляризацию на веса, в pytorch она реализуется через параметр weight_decay оптимайзера.    \n",
    "\n",
    "</div>"
   ]
  },
  {
   "cell_type": "code",
   "execution_count": null,
   "id": "23f26130",
   "metadata": {
    "id": "23f26130"
   },
   "outputs": [],
   "source": [
    "n_in_neurons = 2800\n",
    "n_hidden_neurons_1 = 1200\n",
    "n_hidden_neurons_2 = 600\n",
    "n_hidden_neurons_3 = 200\n",
    "n_hidden_neurons_4 = 10\n",
    "n_out_neurons = 1\n",
    "\n",
    "\n",
    "\n",
    "net = Net(n_in_neurons, n_hidden_neurons_1, n_hidden_neurons_2, n_hidden_neurons_3, n_hidden_neurons_4, n_out_neurons)\n",
    "\n",
    "#net = nn.Sequential(\n",
    "#    nn.Linear(n_in_neurons, n_hidden_neurons_1),\n",
    "#    nn.ReLU(),\n",
    "#    nn.Linear(n_hidden_neurons_1, n_hidden_neurons_2),\n",
    "#    nn.ReLU(),\n",
    "#    nn.Linear(n_hidden_neurons_2, n_out_neurons)\n",
    "#)\n",
    "\n",
    "optimizer2 = torch.optim.SGD(net.parameters(), lr=1e-3, momentum=0.8)\n",
    "\n",
    "optimizers = [optimizer2]\n",
    "\n",
    "loss = nn.MSELoss()"
   ]
  },
  {
   "cell_type": "code",
   "execution_count": null,
   "id": "e8b04fce",
   "metadata": {
    "id": "e8b04fce",
    "outputId": "9320d77c-4e20-4044-cbb1-4d703c50136b"
   },
   "outputs": [],
   "source": [
    "num_epochs = 900\n",
    "batch_size = 150\n",
    "num_batches = ceil(len(X_train)/batch_size)\n",
    "\n",
    "for optimizer in optimizers:\n",
    "    optimizer_rmse = []\n",
    "    print(f'Оптимизатор {optimizer}:')\n",
    "\n",
    "    for epoch in range(num_epochs):\n",
    "        net.train()\n",
    "        order = np.random.permutation(len(X_train))\n",
    "\n",
    "        for batch_idx in range(num_batches):\n",
    "\n",
    "            start_index = batch_idx * batch_size\n",
    "            optimizer.zero_grad()\n",
    "\n",
    "            batch_indexes = order[start_index : start_index + batch_size]\n",
    "            X_batch = X_train[batch_indexes]\n",
    "            y_batch = y_train[batch_indexes]\n",
    "\n",
    "            preds = net.forward(X_batch.float()).flatten()\n",
    "\n",
    "            loss_value = loss(preds, y_batch)\n",
    "\n",
    "            loss_value.backward()\n",
    "\n",
    "            optimizer.step()\n",
    "\n",
    "        if epoch % 10 == 0 or epoch == num_epochs - 1:\n",
    "            with torch.no_grad():\n",
    "                net.eval()\n",
    "                test_preds = net.forward(X_test).flatten()\n",
    "                #print(test_preds.numpy())\n",
    "                ans = round(float(torch.sqrt(loss(test_preds, y_test))), 2)\n",
    "                print(f'Метрика RMSE на {epoch} итерации =', ans)\n",
    "                optimizer_rmse.append(ans)\n",
    "    print()\n",
    "    print(f'Лучшая метрика RMSE = {min(optimizer_rmse)} обнаружена на {optimizer_rmse.index(min(optimizer_rmse))} эпохе')\n",
    "    print(f'Средняя метрика RMSE = {round(np.mean(optimizer_rmse), 2)}')\n",
    "    print('---------------------------------------------------------------------------------------------', '\\n')"
   ]
  },
  {
   "cell_type": "markdown",
   "id": "2f870d77",
   "metadata": {
    "cellId": "tbnfwg686jpxjdsw7cqbl",
    "execution_id": "5e14c3be-a481-438e-a979-0f4621acea44",
    "id": "2f870d77"
   },
   "source": [
    "## 7. Тестирование модели\n",
    "\n",
    "Настало время протестировать модель. Для этого получите эмбеддинги для всех тестовых изображений из папки `test_images`, выберите случайные 10 запросов из файла `test_queries.csv` и для каждого запроса выведите наиболее релевантное изображение. Сравните визуально качество поиска."
   ]
  },
  {
   "cell_type": "markdown",
   "id": "554f11f1",
   "metadata": {
    "id": "554f11f1"
   },
   "source": [
    "Создадим масив эмбеддингов. Для этого воспользуемся написанной ранее функицей vect_gen_train"
   ]
  },
  {
   "cell_type": "code",
   "execution_count": null,
   "id": "836b4766",
   "metadata": {
    "id": "836b4766"
   },
   "outputs": [],
   "source": [
    "path=\"to_upload/test_images/\"\n",
    "test_images_vec = np.vstack(np.array(test_images.apply(vect_gen_train, axis=1)))"
   ]
  },
  {
   "cell_type": "code",
   "execution_count": null,
   "id": "a4132e26",
   "metadata": {
    "id": "a4132e26"
   },
   "outputs": [],
   "source": [
    "def ten_texts():\n",
    "    texts = []\n",
    "    for i in range(0,10):\n",
    "        texts.append(test_queries.iloc[rd.randint(0, 499)]['query_text'])\n",
    "    return texts"
   ]
  },
  {
   "cell_type": "code",
   "execution_count": null,
   "id": "36dbc48f",
   "metadata": {
    "id": "36dbc48f"
   },
   "outputs": [],
   "source": [
    "def conv_text(text):\n",
    "    corpus_one = lemma_clear(text)\n",
    "    corpus = []\n",
    "    #print(corpus_one)\n",
    "    #print(is_ban_word(corpus_one))\n",
    "    if not is_ban_word(corpus_one):\n",
    "        return None\n",
    "    else:\n",
    "        #tf_idf_one = count_tf_idf.transform(corpus)\n",
    "        for i in range(0,100):\n",
    "            corpus.append(corpus_one)\n",
    "        tf_idf_one = count_tf_idf.transform(corpus)\n",
    "        return(np.hstack([np.vstack(test_images_vec), tf_idf_one.toarray()]))\n",
    "        #return(tf_idf_one)\n",
    "#conv_text('A young man is wearing blue goggles')"
   ]
  },
  {
   "cell_type": "markdown",
   "id": "37447af6",
   "metadata": {
    "id": "37447af6"
   },
   "source": [
    "Теперь можно проводить тестирование. Для этого для каждого из 10 подобраных описаний выведем описание и картинку, которая наберет наибольшее количество \"очков\""
   ]
  },
  {
   "cell_type": "code",
   "execution_count": null,
   "id": "20b55cf8",
   "metadata": {
    "id": "20b55cf8",
    "outputId": "5fd4aa4b-35f5-4e22-d118-090e468d10a5",
    "scrolled": false
   },
   "outputs": [],
   "source": [
    "for item in ten_texts():\n",
    "    print(item)\n",
    "    try:\n",
    "        mass = conv_text(item)\n",
    "        res = net.forward(torch.FloatTensor(mass)).flatten().detach().numpy()\n",
    "        #print(res)\n",
    "        print(res.argmax())\n",
    "        #print(mass.shape)\n",
    "    except:\n",
    "        print('В запросе присутствует запретное слово!')"
   ]
  },
  {
   "cell_type": "markdown",
   "id": "cb0442ff",
   "metadata": {
    "id": "86b59a0c"
   },
   "source": [
    "<img src=\"https://upload.wikimedia.org/wikipedia/commons/thumb/8/81/Stop_sign.png/240px-Stop_sign.png\" align=left width=35, heigth=35>\n",
    "<div class=\"alert alert-danger\">\n",
    "Небольшая формальность - пожалуйста добавь в код функции инфереса, чтобы она кроме изображения и текста  выводила найденную меру близости.\n",
    "\n",
    "Ну и в соответствии с требованиями пожалуйста покажи найденные фото.\n",
    "</div>"
   ]
  },
  {
   "cell_type": "code",
   "execution_count": null,
   "id": "fa866dab",
   "metadata": {},
   "outputs": [],
   "source": [
    "image_show(images, labels, scores)"
   ]
  },
  {
   "cell_type": "markdown",
   "id": "74f0b487",
   "metadata": {
    "id": "55022d4a"
   },
   "source": [
    "<img src=\"https://emojigraph.org/media/apple/check-mark-button_2705.png\" align=left width=33, heigth=33>\n",
    "<div class=\"alert alert-success\">\n",
    "Функции написаны и со своей задачей справляются. Принимают на вход текст и находят изображение. Отрабатывают контроль \"запрещенного контента\".\n",
    "\n",
    "Да, мы столкнулись с тем, что модель выдает одно и то же изображение. Это связано с тем, что модель похоже \"застряла\" в локальном минимуме. Одна из причин такого поведения - использование векторов полученных с помощью TF-IDF, в которых очень много нулей и редко встречаются числа, отличные от нуля. Поэтому модели крайне сложно найти взаимосвязь между такими разноплановыми признаками и таргетом, она слишком быстро переобучается на какие-то другие признаки (тем более и данных у нас немного).\n",
    "    \n",
    "Здесь совет только один - поработать с большим объемом датасета + больше экспериментов с архитетурой модели и попытками обучить её. Может получиться (а может и нет).     \n",
    "</div>"
   ]
  },
  {
   "cell_type": "markdown",
   "id": "2f5104e9",
   "metadata": {
    "id": "98130d7d"
   },
   "source": [
    "<img src=\"http://s3.amazonaws.com/pix.iemoji.com/images/emoji/apple/ios-12/256/waving-hand.png\" align=left width=44, heigth=44>\n",
    "<div class=\"alert alert-info\">\n",
    "<b> Идеи и альтернативные подходы</b>\n",
    "  Если хочешь получить хорошо работающее решение без обучения, то можешь провести эксперимент с нейронной сетью CLIP от OPEN AI (это не обязательно, только если хочешь добиться хороших результатов в этом проекте).\n",
    "\n",
    "  Про эту нейронку много где написано, но можешь посмотреть например вот здесь  https://habr.com/ru/post/539312/.\n",
    "\n",
    "  А для написания  реализации наиболее удобной лично для меня оказалась библиотека sbert. https://www.sbert.net/examples/applications/image-search/README.html  \n",
    "    \n",
    "    \n",
    "<hr>    \n",
    "    \n",
    "Также неплохо работает следующий подход без предобученных моделей (к тому же легко реализуемый).\n",
    "    \n",
    "    \n",
    "Вместо того, чтобы подавать на вход модели изображение + текст и получать меру соответствия, поступаем по другому. \n",
    "    \n",
    "На вход модели подаем вектор описания, а на выходе учимся предсказывать вектор изображения. \n",
    "    \n",
    "По поводу метрик тут ситуация следующая. Точно работает следующий подход\n",
    "    \n",
    "  - берем метрику mse, но тогда нужно чтобы модель её уменьшала. А значит в обучении используем только пары заведомо сответствующие друг другу\n",
    "\n",
    "Можно попробовать использовать косинусное расстояние, она позволяет использовать все данные (если есть соответствие то выдает 1, если нет то 0). \n",
    "    \n",
    "Также можно попробовать усложнить модель, например и изображения и тексты отправлять в пространство размерностью 256 и уже в этом пространстве учиться их \"сближать\".\n",
    "    \n",
    "По поводу методов векторизации: я бы использовать resnet18 для изображений (размерность эмбеддинга избражения 512) и БЕРТ для текстов (768). \n",
    "    \n",
    "***\n",
    "    \n",
    "А еще я видел удачный проект, где для векторизации изображений использовалось предсказание Resnet в котором не отключался последний слой. Получился вектор предсказаний верояятности что изображение принадлежит к каждому из 1000 классов Imagenet. И в сочетании с подходом \"мешок слов\" для текстов это может дать неплохой результа. Такая модель находит людей, собак, машины, снег и т.д.  \n",
    "   \n",
    "</div>"
   ]
  },
  {
   "cell_type": "markdown",
   "id": "2b2c8a5a",
   "metadata": {
    "id": "2b2c8a5a"
   },
   "source": [
    " Модель выдает одно и то же изображение."
   ]
  },
  {
   "cell_type": "markdown",
   "id": "fab1345a",
   "metadata": {
    "cellId": "dnvdkzzxdpet1yc4m64cx",
    "execution_id": "3e367f6a-97e3-4ed7-9b73-39ed363fd2b7",
    "id": "fab1345a"
   },
   "source": [
    "## 8. Выводы\n",
    "\n",
    "- Jupyter Notebook открыт\n",
    "- Весь код выполняется без ошибок\n",
    "- Ячейки с кодом расположены в порядке исполнения\n",
    "- Исследовательский анализ данных выполнен\n",
    "- Проверены экспертные оценки и краудсорсинговые оценки\n",
    "- Из датасета исключены те объекты, которые выходят за рамки юридических ограничений\n",
    "- Изображения векторизованы\n",
    "- Текстовые запросы векторизованы\n",
    "- Данные корректно разбиты на тренировочную и тестовую выборки\n",
    "- Предложена метрика качества работы модели\n",
    "- Предложена модель схожести изображений и текстового запроса\n",
    "- Модель обучена\n",
    "- По итогам обучения модели сделаны выводы\n",
    "- Проведено тестирование работы модели\n",
    "- По итогам тестирования визуально сравнили качество поиска"
   ]
  },
  {
   "cell_type": "markdown",
   "id": "38f189de",
   "metadata": {},
   "source": [
    "<img src=\"http://s3.amazonaws.com/pix.iemoji.com/images/emoji/apple/ios-12/256/waving-hand.png\" align=left width=44, heigth=44>\n",
    "<div class=\"alert alert-info\">\n",
    "<b> Заключительный комментарий</b>\n",
    "\n",
    "Подведем итоги. Я вижу, что в целом с проектом ты справляешься.\n",
    "    \n",
    "Проведено исследование и предобработка данных. Выполнена векторизация изображений и текстовых описаний. Обучены модели для предсказания степени соответствия, а также написана функция для инференса и с её помощью проведено тестирование.\n",
    " \n",
    "    \n",
    "Что нужно доделать обязательно:\n",
    "    \n",
    " - пожалуйста добавь выводы после знакомства с данными\n",
    " - пожалуйста используй альтернативный подход к объединению экспертных и краудсорс оценок (не соединение через inner)\n",
    " - нужно обосновать выбор оптимизируемой метрики\n",
    " - нельзя применять скаллер к предсказаниям, тем более обучать его на них\n",
    " - пожалуйста доработай функцию для инференса\n",
    "    \n",
    "Желтые комментарии на твое усмотрение. Но учитывая что наш подход \"не взлетел\" и нужно хоть что-то показать заказчику, попробуй показать возможный инференс с помщью CLIP. С библиотекой sentence-transformers это делается буквально в 10 строк.    \n",
    "Жду твою работу на повторное ревью.\n",
    "</div>"
   ]
  },
  {
   "cell_type": "markdown",
   "id": "4b41199a",
   "metadata": {},
   "source": []
  },
  {
   "cell_type": "code",
   "execution_count": null,
   "id": "53a4ed51",
   "metadata": {},
   "outputs": [],
   "source": []
  }
 ],
 "metadata": {
  "ExecuteTimeLog": [
   {
    "duration": 76,
    "start_time": "2024-01-04T15:43:09.473Z"
   },
   {
    "duration": 51,
    "start_time": "2024-01-04T15:43:28.852Z"
   },
   {
    "duration": 9,
    "start_time": "2024-01-04T15:43:41.212Z"
   },
   {
    "duration": 3,
    "start_time": "2024-01-04T15:44:06.357Z"
   },
   {
    "duration": 15,
    "start_time": "2024-01-04T15:44:08.746Z"
   },
   {
    "duration": 6,
    "start_time": "2024-01-04T15:44:57.117Z"
   },
   {
    "duration": 275428,
    "start_time": "2024-01-04T15:50:10.739Z"
   },
   {
    "duration": 8471,
    "start_time": "2024-01-04T15:54:46.169Z"
   },
   {
    "duration": 0,
    "start_time": "2024-01-04T15:54:54.643Z"
   },
   {
    "duration": 0,
    "start_time": "2024-01-04T15:54:54.645Z"
   },
   {
    "duration": 404,
    "start_time": "2024-01-04T16:02:18.423Z"
   },
   {
    "duration": 76,
    "start_time": "2024-01-04T16:02:30.678Z"
   },
   {
    "duration": 227632,
    "start_time": "2024-01-05T15:58:16.510Z"
   },
   {
    "duration": 8263,
    "start_time": "2024-01-05T16:02:04.144Z"
   },
   {
    "duration": 244,
    "start_time": "2024-01-05T16:02:12.409Z"
   },
   {
    "duration": 0,
    "start_time": "2024-01-05T16:02:12.655Z"
   },
   {
    "duration": 45,
    "start_time": "2024-01-06T17:13:46.313Z"
   },
   {
    "duration": 4557,
    "start_time": "2024-01-06T17:14:01.322Z"
   },
   {
    "duration": 257556,
    "start_time": "2024-01-06T17:14:23.413Z"
   },
   {
    "duration": 8067,
    "start_time": "2024-01-06T17:18:40.971Z"
   },
   {
    "duration": 238,
    "start_time": "2024-01-06T17:18:49.039Z"
   },
   {
    "duration": 0,
    "start_time": "2024-01-06T17:18:49.278Z"
   },
   {
    "duration": 60,
    "start_time": "2024-01-06T17:35:51.625Z"
   }
  ],
  "celltoolbar": "Отсутствует",
  "colab": {
   "provenance": []
  },
  "kernelspec": {
   "display_name": "Python 3 (ipykernel)",
   "language": "python",
   "name": "python3"
  },
  "language_info": {
   "codemirror_mode": {
    "name": "ipython",
    "version": 3
   },
   "file_extension": ".py",
   "mimetype": "text/x-python",
   "name": "python",
   "nbconvert_exporter": "python",
   "pygments_lexer": "ipython3",
   "version": "3.11.5"
  },
  "notebookId": "e47b60f7-b2b4-44ee-beb3-b44a93eaf068",
  "notebookPath": "precode.ipynb",
  "toc": {
   "base_numbering": 1,
   "nav_menu": {},
   "number_sections": true,
   "sideBar": true,
   "skip_h1_title": true,
   "title_cell": "Table of Contents",
   "title_sidebar": "Contents",
   "toc_cell": false,
   "toc_position": {},
   "toc_section_display": true,
   "toc_window_display": false
  },
  "varInspector": {
   "cols": {
    "lenName": 16,
    "lenType": 16,
    "lenVar": 40
   },
   "kernels_config": {
    "python": {
     "delete_cmd_postfix": "",
     "delete_cmd_prefix": "del ",
     "library": "var_list.py",
     "varRefreshCmd": "print(var_dic_list())"
    },
    "r": {
     "delete_cmd_postfix": ") ",
     "delete_cmd_prefix": "rm(",
     "library": "var_list.r",
     "varRefreshCmd": "cat(var_dic_list()) "
    }
   },
   "types_to_exclude": [
    "module",
    "function",
    "builtin_function_or_method",
    "instance",
    "_Feature"
   ],
   "window_display": false
  }
 },
 "nbformat": 4,
 "nbformat_minor": 5
}
