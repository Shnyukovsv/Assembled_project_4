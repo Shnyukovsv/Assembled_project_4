{
 "cells": [
  {
   "cell_type": "markdown",
   "id": "1cd09df0",
   "metadata": {},
   "source": [
    "<img src=\"http://s3.amazonaws.com/pix.iemoji.com/images/emoji/apple/ios-12/256/waving-hand.png\" align=left width=44, heigth=44>\n",
    "<div class=\"alert alert-info\">\n",
    "<b> Комментарий ревьюера</b>\n",
    "\n",
    "\n",
    "Привет, Сергей! Давай знакомиться! Меня зовут Дмитрий Махортов, и я буду проверять твой проект. Сразу предлагаю общение на «ты» 🙂, но если тебе это не комфортно, то дай знать, и мы перейдем на «вы». \n",
    "\n",
    "\n",
    "Моя основная цель — не указать на совершенные тобою ошибки, а поделиться своим опытом и помочь тебе погрузиться в увлекательный мир работы с данными и вырасти в крепкого профи. Это отдаленная цель. А ближайшая - сделать твою работу еще лучше )).\n",
    "   \n",
    "    \n",
    "Все ключевые этапы в работе выполнены, и я вижу что с проектом ты справшяешься. Есть моменты, которые нужно доработать, но я уверен, у тебя все получится.\n",
    "        \n",
    "Расскажу как обычно проходит проверка:    \n",
    "Бывают моменты, которые требуют пристального внимания. Комментарии по ним выделены <span style='background-color:#F7B3A4'> красным цветом </span> и обозначены значком 🛑. После их доработки проект будет принят.  🙂\n",
    " \n",
    "<span style='background-color:#B7EBA7'> Зеленым цветом </span> и значком ✅ отмечены удачные и элегантные решения, на которые можно опираться в будущих проектах. Или советы «со звездочкой», которые помогут тебе в будущем.\n",
    "\n",
    "<span style='background-color:#F9EDA6'>Жёлтым цветом </span> и значком ⚠️ выделено то, что в следующий раз можно сделать по-другому. Ты можешь учесть эти комментарии при выполнении будущих заданий или доработать проект сейчас (однако это не обязательно).\n",
    "\n",
    "Давай работать над проектом в диалоге: **если ты что-то меняешь в проекте по моим рекомендациям — пиши об этом**. Выбери для своих комментариев какой-то заметный цвет, так мне будет легче отследить изменения. Пожалуйста, **не перемещай, не изменяй и не удаляй мои комментарии**. Всё это поможет выполнить повторную проверку твоего проекта оперативнее. \n",
    "</div>"
   ]
  },
  {
   "cell_type": "markdown",
   "id": "63e91b54",
   "metadata": {},
   "source": [
    "<div class=\"alert\" style=\"background-color:#ead7f7;color:#8737bf\">\n",
    "    <font size=\"3\"><b>образец комментария студента</b></font>\n",
    "   \n",
    "Можешь использовать этот комментарий. Просто удали этот текст и вместо него напиши свой 🙂\n",
    "\n",
    "</div>"
   ]
  },
  {
   "cell_type": "markdown",
   "id": "1ff1020a",
   "metadata": {
    "cellId": "pbwq209p45adtxfy5ofecd",
    "deletable": false,
    "editable": false,
    "execution_id": "7cb94123-6481-41de-973a-91abe63db303",
    "id": "1ff1020a",
    "tags": [
     "270beaa0-19d4-4537-bff1-11e2aaed886c"
    ]
   },
   "source": [
    "# Прекод\n",
    "\n",
    "# Сборный проект-4\n",
    "\n",
    "Вам поручено разработать демонстрационную версию поиска изображений по запросу.\n",
    "\n",
    "Для демонстрационной версии нужно обучить модель, которая получит векторное представление изображения, векторное представление текста, а на выходе выдаст число от 0 до 1 — покажет, насколько текст и картинка подходят друг другу.\n",
    "\n",
    "### Описание данных\n",
    "\n",
    "Данные лежат в папке `/datasets/image_search/` или доступны по [ссылке](https://code.s3.yandex.net/datasets/dsplus_integrated_project_4.zip).\n",
    "\n",
    "В файле `train_dataset.csv` находится информация, необходимая для обучения: имя файла изображения, идентификатор описания и текст описания. Для одной картинки может быть доступно до 5 описаний. Идентификатор описания имеет формат `<имя файла изображения>#<порядковый номер описания>`.\n",
    "\n",
    "В папке `train_images` содержатся изображения для тренировки модели.\n",
    "\n",
    "В файле `CrowdAnnotations.tsv` — данные по соответствию изображения и описания, полученные с помощью краудсорсинга. Номера колонок и соответствующий тип данных:\n",
    "\n",
    "1. Имя файла изображения.\n",
    "2. Идентификатор описания.\n",
    "3. Доля людей, подтвердивших, что описание соответствует изображению.\n",
    "4. Количество человек, подтвердивших, что описание соответствует изображению.\n",
    "5. Количество человек, подтвердивших, что описание не соответствует изображению.\n",
    "\n",
    "В файле `ExpertAnnotations.tsv` содержатся данные по соответствию изображения и описания, полученные в результате опроса экспертов. Номера колонок и соответствующий тип данных:\n",
    "\n",
    "1. Имя файла изображения.\n",
    "2. Идентификатор описания.\n",
    "\n",
    "3, 4, 5 — оценки трёх экспертов.\n",
    "\n",
    "Эксперты ставят оценки по шкале от 1 до 4, где 1 — изображение и запрос совершенно не соответствуют друг другу, 2 — запрос содержит элементы описания изображения, но в целом запрос тексту не соответствует, 3 — запрос и текст соответствуют с точностью до некоторых деталей, 4 — запрос и текст соответствуют полностью.\n",
    "\n",
    "В файле `test_queries.csv` находится информация, необходимая для тестирования: идентификатор запроса, текст запроса и релевантное изображение. Для одной картинки может быть доступно до 5 описаний. Идентификатор описания имеет формат `<имя файла изображения>#<порядковый номер описания>`.\n",
    "\n",
    "В папке `test_images` содержатся изображения для тестирования модели."
   ]
  },
  {
   "cell_type": "markdown",
   "id": "99489b26",
   "metadata": {
    "cellId": "n6vkjcacwu39w29bfocxt",
    "execution_id": "1b731a18-3394-4b62-b3f7-018692c2d6de",
    "id": "99489b26"
   },
   "source": [
    "## 1. Исследовательский анализ данных\n",
    "\n",
    "Наш датасет содержит экспертные и краудсорсинговые оценки соответствия текста и изображения.\n",
    "\n",
    "В файле с экспертными мнениями для каждой пары изображение-текст имеются оценки от трёх специалистов. Для решения задачи вы должны эти оценки агрегировать — превратить в одну. Существует несколько способов агрегации оценок, самый простой — голосование большинства: за какую оценку проголосовала большая часть экспертов (в нашем случае 2 или 3), та оценка и ставится как итоговая. Поскольку число экспертов меньше числа классов, может случиться, что каждый эксперт поставит разные оценки, например: 1, 4, 2. В таком случае данную пару изображение-текст можно исключить из датасета.\n",
    "\n",
    "Вы можете воспользоваться другим методом агрегации оценок или придумать свой.\n",
    "\n",
    "В файле с краудсорсинговыми оценками информация расположена в таком порядке:\n",
    "\n",
    "1. Доля исполнителей, подтвердивших, что текст **соответствует** картинке.\n",
    "2. Количество исполнителей, подтвердивших, что текст **соответствует** картинке.\n",
    "3. Количество исполнителей, подтвердивших, что текст **не соответствует** картинке.\n",
    "\n",
    "После анализа экспертных и краудсорсинговых оценок выберите либо одну из них, либо объедините их в одну по какому-то критерию: например, оценка эксперта принимается с коэффициентом 0.6, а крауда — с коэффициентом 0.4.\n",
    "\n",
    "Ваша модель должна возвращать на выходе вероятность соответствия изображения тексту, поэтому целевая переменная должна иметь значения от 0 до 1.\n"
   ]
  },
  {
   "cell_type": "markdown",
   "id": "c8a2ac14",
   "metadata": {},
   "source": [
    "<img src=\"https://emojigraph.org/media/apple/check-mark-button_2705.png\" align=left width=33, heigth=33>\n",
    "<div class=\"alert alert-success\">\n",
    " 👍 Да, это хорошая практика - дать описание контекста и проблемы, которую мы решаем. </div>"
   ]
  },
  {
   "cell_type": "code",
   "execution_count": 1,
   "id": "d3510b02",
   "metadata": {
    "id": "d3510b02",
    "outputId": "77e5f7b3-4855-403f-972f-93420bdc0be5",
    "scrolled": false
   },
   "outputs": [
    {
     "name": "stdout",
     "output_type": "stream",
     "text": [
      "Collecting en-core-web-sm==3.7.1\n",
      "  Downloading https://github.com/explosion/spacy-models/releases/download/en_core_web_sm-3.7.1/en_core_web_sm-3.7.1-py3-none-any.whl (12.8 MB)\n",
      "     ---------------------------------------- 0.0/12.8 MB ? eta -:--:--\n",
      "     --------------------------------------- 0.0/12.8 MB 330.3 kB/s eta 0:00:39\n",
      "     --------------------------------------- 0.0/12.8 MB 330.3 kB/s eta 0:00:39\n",
      "     --------------------------------------- 0.0/12.8 MB 245.8 kB/s eta 0:00:52\n",
      "     --------------------------------------- 0.1/12.8 MB 357.2 kB/s eta 0:00:36\n",
      "     --------------------------------------- 0.1/12.8 MB 467.6 kB/s eta 0:00:28\n",
      "      -------------------------------------- 0.2/12.8 MB 618.3 kB/s eta 0:00:21\n",
      "      -------------------------------------- 0.2/12.8 MB 724.0 kB/s eta 0:00:18\n",
      "      -------------------------------------- 0.3/12.8 MB 803.7 kB/s eta 0:00:16\n",
      "     - ------------------------------------- 0.4/12.8 MB 928.4 kB/s eta 0:00:14\n",
      "     - ------------------------------------- 0.4/12.8 MB 922.1 kB/s eta 0:00:14\n",
      "     - -------------------------------------- 0.6/12.8 MB 1.2 MB/s eta 0:00:10\n",
      "     -- ------------------------------------- 0.7/12.8 MB 1.4 MB/s eta 0:00:09\n",
      "     --- ------------------------------------ 1.0/12.8 MB 1.7 MB/s eta 0:00:07\n",
      "     --- ------------------------------------ 1.2/12.8 MB 2.1 MB/s eta 0:00:06\n",
      "     ----- ---------------------------------- 1.6/12.8 MB 2.6 MB/s eta 0:00:05\n",
      "     ------ --------------------------------- 2.1/12.8 MB 3.1 MB/s eta 0:00:04\n",
      "     ------- -------------------------------- 2.3/12.8 MB 3.3 MB/s eta 0:00:04\n",
      "     ------- -------------------------------- 2.3/12.8 MB 3.3 MB/s eta 0:00:04\n",
      "     ------- -------------------------------- 2.3/12.8 MB 3.3 MB/s eta 0:00:04\n",
      "     --------- ------------------------------ 3.2/12.8 MB 3.8 MB/s eta 0:00:03\n",
      "     ----------- ---------------------------- 3.8/12.8 MB 4.4 MB/s eta 0:00:03\n",
      "     ------------- -------------------------- 4.4/12.8 MB 4.9 MB/s eta 0:00:02\n",
      "     --------------- ------------------------ 5.0/12.8 MB 5.5 MB/s eta 0:00:02\n",
      "     --------------- ------------------------ 5.0/12.8 MB 5.5 MB/s eta 0:00:02\n",
      "     --------------- ------------------------ 5.0/12.8 MB 5.5 MB/s eta 0:00:02\n",
      "     --------------- ------------------------ 5.0/12.8 MB 5.5 MB/s eta 0:00:02\n",
      "     --------------- ------------------------ 5.0/12.8 MB 5.5 MB/s eta 0:00:02\n",
      "     ------------------------ --------------- 7.9/12.8 MB 6.7 MB/s eta 0:00:01\n",
      "     -------------------------- ------------- 8.4/12.8 MB 7.0 MB/s eta 0:00:01\n",
      "     --------------------------- ------------ 8.9/12.8 MB 7.1 MB/s eta 0:00:01\n",
      "     ----------------------------- ---------- 9.3/12.8 MB 7.2 MB/s eta 0:00:01\n",
      "     ------------------------------ --------- 9.8/12.8 MB 7.4 MB/s eta 0:00:01\n",
      "     -------------------------------- ------- 10.3/12.8 MB 8.6 MB/s eta 0:00:01\n",
      "     -------------------------------- ------ 10.8/12.8 MB 10.7 MB/s eta 0:00:01\n",
      "     ---------------------------------- ---- 11.2/12.8 MB 11.3 MB/s eta 0:00:01\n",
      "     ----------------------------------- --- 11.7/12.8 MB 11.7 MB/s eta 0:00:01\n",
      "     ------------------------------------- - 12.2/12.8 MB 11.7 MB/s eta 0:00:01\n",
      "     --------------------------------------  12.7/12.8 MB 13.4 MB/s eta 0:00:01\n",
      "     --------------------------------------  12.8/12.8 MB 13.4 MB/s eta 0:00:01\n",
      "     --------------------------------------  12.8/12.8 MB 13.4 MB/s eta 0:00:01\n",
      "     --------------------------------------- 12.8/12.8 MB 11.9 MB/s eta 0:00:00\n",
      "Requirement already satisfied: spacy<3.8.0,>=3.7.2 in c:\\users\\serge\\anaconda3\\lib\\site-packages (from en-core-web-sm==3.7.1) (3.7.2)\n",
      "Requirement already satisfied: spacy-legacy<3.1.0,>=3.0.11 in c:\\users\\serge\\anaconda3\\lib\\site-packages (from spacy<3.8.0,>=3.7.2->en-core-web-sm==3.7.1) (3.0.12)\n",
      "Requirement already satisfied: spacy-loggers<2.0.0,>=1.0.0 in c:\\users\\serge\\anaconda3\\lib\\site-packages (from spacy<3.8.0,>=3.7.2->en-core-web-sm==3.7.1) (1.0.5)\n",
      "Requirement already satisfied: murmurhash<1.1.0,>=0.28.0 in c:\\users\\serge\\anaconda3\\lib\\site-packages (from spacy<3.8.0,>=3.7.2->en-core-web-sm==3.7.1) (1.0.10)\n",
      "Requirement already satisfied: cymem<2.1.0,>=2.0.2 in c:\\users\\serge\\anaconda3\\lib\\site-packages (from spacy<3.8.0,>=3.7.2->en-core-web-sm==3.7.1) (2.0.8)\n",
      "Requirement already satisfied: preshed<3.1.0,>=3.0.2 in c:\\users\\serge\\anaconda3\\lib\\site-packages (from spacy<3.8.0,>=3.7.2->en-core-web-sm==3.7.1) (3.0.9)\n",
      "Requirement already satisfied: thinc<8.3.0,>=8.1.8 in c:\\users\\serge\\anaconda3\\lib\\site-packages (from spacy<3.8.0,>=3.7.2->en-core-web-sm==3.7.1) (8.2.2)\n",
      "Requirement already satisfied: wasabi<1.2.0,>=0.9.1 in c:\\users\\serge\\anaconda3\\lib\\site-packages (from spacy<3.8.0,>=3.7.2->en-core-web-sm==3.7.1) (1.1.2)\n",
      "Requirement already satisfied: srsly<3.0.0,>=2.4.3 in c:\\users\\serge\\anaconda3\\lib\\site-packages (from spacy<3.8.0,>=3.7.2->en-core-web-sm==3.7.1) (2.4.8)\n",
      "Requirement already satisfied: catalogue<2.1.0,>=2.0.6 in c:\\users\\serge\\anaconda3\\lib\\site-packages (from spacy<3.8.0,>=3.7.2->en-core-web-sm==3.7.1) (2.0.10)\n",
      "Requirement already satisfied: weasel<0.4.0,>=0.1.0 in c:\\users\\serge\\anaconda3\\lib\\site-packages (from spacy<3.8.0,>=3.7.2->en-core-web-sm==3.7.1) (0.3.4)\n",
      "Requirement already satisfied: typer<0.10.0,>=0.3.0 in c:\\users\\serge\\anaconda3\\lib\\site-packages (from spacy<3.8.0,>=3.7.2->en-core-web-sm==3.7.1) (0.9.0)\n",
      "Requirement already satisfied: smart-open<7.0.0,>=5.2.1 in c:\\users\\serge\\anaconda3\\lib\\site-packages (from spacy<3.8.0,>=3.7.2->en-core-web-sm==3.7.1) (5.2.1)\n",
      "Requirement already satisfied: tqdm<5.0.0,>=4.38.0 in c:\\users\\serge\\anaconda3\\lib\\site-packages (from spacy<3.8.0,>=3.7.2->en-core-web-sm==3.7.1) (4.65.0)\n",
      "Requirement already satisfied: requests<3.0.0,>=2.13.0 in c:\\users\\serge\\anaconda3\\lib\\site-packages (from spacy<3.8.0,>=3.7.2->en-core-web-sm==3.7.1) (2.31.0)\n",
      "Requirement already satisfied: pydantic!=1.8,!=1.8.1,<3.0.0,>=1.7.4 in c:\\users\\serge\\anaconda3\\lib\\site-packages (from spacy<3.8.0,>=3.7.2->en-core-web-sm==3.7.1) (1.10.8)\n",
      "Requirement already satisfied: jinja2 in c:\\users\\serge\\anaconda3\\lib\\site-packages (from spacy<3.8.0,>=3.7.2->en-core-web-sm==3.7.1) (3.1.2)\n",
      "Requirement already satisfied: setuptools in c:\\users\\serge\\anaconda3\\lib\\site-packages (from spacy<3.8.0,>=3.7.2->en-core-web-sm==3.7.1) (68.0.0)\n",
      "Requirement already satisfied: packaging>=20.0 in c:\\users\\serge\\anaconda3\\lib\\site-packages (from spacy<3.8.0,>=3.7.2->en-core-web-sm==3.7.1) (23.1)\n",
      "Requirement already satisfied: langcodes<4.0.0,>=3.2.0 in c:\\users\\serge\\anaconda3\\lib\\site-packages (from spacy<3.8.0,>=3.7.2->en-core-web-sm==3.7.1) (3.3.0)\n",
      "Requirement already satisfied: numpy>=1.19.0 in c:\\users\\serge\\anaconda3\\lib\\site-packages (from spacy<3.8.0,>=3.7.2->en-core-web-sm==3.7.1) (1.24.3)\n",
      "Requirement already satisfied: typing-extensions>=4.2.0 in c:\\users\\serge\\anaconda3\\lib\\site-packages (from pydantic!=1.8,!=1.8.1,<3.0.0,>=1.7.4->spacy<3.8.0,>=3.7.2->en-core-web-sm==3.7.1) (4.7.1)\n",
      "Requirement already satisfied: charset-normalizer<4,>=2 in c:\\users\\serge\\anaconda3\\lib\\site-packages (from requests<3.0.0,>=2.13.0->spacy<3.8.0,>=3.7.2->en-core-web-sm==3.7.1) (2.0.4)\n",
      "Requirement already satisfied: idna<4,>=2.5 in c:\\users\\serge\\anaconda3\\lib\\site-packages (from requests<3.0.0,>=2.13.0->spacy<3.8.0,>=3.7.2->en-core-web-sm==3.7.1) (3.4)\n",
      "Requirement already satisfied: urllib3<3,>=1.21.1 in c:\\users\\serge\\anaconda3\\lib\\site-packages (from requests<3.0.0,>=2.13.0->spacy<3.8.0,>=3.7.2->en-core-web-sm==3.7.1) (1.26.16)\n",
      "Requirement already satisfied: certifi>=2017.4.17 in c:\\users\\serge\\anaconda3\\lib\\site-packages (from requests<3.0.0,>=2.13.0->spacy<3.8.0,>=3.7.2->en-core-web-sm==3.7.1) (2023.7.22)\n",
      "Requirement already satisfied: blis<0.8.0,>=0.7.8 in c:\\users\\serge\\anaconda3\\lib\\site-packages (from thinc<8.3.0,>=8.1.8->spacy<3.8.0,>=3.7.2->en-core-web-sm==3.7.1) (0.7.11)\n",
      "Requirement already satisfied: confection<1.0.0,>=0.0.1 in c:\\users\\serge\\anaconda3\\lib\\site-packages (from thinc<8.3.0,>=8.1.8->spacy<3.8.0,>=3.7.2->en-core-web-sm==3.7.1) (0.1.4)\n",
      "Requirement already satisfied: colorama in c:\\users\\serge\\anaconda3\\lib\\site-packages (from tqdm<5.0.0,>=4.38.0->spacy<3.8.0,>=3.7.2->en-core-web-sm==3.7.1) (0.4.6)\n",
      "Requirement already satisfied: click<9.0.0,>=7.1.1 in c:\\users\\serge\\anaconda3\\lib\\site-packages (from typer<0.10.0,>=0.3.0->spacy<3.8.0,>=3.7.2->en-core-web-sm==3.7.1) (8.0.4)\n",
      "Requirement already satisfied: cloudpathlib<0.17.0,>=0.7.0 in c:\\users\\serge\\anaconda3\\lib\\site-packages (from weasel<0.4.0,>=0.1.0->spacy<3.8.0,>=3.7.2->en-core-web-sm==3.7.1) (0.16.0)\n",
      "Requirement already satisfied: MarkupSafe>=2.0 in c:\\users\\serge\\anaconda3\\lib\\site-packages (from jinja2->spacy<3.8.0,>=3.7.2->en-core-web-sm==3.7.1) (2.1.1)\n",
      "\u001b[38;5;2m[+] Download and installation successful\u001b[0m\n",
      "You can now load the package via spacy.load('en_core_web_sm')\n"
     ]
    }
   ],
   "source": [
    "#!pip install spacy\n",
    "#!pip install spacy[transformers]\n",
    "!pip install -q torchvision\n",
    "#!python -m spacy download en_core_web_lg\n",
    "!python -m spacy download en_core_web_sm\n",
    "\n",
    "#!pip install  spacy download en_core_web_sm\n",
    "#!pip3 install https://github.com/explosion/spacy-models/releases/download/en_core_web_sm-2.2.0/en_core_web_sm-2.2.0.tar.gz\n",
    "#!pip install https://github.com/explosion/spacy-models/releases/download/en_core_web_sm-3.0.0/en_core_web_sm-3.0.0.tar.gz\n",
    "#!pip install https://github.com/explosion/spacy-models/releases/download/en_core_web_sm-3.0.0/en_core_web_sm-3.0.0-py3-none-any.whl"
   ]
  },
  {
   "cell_type": "markdown",
   "id": "0119f022",
   "metadata": {
    "id": "34b2b15b"
   },
   "source": [
    "<img src=\"https://upload.wikimedia.org/wikipedia/commons/b/ba/Warning_sign_4.0.png\" align=left width=44, heigth=33>\n",
    "<div class=\"alert alert-warning\">\n",
    "Лично меня очень утомляют простыни логов после установки библиотек. Я их все равно никто не читает. Можно добавить флаг -q будет гораздо аккуратноее.\n",
    "    \n",
    "    !pip install -q torchvision\n",
    "    \n",
    "Кстати, я вижу ты делаешь повторную установку torchvision, что для локальной среды уже лишнее. А во многих облачных средах (например в Google Colab) эта библиотека уже установлена.     \n",
    "</div>"
   ]
  },
  {
   "cell_type": "markdown",
   "id": "94d1514d",
   "metadata": {},
   "source": [
    "<div class=\"alert\" style=\"background-color:#ead7f7;color:#8737bf\">\n",
    "    <font size=\"3\"><b>Комментарий студента</b></font>\n",
    "   \n",
    "torchvision убрал логи, а  en_core_web_sm не получилось. Может быть еще есть вариант как их убрать?\n",
    "\n",
    "</div>"
   ]
  },
  {
   "cell_type": "code",
   "execution_count": 2,
   "id": "391932cb",
   "metadata": {
    "id": "391932cb"
   },
   "outputs": [
    {
     "name": "stderr",
     "output_type": "stream",
     "text": [
      "[nltk_data] Downloading package stopwords to\n",
      "[nltk_data]     C:\\Users\\Serge\\AppData\\Roaming\\nltk_data...\n",
      "[nltk_data]   Package stopwords is already up-to-date!\n"
     ]
    }
   ],
   "source": [
    "import torchvision.models as models\n",
    "import torch\n",
    "import torch.nn as nn\n",
    "import numpy as np\n",
    "#import tensorflow as tf\n",
    "import math\n",
    "import pandas as pd\n",
    "import random as rd\n",
    "\n",
    "from PIL import Image\n",
    "import os\n",
    "\n",
    "import spacy\n",
    "import re\n",
    "import nltk\n",
    "from nltk.corpus import stopwords\n",
    "nltk.download('stopwords')\n",
    "#from nltk.corpus import stopwords as nltk_stopwords\n",
    "from sklearn.feature_extraction.text import TfidfVectorizer\n",
    "from sklearn.model_selection import GroupShuffleSplit\n",
    "from sklearn.preprocessing import  StandardScaler\n",
    "from sklearn.linear_model import LinearRegression\n",
    "from sklearn.model_selection import cross_val_score\n",
    "from sklearn.model_selection import GridSearchCV\n",
    "from sklearn.metrics import make_scorer\n",
    "from sklearn.metrics import mean_squared_error\n",
    "from sklearn.preprocessing import MinMaxScaler\n",
    "\n",
    "#from skorch.callbacks import EpochScoring, EarlyStopping\n",
    "#from skorch import NeuralNetRegressor\n",
    "from sklearn.pipeline import Pipeline\n",
    "from tqdm import tqdm, tqdm_notebook\n",
    "#import torch\n",
    "#import torch.nn as nn\n",
    "from math import ceil"
   ]
  },
  {
   "cell_type": "markdown",
   "id": "85817084",
   "metadata": {},
   "source": [
    "<img src=\"https://emojigraph.org/media/apple/check-mark-button_2705.png\" align=left width=33, heigth=33>\n",
    "<div class=\"alert alert-success\">\n",
    "Отлично, все нужные библиотеки импортированы в начале ноутбука.Это хорошая практика.</div>"
   ]
  },
  {
   "cell_type": "markdown",
   "id": "51c4c481",
   "metadata": {
    "id": "51c4c481"
   },
   "source": [
    "Импортируем данные."
   ]
  },
  {
   "cell_type": "code",
   "execution_count": 3,
   "id": "67529761",
   "metadata": {
    "id": "67529761",
    "scrolled": true
   },
   "outputs": [],
   "source": [
    "train_dataset = pd.read_csv('to_upload/train_dataset.csv')\n",
    "CrowdAnnotations = pd.read_csv('to_upload/CrowdAnnotations.tsv', sep='\\t', header=None)\n",
    "ExpertAnnotations = pd.read_csv('to_upload/ExpertAnnotations.tsv', sep='\\t', header=None)\n",
    "test_queries = pd.read_csv('to_upload/test_queries.csv', sep='|', index_col=0)\n",
    "test_images = pd.read_csv('to_upload/test_images.csv', sep='|')"
   ]
  },
  {
   "cell_type": "markdown",
   "id": "9d8ffa65",
   "metadata": {
    "id": "970c736c"
   },
   "source": [
    "<img src=\"http://s3.amazonaws.com/pix.iemoji.com/images/emoji/apple/ios-12/256/waving-hand.png\" align=left width=44, heigth=44>\n",
    "<div class=\"alert alert-info\">\n",
    "<b> Комментарий ревьюера</b>\n",
    "\n",
    "Данный проект очень хороший пример того, как один и тот же код может запускаться на разных платформах, у разных людей, даже на операционных системах. Поэтому лучше заранее позаботиться о том, чтобы при переходе с одного компьютера на другой нужно было вносить как можно меньше изменений. Самый простой способ - вынести путь к данным в константу, которую определлить в самом начале ноутбука и все пути определять с этой константой.\n",
    "    \n",
    "Также для объединения путей лучше испльзовать os.path.join, т.к. этот метод соединяет пути с учетом операционной системы (в linux и windows для путей используются знаки / и \\)\n",
    "    \n",
    "Если ты используешь colab или другой облачный сервис, то датасет в виртуальную машину можно загрузить вот так\n",
    "    \n",
    "    \n",
    "    # загрузка датасета \n",
    "\n",
    "    !wget -q https://code.s3.yandex.net/datasets/dsplus_integrated_project_4.zip\n",
    "    !unzip -q dsplus_integrated_project_4.zip\n",
    "\n",
    "А вот это образец универсального кода для загрузки данных    \n",
    "    \n",
    "    DATA_PATH = твой путь    \n",
    "    \n",
    "    df_train = pd.read_csv(os.path.join(DATA_PATH, 'train_dataset.csv'))\n",
    "    ....\n",
    "\n",
    " \n",
    "    \n",
    "    \n",
    "\n",
    "\n",
    "</div>"
   ]
  },
  {
   "cell_type": "code",
   "execution_count": 4,
   "id": "3f9821a5",
   "metadata": {
    "scrolled": true
   },
   "outputs": [
    {
     "data": {
      "text/html": [
       "<div>\n",
       "<style scoped>\n",
       "    .dataframe tbody tr th:only-of-type {\n",
       "        vertical-align: middle;\n",
       "    }\n",
       "\n",
       "    .dataframe tbody tr th {\n",
       "        vertical-align: top;\n",
       "    }\n",
       "\n",
       "    .dataframe thead th {\n",
       "        text-align: right;\n",
       "    }\n",
       "</style>\n",
       "<table border=\"1\" class=\"dataframe\">\n",
       "  <thead>\n",
       "    <tr style=\"text-align: right;\">\n",
       "      <th></th>\n",
       "      <th>image</th>\n",
       "      <th>query_id</th>\n",
       "      <th>query_text</th>\n",
       "    </tr>\n",
       "  </thead>\n",
       "  <tbody>\n",
       "    <tr>\n",
       "      <th>726</th>\n",
       "      <td>1220401002_3f44b1f3f7.jpg</td>\n",
       "      <td>3470951932_27ed74eb0b.jpg#2</td>\n",
       "      <td>A boy runs to a baseball base .</td>\n",
       "    </tr>\n",
       "    <tr>\n",
       "      <th>637</th>\n",
       "      <td>3388330419_85d72f7cda.jpg</td>\n",
       "      <td>2228022180_9597b2a458.jpg#2</td>\n",
       "      <td>Group of children in blue uniforms sitting on ...</td>\n",
       "    </tr>\n",
       "    <tr>\n",
       "      <th>2269</th>\n",
       "      <td>1432179046_8e3d75cf81.jpg</td>\n",
       "      <td>3708177171_529bb4ff1d.jpg#2</td>\n",
       "      <td>A skateboarder is performing a jump from a woo...</td>\n",
       "    </tr>\n",
       "    <tr>\n",
       "      <th>4386</th>\n",
       "      <td>2484190118_e89363c465.jpg</td>\n",
       "      <td>270816949_ffad112278.jpg#2</td>\n",
       "      <td>A person riding a horse with a mountain range ...</td>\n",
       "    </tr>\n",
       "    <tr>\n",
       "      <th>2277</th>\n",
       "      <td>3027397797_4f1d305ced.jpg</td>\n",
       "      <td>1174525839_7c1e6cfa86.jpg#2</td>\n",
       "      <td>A young , long-haired , girl on the beach , is...</td>\n",
       "    </tr>\n",
       "    <tr>\n",
       "      <th>1160</th>\n",
       "      <td>1287475186_2dee85f1a5.jpg</td>\n",
       "      <td>2599444370_9e40103027.jpg#2</td>\n",
       "      <td>Two black dogs are dog paddling in a sparkling...</td>\n",
       "    </tr>\n",
       "    <tr>\n",
       "      <th>3062</th>\n",
       "      <td>3110649716_c17e14670e.jpg</td>\n",
       "      <td>3244747165_17028936e0.jpg#2</td>\n",
       "      <td>The young adults take a group shot of themselv...</td>\n",
       "    </tr>\n",
       "    <tr>\n",
       "      <th>1598</th>\n",
       "      <td>2654514044_a70a6e2c21.jpg</td>\n",
       "      <td>2862004252_53894bb28b.jpg#2</td>\n",
       "      <td>A brown and tan dog walks through the green gr...</td>\n",
       "    </tr>\n",
       "    <tr>\n",
       "      <th>3870</th>\n",
       "      <td>2525270674_4ab536e7ec.jpg</td>\n",
       "      <td>2890113532_ab2003d74e.jpg#2</td>\n",
       "      <td>Two dogs in motion in a grassy field with smal...</td>\n",
       "    </tr>\n",
       "    <tr>\n",
       "      <th>5649</th>\n",
       "      <td>3353036763_4cbeba03b2.jpg</td>\n",
       "      <td>1897025969_0c41688fa6.jpg#2</td>\n",
       "      <td>A black dog bites a white dog while standing o...</td>\n",
       "    </tr>\n",
       "  </tbody>\n",
       "</table>\n",
       "</div>"
      ],
      "text/plain": [
       "                          image                     query_id  \\\n",
       "726   1220401002_3f44b1f3f7.jpg  3470951932_27ed74eb0b.jpg#2   \n",
       "637   3388330419_85d72f7cda.jpg  2228022180_9597b2a458.jpg#2   \n",
       "2269  1432179046_8e3d75cf81.jpg  3708177171_529bb4ff1d.jpg#2   \n",
       "4386  2484190118_e89363c465.jpg   270816949_ffad112278.jpg#2   \n",
       "2277  3027397797_4f1d305ced.jpg  1174525839_7c1e6cfa86.jpg#2   \n",
       "1160  1287475186_2dee85f1a5.jpg  2599444370_9e40103027.jpg#2   \n",
       "3062  3110649716_c17e14670e.jpg  3244747165_17028936e0.jpg#2   \n",
       "1598  2654514044_a70a6e2c21.jpg  2862004252_53894bb28b.jpg#2   \n",
       "3870  2525270674_4ab536e7ec.jpg  2890113532_ab2003d74e.jpg#2   \n",
       "5649  3353036763_4cbeba03b2.jpg  1897025969_0c41688fa6.jpg#2   \n",
       "\n",
       "                                             query_text  \n",
       "726                     A boy runs to a baseball base .  \n",
       "637   Group of children in blue uniforms sitting on ...  \n",
       "2269  A skateboarder is performing a jump from a woo...  \n",
       "4386  A person riding a horse with a mountain range ...  \n",
       "2277  A young , long-haired , girl on the beach , is...  \n",
       "1160  Two black dogs are dog paddling in a sparkling...  \n",
       "3062  The young adults take a group shot of themselv...  \n",
       "1598  A brown and tan dog walks through the green gr...  \n",
       "3870  Two dogs in motion in a grassy field with smal...  \n",
       "5649  A black dog bites a white dog while standing o...  "
      ]
     },
     "execution_count": 4,
     "metadata": {},
     "output_type": "execute_result"
    }
   ],
   "source": [
    "train_dataset.sample(10)"
   ]
  },
  {
   "cell_type": "code",
   "execution_count": 5,
   "id": "f3fdd80c",
   "metadata": {
    "scrolled": true
   },
   "outputs": [
    {
     "name": "stdout",
     "output_type": "stream",
     "text": [
      "<class 'pandas.core.frame.DataFrame'>\n",
      "RangeIndex: 5822 entries, 0 to 5821\n",
      "Data columns (total 3 columns):\n",
      " #   Column      Non-Null Count  Dtype \n",
      "---  ------      --------------  ----- \n",
      " 0   image       5822 non-null   object\n",
      " 1   query_id    5822 non-null   object\n",
      " 2   query_text  5822 non-null   object\n",
      "dtypes: object(3)\n",
      "memory usage: 136.6+ KB\n"
     ]
    }
   ],
   "source": [
    "train_dataset.info()"
   ]
  },
  {
   "cell_type": "code",
   "execution_count": 6,
   "id": "02b9cd85",
   "metadata": {},
   "outputs": [
    {
     "data": {
      "text/plain": [
       "0"
      ]
     },
     "execution_count": 6,
     "metadata": {},
     "output_type": "execute_result"
    }
   ],
   "source": [
    "train_dataset.duplicated().sum()"
   ]
  },
  {
   "cell_type": "markdown",
   "id": "67413a70",
   "metadata": {},
   "source": [
    "В тренировочном датасете 5822 строк, или в среднем 5,8 описаний  на каждую из 1000 изображений."
   ]
  },
  {
   "cell_type": "code",
   "execution_count": 7,
   "id": "2acd5ac4",
   "metadata": {
    "scrolled": false
   },
   "outputs": [
    {
     "data": {
      "text/html": [
       "<div>\n",
       "<style scoped>\n",
       "    .dataframe tbody tr th:only-of-type {\n",
       "        vertical-align: middle;\n",
       "    }\n",
       "\n",
       "    .dataframe tbody tr th {\n",
       "        vertical-align: top;\n",
       "    }\n",
       "\n",
       "    .dataframe thead th {\n",
       "        text-align: right;\n",
       "    }\n",
       "</style>\n",
       "<table border=\"1\" class=\"dataframe\">\n",
       "  <thead>\n",
       "    <tr style=\"text-align: right;\">\n",
       "      <th></th>\n",
       "      <th>image</th>\n",
       "      <th>query_id</th>\n",
       "      <th>query_text</th>\n",
       "    </tr>\n",
       "  </thead>\n",
       "  <tbody>\n",
       "    <tr>\n",
       "      <th>count</th>\n",
       "      <td>5822</td>\n",
       "      <td>5822</td>\n",
       "      <td>5822</td>\n",
       "    </tr>\n",
       "    <tr>\n",
       "      <th>unique</th>\n",
       "      <td>1000</td>\n",
       "      <td>977</td>\n",
       "      <td>977</td>\n",
       "    </tr>\n",
       "    <tr>\n",
       "      <th>top</th>\n",
       "      <td>3364151356_eecd07a23e.jpg</td>\n",
       "      <td>2600867924_cd502fc911.jpg#2</td>\n",
       "      <td>Two dogs , one brown and white and one black a...</td>\n",
       "    </tr>\n",
       "    <tr>\n",
       "      <th>freq</th>\n",
       "      <td>10</td>\n",
       "      <td>34</td>\n",
       "      <td>34</td>\n",
       "    </tr>\n",
       "  </tbody>\n",
       "</table>\n",
       "</div>"
      ],
      "text/plain": [
       "                            image                     query_id  \\\n",
       "count                        5822                         5822   \n",
       "unique                       1000                          977   \n",
       "top     3364151356_eecd07a23e.jpg  2600867924_cd502fc911.jpg#2   \n",
       "freq                           10                           34   \n",
       "\n",
       "                                               query_text  \n",
       "count                                                5822  \n",
       "unique                                                977  \n",
       "top     Two dogs , one brown and white and one black a...  \n",
       "freq                                                   34  "
      ]
     },
     "execution_count": 7,
     "metadata": {},
     "output_type": "execute_result"
    }
   ],
   "source": [
    "train_dataset.describe()"
   ]
  },
  {
   "cell_type": "markdown",
   "id": "05c8d1bb",
   "metadata": {},
   "source": [
    "При этом уникальных запросов  977"
   ]
  },
  {
   "cell_type": "code",
   "execution_count": 8,
   "id": "4486521b",
   "metadata": {
    "scrolled": true
   },
   "outputs": [
    {
     "data": {
      "text/html": [
       "<div>\n",
       "<style scoped>\n",
       "    .dataframe tbody tr th:only-of-type {\n",
       "        vertical-align: middle;\n",
       "    }\n",
       "\n",
       "    .dataframe tbody tr th {\n",
       "        vertical-align: top;\n",
       "    }\n",
       "\n",
       "    .dataframe thead th {\n",
       "        text-align: right;\n",
       "    }\n",
       "</style>\n",
       "<table border=\"1\" class=\"dataframe\">\n",
       "  <thead>\n",
       "    <tr style=\"text-align: right;\">\n",
       "      <th></th>\n",
       "      <th>image</th>\n",
       "      <th>query_id</th>\n",
       "      <th>percentage_confirmed</th>\n",
       "      <th>quantity_confirmed</th>\n",
       "      <th>quantity_disproved</th>\n",
       "    </tr>\n",
       "  </thead>\n",
       "  <tbody>\n",
       "    <tr>\n",
       "      <th>0</th>\n",
       "      <td>1056338697_4f7d7ce270.jpg</td>\n",
       "      <td>2549968784_39bfbe44f9.jpg#2</td>\n",
       "      <td>1</td>\n",
       "      <td>1</td>\n",
       "      <td>1</td>\n",
       "    </tr>\n",
       "    <tr>\n",
       "      <th>1</th>\n",
       "      <td>1056338697_4f7d7ce270.jpg</td>\n",
       "      <td>2718495608_d8533e3ac5.jpg#2</td>\n",
       "      <td>1</td>\n",
       "      <td>1</td>\n",
       "      <td>2</td>\n",
       "    </tr>\n",
       "    <tr>\n",
       "      <th>2</th>\n",
       "      <td>1056338697_4f7d7ce270.jpg</td>\n",
       "      <td>3181701312_70a379ab6e.jpg#2</td>\n",
       "      <td>1</td>\n",
       "      <td>1</td>\n",
       "      <td>2</td>\n",
       "    </tr>\n",
       "    <tr>\n",
       "      <th>3</th>\n",
       "      <td>1056338697_4f7d7ce270.jpg</td>\n",
       "      <td>3207358897_bfa61fa3c6.jpg#2</td>\n",
       "      <td>1</td>\n",
       "      <td>2</td>\n",
       "      <td>2</td>\n",
       "    </tr>\n",
       "    <tr>\n",
       "      <th>4</th>\n",
       "      <td>1056338697_4f7d7ce270.jpg</td>\n",
       "      <td>3286822339_5535af6b93.jpg#2</td>\n",
       "      <td>1</td>\n",
       "      <td>1</td>\n",
       "      <td>2</td>\n",
       "    </tr>\n",
       "    <tr>\n",
       "      <th>5</th>\n",
       "      <td>1056338697_4f7d7ce270.jpg</td>\n",
       "      <td>3360930596_1e75164ce6.jpg#2</td>\n",
       "      <td>1</td>\n",
       "      <td>1</td>\n",
       "      <td>1</td>\n",
       "    </tr>\n",
       "    <tr>\n",
       "      <th>6</th>\n",
       "      <td>1056338697_4f7d7ce270.jpg</td>\n",
       "      <td>3545652636_0746537307.jpg#2</td>\n",
       "      <td>1</td>\n",
       "      <td>1</td>\n",
       "      <td>1</td>\n",
       "    </tr>\n",
       "    <tr>\n",
       "      <th>7</th>\n",
       "      <td>1056338697_4f7d7ce270.jpg</td>\n",
       "      <td>434792818_56375e203f.jpg#2</td>\n",
       "      <td>1</td>\n",
       "      <td>1</td>\n",
       "      <td>2</td>\n",
       "    </tr>\n",
       "    <tr>\n",
       "      <th>8</th>\n",
       "      <td>106490881_5a2dd9b7bd.jpg</td>\n",
       "      <td>1425069308_488e5fcf9d.jpg#2</td>\n",
       "      <td>1</td>\n",
       "      <td>1</td>\n",
       "      <td>1</td>\n",
       "    </tr>\n",
       "    <tr>\n",
       "      <th>9</th>\n",
       "      <td>106490881_5a2dd9b7bd.jpg</td>\n",
       "      <td>1714316707_8bbaa2a2ba.jpg#2</td>\n",
       "      <td>2</td>\n",
       "      <td>2</td>\n",
       "      <td>2</td>\n",
       "    </tr>\n",
       "  </tbody>\n",
       "</table>\n",
       "</div>"
      ],
      "text/plain": [
       "                       image                     query_id  \\\n",
       "0  1056338697_4f7d7ce270.jpg  2549968784_39bfbe44f9.jpg#2   \n",
       "1  1056338697_4f7d7ce270.jpg  2718495608_d8533e3ac5.jpg#2   \n",
       "2  1056338697_4f7d7ce270.jpg  3181701312_70a379ab6e.jpg#2   \n",
       "3  1056338697_4f7d7ce270.jpg  3207358897_bfa61fa3c6.jpg#2   \n",
       "4  1056338697_4f7d7ce270.jpg  3286822339_5535af6b93.jpg#2   \n",
       "5  1056338697_4f7d7ce270.jpg  3360930596_1e75164ce6.jpg#2   \n",
       "6  1056338697_4f7d7ce270.jpg  3545652636_0746537307.jpg#2   \n",
       "7  1056338697_4f7d7ce270.jpg   434792818_56375e203f.jpg#2   \n",
       "8   106490881_5a2dd9b7bd.jpg  1425069308_488e5fcf9d.jpg#2   \n",
       "9   106490881_5a2dd9b7bd.jpg  1714316707_8bbaa2a2ba.jpg#2   \n",
       "\n",
       "   percentage_confirmed  quantity_confirmed  quantity_disproved  \n",
       "0                     1                   1                   1  \n",
       "1                     1                   1                   2  \n",
       "2                     1                   1                   2  \n",
       "3                     1                   2                   2  \n",
       "4                     1                   1                   2  \n",
       "5                     1                   1                   1  \n",
       "6                     1                   1                   1  \n",
       "7                     1                   1                   2  \n",
       "8                     1                   1                   1  \n",
       "9                     2                   2                   2  "
      ]
     },
     "execution_count": 8,
     "metadata": {},
     "output_type": "execute_result"
    }
   ],
   "source": [
    "CrowdAnnotations = pd.read_csv('to_upload/ExpertAnnotations.tsv',  sep='\\t', header=None, names=['image', 'query_id', 'percentage_confirmed', 'quantity_confirmed', 'quantity_disproved'])\n",
    "CrowdAnnotations.head(10)"
   ]
  },
  {
   "cell_type": "code",
   "execution_count": 9,
   "id": "77fdfdfd",
   "metadata": {
    "scrolled": true
   },
   "outputs": [
    {
     "name": "stdout",
     "output_type": "stream",
     "text": [
      "<class 'pandas.core.frame.DataFrame'>\n",
      "RangeIndex: 5822 entries, 0 to 5821\n",
      "Data columns (total 5 columns):\n",
      " #   Column                Non-Null Count  Dtype \n",
      "---  ------                --------------  ----- \n",
      " 0   image                 5822 non-null   object\n",
      " 1   query_id              5822 non-null   object\n",
      " 2   percentage_confirmed  5822 non-null   int64 \n",
      " 3   quantity_confirmed    5822 non-null   int64 \n",
      " 4   quantity_disproved    5822 non-null   int64 \n",
      "dtypes: int64(3), object(2)\n",
      "memory usage: 227.6+ KB\n"
     ]
    }
   ],
   "source": [
    "CrowdAnnotations.info()"
   ]
  },
  {
   "cell_type": "code",
   "execution_count": 10,
   "id": "9ec049f0",
   "metadata": {
    "scrolled": true
   },
   "outputs": [
    {
     "data": {
      "text/plain": [
       "0"
      ]
     },
     "execution_count": 10,
     "metadata": {},
     "output_type": "execute_result"
    }
   ],
   "source": [
    "CrowdAnnotations.duplicated().sum()"
   ]
  },
  {
   "cell_type": "code",
   "execution_count": 11,
   "id": "acd0aafa",
   "metadata": {
    "scrolled": true
   },
   "outputs": [
    {
     "data": {
      "text/html": [
       "<div>\n",
       "<style scoped>\n",
       "    .dataframe tbody tr th:only-of-type {\n",
       "        vertical-align: middle;\n",
       "    }\n",
       "\n",
       "    .dataframe tbody tr th {\n",
       "        vertical-align: top;\n",
       "    }\n",
       "\n",
       "    .dataframe thead th {\n",
       "        text-align: right;\n",
       "    }\n",
       "</style>\n",
       "<table border=\"1\" class=\"dataframe\">\n",
       "  <thead>\n",
       "    <tr style=\"text-align: right;\">\n",
       "      <th></th>\n",
       "      <th>percentage_confirmed</th>\n",
       "      <th>quantity_confirmed</th>\n",
       "      <th>quantity_disproved</th>\n",
       "    </tr>\n",
       "  </thead>\n",
       "  <tbody>\n",
       "    <tr>\n",
       "      <th>count</th>\n",
       "      <td>5822.000000</td>\n",
       "      <td>5822.000000</td>\n",
       "      <td>5822.000000</td>\n",
       "    </tr>\n",
       "    <tr>\n",
       "      <th>mean</th>\n",
       "      <td>1.436620</td>\n",
       "      <td>1.624356</td>\n",
       "      <td>1.881999</td>\n",
       "    </tr>\n",
       "    <tr>\n",
       "      <th>std</th>\n",
       "      <td>0.787084</td>\n",
       "      <td>0.856222</td>\n",
       "      <td>0.904087</td>\n",
       "    </tr>\n",
       "    <tr>\n",
       "      <th>min</th>\n",
       "      <td>1.000000</td>\n",
       "      <td>1.000000</td>\n",
       "      <td>1.000000</td>\n",
       "    </tr>\n",
       "    <tr>\n",
       "      <th>25%</th>\n",
       "      <td>1.000000</td>\n",
       "      <td>1.000000</td>\n",
       "      <td>1.000000</td>\n",
       "    </tr>\n",
       "    <tr>\n",
       "      <th>50%</th>\n",
       "      <td>1.000000</td>\n",
       "      <td>1.000000</td>\n",
       "      <td>2.000000</td>\n",
       "    </tr>\n",
       "    <tr>\n",
       "      <th>75%</th>\n",
       "      <td>2.000000</td>\n",
       "      <td>2.000000</td>\n",
       "      <td>2.000000</td>\n",
       "    </tr>\n",
       "    <tr>\n",
       "      <th>max</th>\n",
       "      <td>4.000000</td>\n",
       "      <td>4.000000</td>\n",
       "      <td>4.000000</td>\n",
       "    </tr>\n",
       "  </tbody>\n",
       "</table>\n",
       "</div>"
      ],
      "text/plain": [
       "       percentage_confirmed  quantity_confirmed  quantity_disproved\n",
       "count           5822.000000         5822.000000         5822.000000\n",
       "mean               1.436620            1.624356            1.881999\n",
       "std                0.787084            0.856222            0.904087\n",
       "min                1.000000            1.000000            1.000000\n",
       "25%                1.000000            1.000000            1.000000\n",
       "50%                1.000000            1.000000            2.000000\n",
       "75%                2.000000            2.000000            2.000000\n",
       "max                4.000000            4.000000            4.000000"
      ]
     },
     "execution_count": 11,
     "metadata": {},
     "output_type": "execute_result"
    }
   ],
   "source": [
    "CrowdAnnotations.describe()"
   ]
  },
  {
   "cell_type": "markdown",
   "id": "18820973",
   "metadata": {},
   "source": [
    "Около 9% из опрошенных подтверждают, что описание соответствует изображению. При этом, имеется максимальное значение — 1, что означает, что есть изображения с описанием, релевантность которого подвердили абсолютно все \"краудсорсеры\"."
   ]
  },
  {
   "cell_type": "code",
   "execution_count": 12,
   "id": "913af01b",
   "metadata": {
    "scrolled": true
   },
   "outputs": [
    {
     "data": {
      "text/html": [
       "<div>\n",
       "<style scoped>\n",
       "    .dataframe tbody tr th:only-of-type {\n",
       "        vertical-align: middle;\n",
       "    }\n",
       "\n",
       "    .dataframe tbody tr th {\n",
       "        vertical-align: top;\n",
       "    }\n",
       "\n",
       "    .dataframe thead th {\n",
       "        text-align: right;\n",
       "    }\n",
       "</style>\n",
       "<table border=\"1\" class=\"dataframe\">\n",
       "  <thead>\n",
       "    <tr style=\"text-align: right;\">\n",
       "      <th></th>\n",
       "      <th>image</th>\n",
       "      <th>query_id</th>\n",
       "      <th>expert_1</th>\n",
       "      <th>expert_2</th>\n",
       "      <th>expert_3</th>\n",
       "    </tr>\n",
       "  </thead>\n",
       "  <tbody>\n",
       "    <tr>\n",
       "      <th>0</th>\n",
       "      <td>1056338697_4f7d7ce270.jpg</td>\n",
       "      <td>2549968784_39bfbe44f9.jpg#2</td>\n",
       "      <td>1</td>\n",
       "      <td>1</td>\n",
       "      <td>1</td>\n",
       "    </tr>\n",
       "    <tr>\n",
       "      <th>1</th>\n",
       "      <td>1056338697_4f7d7ce270.jpg</td>\n",
       "      <td>2718495608_d8533e3ac5.jpg#2</td>\n",
       "      <td>1</td>\n",
       "      <td>1</td>\n",
       "      <td>2</td>\n",
       "    </tr>\n",
       "    <tr>\n",
       "      <th>2</th>\n",
       "      <td>1056338697_4f7d7ce270.jpg</td>\n",
       "      <td>3181701312_70a379ab6e.jpg#2</td>\n",
       "      <td>1</td>\n",
       "      <td>1</td>\n",
       "      <td>2</td>\n",
       "    </tr>\n",
       "    <tr>\n",
       "      <th>3</th>\n",
       "      <td>1056338697_4f7d7ce270.jpg</td>\n",
       "      <td>3207358897_bfa61fa3c6.jpg#2</td>\n",
       "      <td>1</td>\n",
       "      <td>2</td>\n",
       "      <td>2</td>\n",
       "    </tr>\n",
       "    <tr>\n",
       "      <th>4</th>\n",
       "      <td>1056338697_4f7d7ce270.jpg</td>\n",
       "      <td>3286822339_5535af6b93.jpg#2</td>\n",
       "      <td>1</td>\n",
       "      <td>1</td>\n",
       "      <td>2</td>\n",
       "    </tr>\n",
       "    <tr>\n",
       "      <th>5</th>\n",
       "      <td>1056338697_4f7d7ce270.jpg</td>\n",
       "      <td>3360930596_1e75164ce6.jpg#2</td>\n",
       "      <td>1</td>\n",
       "      <td>1</td>\n",
       "      <td>1</td>\n",
       "    </tr>\n",
       "    <tr>\n",
       "      <th>6</th>\n",
       "      <td>1056338697_4f7d7ce270.jpg</td>\n",
       "      <td>3545652636_0746537307.jpg#2</td>\n",
       "      <td>1</td>\n",
       "      <td>1</td>\n",
       "      <td>1</td>\n",
       "    </tr>\n",
       "    <tr>\n",
       "      <th>7</th>\n",
       "      <td>1056338697_4f7d7ce270.jpg</td>\n",
       "      <td>434792818_56375e203f.jpg#2</td>\n",
       "      <td>1</td>\n",
       "      <td>1</td>\n",
       "      <td>2</td>\n",
       "    </tr>\n",
       "    <tr>\n",
       "      <th>8</th>\n",
       "      <td>106490881_5a2dd9b7bd.jpg</td>\n",
       "      <td>1425069308_488e5fcf9d.jpg#2</td>\n",
       "      <td>1</td>\n",
       "      <td>1</td>\n",
       "      <td>1</td>\n",
       "    </tr>\n",
       "    <tr>\n",
       "      <th>9</th>\n",
       "      <td>106490881_5a2dd9b7bd.jpg</td>\n",
       "      <td>1714316707_8bbaa2a2ba.jpg#2</td>\n",
       "      <td>2</td>\n",
       "      <td>2</td>\n",
       "      <td>2</td>\n",
       "    </tr>\n",
       "  </tbody>\n",
       "</table>\n",
       "</div>"
      ],
      "text/plain": [
       "                       image                     query_id  expert_1  expert_2  \\\n",
       "0  1056338697_4f7d7ce270.jpg  2549968784_39bfbe44f9.jpg#2         1         1   \n",
       "1  1056338697_4f7d7ce270.jpg  2718495608_d8533e3ac5.jpg#2         1         1   \n",
       "2  1056338697_4f7d7ce270.jpg  3181701312_70a379ab6e.jpg#2         1         1   \n",
       "3  1056338697_4f7d7ce270.jpg  3207358897_bfa61fa3c6.jpg#2         1         2   \n",
       "4  1056338697_4f7d7ce270.jpg  3286822339_5535af6b93.jpg#2         1         1   \n",
       "5  1056338697_4f7d7ce270.jpg  3360930596_1e75164ce6.jpg#2         1         1   \n",
       "6  1056338697_4f7d7ce270.jpg  3545652636_0746537307.jpg#2         1         1   \n",
       "7  1056338697_4f7d7ce270.jpg   434792818_56375e203f.jpg#2         1         1   \n",
       "8   106490881_5a2dd9b7bd.jpg  1425069308_488e5fcf9d.jpg#2         1         1   \n",
       "9   106490881_5a2dd9b7bd.jpg  1714316707_8bbaa2a2ba.jpg#2         2         2   \n",
       "\n",
       "   expert_3  \n",
       "0         1  \n",
       "1         2  \n",
       "2         2  \n",
       "3         2  \n",
       "4         2  \n",
       "5         1  \n",
       "6         1  \n",
       "7         2  \n",
       "8         1  \n",
       "9         2  "
      ]
     },
     "execution_count": 12,
     "metadata": {},
     "output_type": "execute_result"
    }
   ],
   "source": [
    "ExpertAnnotations = pd.read_csv('to_upload/ExpertAnnotations.tsv', sep='\\t', header=None, names=['image', 'query_id', 'expert_1', 'expert_2', 'expert_3'])\n",
    "ExpertAnnotations.head(10)"
   ]
  },
  {
   "cell_type": "code",
   "execution_count": 13,
   "id": "7f50f78e",
   "metadata": {
    "scrolled": false
   },
   "outputs": [
    {
     "name": "stdout",
     "output_type": "stream",
     "text": [
      "<class 'pandas.core.frame.DataFrame'>\n",
      "RangeIndex: 5822 entries, 0 to 5821\n",
      "Data columns (total 5 columns):\n",
      " #   Column    Non-Null Count  Dtype \n",
      "---  ------    --------------  ----- \n",
      " 0   image     5822 non-null   object\n",
      " 1   query_id  5822 non-null   object\n",
      " 2   expert_1  5822 non-null   int64 \n",
      " 3   expert_2  5822 non-null   int64 \n",
      " 4   expert_3  5822 non-null   int64 \n",
      "dtypes: int64(3), object(2)\n",
      "memory usage: 227.6+ KB\n"
     ]
    }
   ],
   "source": [
    "ExpertAnnotations.info()"
   ]
  },
  {
   "cell_type": "code",
   "execution_count": 14,
   "id": "a1005b08",
   "metadata": {},
   "outputs": [
    {
     "data": {
      "text/plain": [
       "0"
      ]
     },
     "execution_count": 14,
     "metadata": {},
     "output_type": "execute_result"
    }
   ],
   "source": [
    "ExpertAnnotations.duplicated().sum()"
   ]
  },
  {
   "cell_type": "code",
   "execution_count": 15,
   "id": "d7ab511d",
   "metadata": {},
   "outputs": [
    {
     "data": {
      "text/html": [
       "<div>\n",
       "<style scoped>\n",
       "    .dataframe tbody tr th:only-of-type {\n",
       "        vertical-align: middle;\n",
       "    }\n",
       "\n",
       "    .dataframe tbody tr th {\n",
       "        vertical-align: top;\n",
       "    }\n",
       "\n",
       "    .dataframe thead th {\n",
       "        text-align: right;\n",
       "    }\n",
       "</style>\n",
       "<table border=\"1\" class=\"dataframe\">\n",
       "  <thead>\n",
       "    <tr style=\"text-align: right;\">\n",
       "      <th></th>\n",
       "      <th>expert_1</th>\n",
       "      <th>expert_2</th>\n",
       "      <th>expert_3</th>\n",
       "    </tr>\n",
       "  </thead>\n",
       "  <tbody>\n",
       "    <tr>\n",
       "      <th>count</th>\n",
       "      <td>5822.000000</td>\n",
       "      <td>5822.000000</td>\n",
       "      <td>5822.000000</td>\n",
       "    </tr>\n",
       "    <tr>\n",
       "      <th>mean</th>\n",
       "      <td>1.436620</td>\n",
       "      <td>1.624356</td>\n",
       "      <td>1.881999</td>\n",
       "    </tr>\n",
       "    <tr>\n",
       "      <th>std</th>\n",
       "      <td>0.787084</td>\n",
       "      <td>0.856222</td>\n",
       "      <td>0.904087</td>\n",
       "    </tr>\n",
       "    <tr>\n",
       "      <th>min</th>\n",
       "      <td>1.000000</td>\n",
       "      <td>1.000000</td>\n",
       "      <td>1.000000</td>\n",
       "    </tr>\n",
       "    <tr>\n",
       "      <th>25%</th>\n",
       "      <td>1.000000</td>\n",
       "      <td>1.000000</td>\n",
       "      <td>1.000000</td>\n",
       "    </tr>\n",
       "    <tr>\n",
       "      <th>50%</th>\n",
       "      <td>1.000000</td>\n",
       "      <td>1.000000</td>\n",
       "      <td>2.000000</td>\n",
       "    </tr>\n",
       "    <tr>\n",
       "      <th>75%</th>\n",
       "      <td>2.000000</td>\n",
       "      <td>2.000000</td>\n",
       "      <td>2.000000</td>\n",
       "    </tr>\n",
       "    <tr>\n",
       "      <th>max</th>\n",
       "      <td>4.000000</td>\n",
       "      <td>4.000000</td>\n",
       "      <td>4.000000</td>\n",
       "    </tr>\n",
       "  </tbody>\n",
       "</table>\n",
       "</div>"
      ],
      "text/plain": [
       "          expert_1     expert_2     expert_3\n",
       "count  5822.000000  5822.000000  5822.000000\n",
       "mean      1.436620     1.624356     1.881999\n",
       "std       0.787084     0.856222     0.904087\n",
       "min       1.000000     1.000000     1.000000\n",
       "25%       1.000000     1.000000     1.000000\n",
       "50%       1.000000     1.000000     2.000000\n",
       "75%       2.000000     2.000000     2.000000\n",
       "max       4.000000     4.000000     4.000000"
      ]
     },
     "execution_count": 15,
     "metadata": {},
     "output_type": "execute_result"
    }
   ],
   "source": [
    "ExpertAnnotations.describe()"
   ]
  },
  {
   "cell_type": "markdown",
   "id": "3969d11f",
   "metadata": {},
   "source": [
    "Третий эксперт оценивает сходство запроса и картинки выше остальных экспертов (среднее 1,88 против 1,4 и 1,6) "
   ]
  },
  {
   "cell_type": "code",
   "execution_count": 16,
   "id": "a0c20ab2",
   "metadata": {
    "scrolled": true
   },
   "outputs": [
    {
     "data": {
      "text/html": [
       "<div>\n",
       "<style scoped>\n",
       "    .dataframe tbody tr th:only-of-type {\n",
       "        vertical-align: middle;\n",
       "    }\n",
       "\n",
       "    .dataframe tbody tr th {\n",
       "        vertical-align: top;\n",
       "    }\n",
       "\n",
       "    .dataframe thead th {\n",
       "        text-align: right;\n",
       "    }\n",
       "</style>\n",
       "<table border=\"1\" class=\"dataframe\">\n",
       "  <thead>\n",
       "    <tr style=\"text-align: right;\">\n",
       "      <th></th>\n",
       "      <th>query_id</th>\n",
       "      <th>query_text</th>\n",
       "      <th>image</th>\n",
       "    </tr>\n",
       "  </thead>\n",
       "  <tbody>\n",
       "    <tr>\n",
       "      <th>0</th>\n",
       "      <td>1177994172_10d143cb8d.jpg#0</td>\n",
       "      <td>Two blonde boys , one in a camouflage shirt an...</td>\n",
       "      <td>1177994172_10d143cb8d.jpg</td>\n",
       "    </tr>\n",
       "    <tr>\n",
       "      <th>1</th>\n",
       "      <td>1177994172_10d143cb8d.jpg#1</td>\n",
       "      <td>Two boys are squirting water guns at each other .</td>\n",
       "      <td>1177994172_10d143cb8d.jpg</td>\n",
       "    </tr>\n",
       "    <tr>\n",
       "      <th>2</th>\n",
       "      <td>1177994172_10d143cb8d.jpg#2</td>\n",
       "      <td>Two boys spraying each other with water</td>\n",
       "      <td>1177994172_10d143cb8d.jpg</td>\n",
       "    </tr>\n",
       "    <tr>\n",
       "      <th>3</th>\n",
       "      <td>1177994172_10d143cb8d.jpg#3</td>\n",
       "      <td>Two children wearing jeans squirt water at eac...</td>\n",
       "      <td>1177994172_10d143cb8d.jpg</td>\n",
       "    </tr>\n",
       "    <tr>\n",
       "      <th>4</th>\n",
       "      <td>1177994172_10d143cb8d.jpg#4</td>\n",
       "      <td>Two young boys are squirting water at each oth...</td>\n",
       "      <td>1177994172_10d143cb8d.jpg</td>\n",
       "    </tr>\n",
       "    <tr>\n",
       "      <th>5</th>\n",
       "      <td>1232148178_4f45cc3284.jpg#0</td>\n",
       "      <td>A baby girl playing at a park .</td>\n",
       "      <td>1232148178_4f45cc3284.jpg</td>\n",
       "    </tr>\n",
       "    <tr>\n",
       "      <th>6</th>\n",
       "      <td>1232148178_4f45cc3284.jpg#1</td>\n",
       "      <td>A closeup of a child on a playground with adul...</td>\n",
       "      <td>1232148178_4f45cc3284.jpg</td>\n",
       "    </tr>\n",
       "    <tr>\n",
       "      <th>7</th>\n",
       "      <td>1232148178_4f45cc3284.jpg#2</td>\n",
       "      <td>A young boy poses for a picture in front of a ...</td>\n",
       "      <td>1232148178_4f45cc3284.jpg</td>\n",
       "    </tr>\n",
       "    <tr>\n",
       "      <th>8</th>\n",
       "      <td>1232148178_4f45cc3284.jpg#3</td>\n",
       "      <td>A young girl is smiling in front of the camera...</td>\n",
       "      <td>1232148178_4f45cc3284.jpg</td>\n",
       "    </tr>\n",
       "    <tr>\n",
       "      <th>9</th>\n",
       "      <td>1232148178_4f45cc3284.jpg#4</td>\n",
       "      <td>There is a little blond hair girl with a green...</td>\n",
       "      <td>1232148178_4f45cc3284.jpg</td>\n",
       "    </tr>\n",
       "  </tbody>\n",
       "</table>\n",
       "</div>"
      ],
      "text/plain": [
       "                      query_id  \\\n",
       "0  1177994172_10d143cb8d.jpg#0   \n",
       "1  1177994172_10d143cb8d.jpg#1   \n",
       "2  1177994172_10d143cb8d.jpg#2   \n",
       "3  1177994172_10d143cb8d.jpg#3   \n",
       "4  1177994172_10d143cb8d.jpg#4   \n",
       "5  1232148178_4f45cc3284.jpg#0   \n",
       "6  1232148178_4f45cc3284.jpg#1   \n",
       "7  1232148178_4f45cc3284.jpg#2   \n",
       "8  1232148178_4f45cc3284.jpg#3   \n",
       "9  1232148178_4f45cc3284.jpg#4   \n",
       "\n",
       "                                          query_text  \\\n",
       "0  Two blonde boys , one in a camouflage shirt an...   \n",
       "1  Two boys are squirting water guns at each other .   \n",
       "2            Two boys spraying each other with water   \n",
       "3  Two children wearing jeans squirt water at eac...   \n",
       "4  Two young boys are squirting water at each oth...   \n",
       "5                    A baby girl playing at a park .   \n",
       "6  A closeup of a child on a playground with adul...   \n",
       "7  A young boy poses for a picture in front of a ...   \n",
       "8  A young girl is smiling in front of the camera...   \n",
       "9  There is a little blond hair girl with a green...   \n",
       "\n",
       "                       image  \n",
       "0  1177994172_10d143cb8d.jpg  \n",
       "1  1177994172_10d143cb8d.jpg  \n",
       "2  1177994172_10d143cb8d.jpg  \n",
       "3  1177994172_10d143cb8d.jpg  \n",
       "4  1177994172_10d143cb8d.jpg  \n",
       "5  1232148178_4f45cc3284.jpg  \n",
       "6  1232148178_4f45cc3284.jpg  \n",
       "7  1232148178_4f45cc3284.jpg  \n",
       "8  1232148178_4f45cc3284.jpg  \n",
       "9  1232148178_4f45cc3284.jpg  "
      ]
     },
     "execution_count": 16,
     "metadata": {},
     "output_type": "execute_result"
    }
   ],
   "source": [
    "test_queries = pd.read_csv('to_upload/test_queries.csv', sep='|', index_col=0)\n",
    "test_queries.head(10)"
   ]
  },
  {
   "cell_type": "code",
   "execution_count": 17,
   "id": "e2e5388c",
   "metadata": {
    "scrolled": true
   },
   "outputs": [
    {
     "name": "stdout",
     "output_type": "stream",
     "text": [
      "<class 'pandas.core.frame.DataFrame'>\n",
      "Index: 500 entries, 0 to 499\n",
      "Data columns (total 3 columns):\n",
      " #   Column      Non-Null Count  Dtype \n",
      "---  ------      --------------  ----- \n",
      " 0   query_id    500 non-null    object\n",
      " 1   query_text  500 non-null    object\n",
      " 2   image       500 non-null    object\n",
      "dtypes: object(3)\n",
      "memory usage: 15.6+ KB\n"
     ]
    }
   ],
   "source": [
    "test_queries.info()"
   ]
  },
  {
   "cell_type": "code",
   "execution_count": 18,
   "id": "726cc844",
   "metadata": {},
   "outputs": [
    {
     "data": {
      "text/plain": [
       "0"
      ]
     },
     "execution_count": 18,
     "metadata": {},
     "output_type": "execute_result"
    }
   ],
   "source": [
    "test_queries.duplicated().sum()"
   ]
  },
  {
   "cell_type": "code",
   "execution_count": 19,
   "id": "7096a93a",
   "metadata": {
    "scrolled": false
   },
   "outputs": [
    {
     "data": {
      "text/html": [
       "<div>\n",
       "<style scoped>\n",
       "    .dataframe tbody tr th:only-of-type {\n",
       "        vertical-align: middle;\n",
       "    }\n",
       "\n",
       "    .dataframe tbody tr th {\n",
       "        vertical-align: top;\n",
       "    }\n",
       "\n",
       "    .dataframe thead th {\n",
       "        text-align: right;\n",
       "    }\n",
       "</style>\n",
       "<table border=\"1\" class=\"dataframe\">\n",
       "  <thead>\n",
       "    <tr style=\"text-align: right;\">\n",
       "      <th></th>\n",
       "      <th>query_id</th>\n",
       "      <th>query_text</th>\n",
       "      <th>image</th>\n",
       "    </tr>\n",
       "  </thead>\n",
       "  <tbody>\n",
       "    <tr>\n",
       "      <th>count</th>\n",
       "      <td>500</td>\n",
       "      <td>500</td>\n",
       "      <td>500</td>\n",
       "    </tr>\n",
       "    <tr>\n",
       "      <th>unique</th>\n",
       "      <td>500</td>\n",
       "      <td>500</td>\n",
       "      <td>100</td>\n",
       "    </tr>\n",
       "    <tr>\n",
       "      <th>top</th>\n",
       "      <td>1177994172_10d143cb8d.jpg#0</td>\n",
       "      <td>Two blonde boys , one in a camouflage shirt an...</td>\n",
       "      <td>1177994172_10d143cb8d.jpg</td>\n",
       "    </tr>\n",
       "    <tr>\n",
       "      <th>freq</th>\n",
       "      <td>1</td>\n",
       "      <td>1</td>\n",
       "      <td>5</td>\n",
       "    </tr>\n",
       "  </tbody>\n",
       "</table>\n",
       "</div>"
      ],
      "text/plain": [
       "                           query_id  \\\n",
       "count                           500   \n",
       "unique                          500   \n",
       "top     1177994172_10d143cb8d.jpg#0   \n",
       "freq                              1   \n",
       "\n",
       "                                               query_text  \\\n",
       "count                                                 500   \n",
       "unique                                                500   \n",
       "top     Two blonde boys , one in a camouflage shirt an...   \n",
       "freq                                                    1   \n",
       "\n",
       "                            image  \n",
       "count                         500  \n",
       "unique                        100  \n",
       "top     1177994172_10d143cb8d.jpg  \n",
       "freq                            5  "
      ]
     },
     "execution_count": 19,
     "metadata": {},
     "output_type": "execute_result"
    }
   ],
   "source": [
    "test_queries.describe()"
   ]
  },
  {
   "cell_type": "markdown",
   "id": "5f765ed1",
   "metadata": {},
   "source": [
    "Видим 100 изображений, по 5 запросов на каждое."
   ]
  },
  {
   "cell_type": "markdown",
   "id": "7f39203e",
   "metadata": {},
   "source": [
    "### ВЫВОДЫ\n",
    "\n",
    " * Проведена загрузка данных и созданы переменные для них.\n",
    " * Обнаружено, что в работе на краудсорсинге соответствие текстового запроса изображению отмечается менее, чем в 9% случаев.\n",
    " * Эксперты в целом также невысоко оценивают соответствие текста изображению, их средние оценки колеблются в диапазоне 1,4-1,9 баллов из 4 и можно сделать вывод что запрос и изображение непохожи.\n",
    " * Экспертных оценок у нас 5822 запросов × 3 эксперта, а краудсорсинговых 47830."
   ]
  },
  {
   "cell_type": "markdown",
   "id": "f9a01ff7",
   "metadata": {
    "id": "17bb86e1"
   },
   "source": [
    "<img src=\"https://upload.wikimedia.org/wikipedia/commons/thumb/8/81/Stop_sign.png/240px-Stop_sign.png\" align=left width=35, heigth=35>\n",
    "<div class=\"alert alert-danger\">\n",
    "Ты познакомился с данными. Пожалуйста, напиши выводы что ты в них увидел.\n",
    "\n",
    "</div>\n"
   ]
  },
  {
   "cell_type": "markdown",
   "id": "62ddc5a2",
   "metadata": {},
   "source": [
    "<div class=\"alert\" style=\"background-color:#ead7f7;color:#8737bf\">\n",
    "    <font size=\"3\"><b>Комментарий студента</b></font>\n",
    "   \n",
    "Дополнено выводами\n",
    "\n",
    "</div>"
   ]
  },
  {
   "cell_type": "markdown",
   "id": "c54b0a92",
   "metadata": {},
   "source": [
    "<img src=\"https://upload.wikimedia.org/wikipedia/commons/b/ba/Warning_sign_4.0.png\" align=left width=44, heigth=33>\n",
    "<div class=\"alert alert-warning\">\n",
    "    \n",
    "Прежде чем приступать к чистке советую тебе провести предобработку. Общая последовательность шагов следующая:\n",
    "    \n",
    " - вначале мы знакомимся с данными и мысленно составляем план, как мы будем \"жонглировать\" доступными данными, чтобы получить итоговый датафрейм, на котором будем учить модели\n",
    " - в рамках реализации этого плана получаем единый датафрейм используя доступные три.\n",
    "    \n",
    "В следующем комментарии подсвечу тебе возможные стратегии использования оценок с плюсами и минусами    \n",
    "    \n",
    "    \n",
    "</div>"
   ]
  },
  {
   "cell_type": "markdown",
   "id": "dced1a65",
   "metadata": {},
   "source": [
    "<img src=\"https://upload.wikimedia.org/wikipedia/commons/b/ba/Warning_sign_4.0.png\" align=left width=44, heigth=33>\n",
    "<div class=\"alert alert-warning\">\n",
    "    \n",
    "В этом проекте есть несколько возможных стратегий работы с обучающими и краудсорс оценками,  вот эти стратегии с плюсами и минусами:\n",
    "   \n",
    "    \n",
    " - использовать соединение через outer, в этом случае, при корректной обработке пропусков мы можем получить более 50К размеченых пар. К плюсам данного подхода можно отнести большое количество данных. Минус - в основном это будут данные, размеченные краудсорсерами, а там качество раметки ниже.\n",
    " - использовать только экспертные оценки. плюс - высокое качество данных (разметка имеет шкалу). Минус - данных меньше.  Поясню по поводу качества разметки на примере: если на изображении одна собака, а в описании \"две собаки бегут по берегу\", то эксперты поставять соответствие 0,6-0,7 (переводя в шкалу 0-1), а краудсорсеры поставят 0.  Но на экспертных оценках модель хотя-бы научится находить собак, а на краудсор оценках ничему не начится.\n",
    "    \n",
    " - использование соединения через left.  Данный подход очевидно проигрывает второму варианту: данных столько же, нужно дополнительно возиться с объединением, но качество разметки снижается.. Но это соответсвует предложениям авторов проекта, поэтому такой подход имеет право на жизнь\n",
    "    \n",
    " - объединение через inner. Тут все плохо - и данных ОЧЕНЬ мало (в два раза меньше, чем использовать только экспертные оценки) и качество у них \"подпорчено\". И навыков по обработке пропусков не получаем.....\n",
    " \n",
    "</div>"
   ]
  },
  {
   "cell_type": "markdown",
   "id": "7cbaa861",
   "metadata": {
    "cellId": "9h91oxwx86d7i8rqt5miv4",
    "execution_id": "4401a0e8-fd2b-479b-9e84-6ffafbcead47",
    "id": "7cbaa861"
   },
   "source": [
    "## 2. Проверка данных\n",
    "\n",
    "В некоторых странах, где работает ваша компания, действуют ограничения по обработке изображений: поисковым сервисам и сервисам, предоставляющим возможность поиска, запрещено без разрешения родителей или законных представителей предоставлять любую информацию, в том числе, но не исключительно тексты, изображения, видео и аудио, содержащие описание, изображение или запись голоса детей. Ребёнком считается любой человек, не достигший 16 лет.\n",
    "\n",
    "В вашем сервисе строго следуют законам стран, в которых работают. Поэтому при попытке посмотреть изображения, запрещённые законодательством, вместо картинок показывается дисклеймер:\n",
    "\n",
    "> This image is unavailable in your country in compliance with local laws\n",
    ">\n",
    "\n",
    "Однако у вас в PoC нет возможности воспользоваться данным функционалом. Поэтому все изображения, которые нарушают данный закон, нужно удалить из обучающей выборки."
   ]
  },
  {
   "cell_type": "code",
   "execution_count": 20,
   "id": "e9accaa7",
   "metadata": {},
   "outputs": [],
   "source": [
    "# Удаляем пары  с изображениями  и запросами, где от всех трёх экспертов получены разные оценки\n",
    "unique_votes = ExpertAnnotations.loc[:,['expert_1', 'expert_2', 'expert_3']].apply(pd.Series.nunique, axis=1)\n",
    "mask = unique_votes <= 2\n",
    "ExpertAnnotations = ExpertAnnotations[mask]"
   ]
  },
  {
   "cell_type": "code",
   "execution_count": 21,
   "id": "e1c8a4ab",
   "metadata": {
    "scrolled": false
   },
   "outputs": [
    {
     "data": {
      "text/html": [
       "<div>\n",
       "<style scoped>\n",
       "    .dataframe tbody tr th:only-of-type {\n",
       "        vertical-align: middle;\n",
       "    }\n",
       "\n",
       "    .dataframe tbody tr th {\n",
       "        vertical-align: top;\n",
       "    }\n",
       "\n",
       "    .dataframe thead th {\n",
       "        text-align: right;\n",
       "    }\n",
       "</style>\n",
       "<table border=\"1\" class=\"dataframe\">\n",
       "  <thead>\n",
       "    <tr style=\"text-align: right;\">\n",
       "      <th></th>\n",
       "      <th>image</th>\n",
       "      <th>query_id</th>\n",
       "      <th>expert_1</th>\n",
       "      <th>expert_2</th>\n",
       "      <th>expert_3</th>\n",
       "      <th>majority</th>\n",
       "    </tr>\n",
       "  </thead>\n",
       "  <tbody>\n",
       "    <tr>\n",
       "      <th>0</th>\n",
       "      <td>1056338697_4f7d7ce270.jpg</td>\n",
       "      <td>2549968784_39bfbe44f9.jpg#2</td>\n",
       "      <td>1</td>\n",
       "      <td>1</td>\n",
       "      <td>1</td>\n",
       "      <td>1</td>\n",
       "    </tr>\n",
       "    <tr>\n",
       "      <th>1</th>\n",
       "      <td>1056338697_4f7d7ce270.jpg</td>\n",
       "      <td>2718495608_d8533e3ac5.jpg#2</td>\n",
       "      <td>1</td>\n",
       "      <td>1</td>\n",
       "      <td>2</td>\n",
       "      <td>1</td>\n",
       "    </tr>\n",
       "    <tr>\n",
       "      <th>2</th>\n",
       "      <td>1056338697_4f7d7ce270.jpg</td>\n",
       "      <td>3181701312_70a379ab6e.jpg#2</td>\n",
       "      <td>1</td>\n",
       "      <td>1</td>\n",
       "      <td>2</td>\n",
       "      <td>1</td>\n",
       "    </tr>\n",
       "    <tr>\n",
       "      <th>3</th>\n",
       "      <td>1056338697_4f7d7ce270.jpg</td>\n",
       "      <td>3207358897_bfa61fa3c6.jpg#2</td>\n",
       "      <td>1</td>\n",
       "      <td>2</td>\n",
       "      <td>2</td>\n",
       "      <td>2</td>\n",
       "    </tr>\n",
       "    <tr>\n",
       "      <th>4</th>\n",
       "      <td>1056338697_4f7d7ce270.jpg</td>\n",
       "      <td>3286822339_5535af6b93.jpg#2</td>\n",
       "      <td>1</td>\n",
       "      <td>1</td>\n",
       "      <td>2</td>\n",
       "      <td>1</td>\n",
       "    </tr>\n",
       "    <tr>\n",
       "      <th>...</th>\n",
       "      <td>...</td>\n",
       "      <td>...</td>\n",
       "      <td>...</td>\n",
       "      <td>...</td>\n",
       "      <td>...</td>\n",
       "      <td>...</td>\n",
       "    </tr>\n",
       "    <tr>\n",
       "      <th>5817</th>\n",
       "      <td>997722733_0cb5439472.jpg</td>\n",
       "      <td>2981702521_2459f2c1c4.jpg#2</td>\n",
       "      <td>1</td>\n",
       "      <td>1</td>\n",
       "      <td>1</td>\n",
       "      <td>1</td>\n",
       "    </tr>\n",
       "    <tr>\n",
       "      <th>5818</th>\n",
       "      <td>997722733_0cb5439472.jpg</td>\n",
       "      <td>2985679744_75a7102aab.jpg#2</td>\n",
       "      <td>1</td>\n",
       "      <td>1</td>\n",
       "      <td>1</td>\n",
       "      <td>1</td>\n",
       "    </tr>\n",
       "    <tr>\n",
       "      <th>5819</th>\n",
       "      <td>997722733_0cb5439472.jpg</td>\n",
       "      <td>3150742439_b8a352e1e0.jpg#2</td>\n",
       "      <td>1</td>\n",
       "      <td>1</td>\n",
       "      <td>2</td>\n",
       "      <td>1</td>\n",
       "    </tr>\n",
       "    <tr>\n",
       "      <th>5820</th>\n",
       "      <td>997722733_0cb5439472.jpg</td>\n",
       "      <td>3375070563_3c290a7991.jpg#2</td>\n",
       "      <td>1</td>\n",
       "      <td>1</td>\n",
       "      <td>1</td>\n",
       "      <td>1</td>\n",
       "    </tr>\n",
       "    <tr>\n",
       "      <th>5821</th>\n",
       "      <td>997722733_0cb5439472.jpg</td>\n",
       "      <td>486917990_72bd4069af.jpg#2</td>\n",
       "      <td>3</td>\n",
       "      <td>3</td>\n",
       "      <td>3</td>\n",
       "      <td>3</td>\n",
       "    </tr>\n",
       "  </tbody>\n",
       "</table>\n",
       "<p>5696 rows × 6 columns</p>\n",
       "</div>"
      ],
      "text/plain": [
       "                          image                     query_id  expert_1  \\\n",
       "0     1056338697_4f7d7ce270.jpg  2549968784_39bfbe44f9.jpg#2         1   \n",
       "1     1056338697_4f7d7ce270.jpg  2718495608_d8533e3ac5.jpg#2         1   \n",
       "2     1056338697_4f7d7ce270.jpg  3181701312_70a379ab6e.jpg#2         1   \n",
       "3     1056338697_4f7d7ce270.jpg  3207358897_bfa61fa3c6.jpg#2         1   \n",
       "4     1056338697_4f7d7ce270.jpg  3286822339_5535af6b93.jpg#2         1   \n",
       "...                         ...                          ...       ...   \n",
       "5817   997722733_0cb5439472.jpg  2981702521_2459f2c1c4.jpg#2         1   \n",
       "5818   997722733_0cb5439472.jpg  2985679744_75a7102aab.jpg#2         1   \n",
       "5819   997722733_0cb5439472.jpg  3150742439_b8a352e1e0.jpg#2         1   \n",
       "5820   997722733_0cb5439472.jpg  3375070563_3c290a7991.jpg#2         1   \n",
       "5821   997722733_0cb5439472.jpg   486917990_72bd4069af.jpg#2         3   \n",
       "\n",
       "      expert_2  expert_3  majority  \n",
       "0            1         1         1  \n",
       "1            1         2         1  \n",
       "2            1         2         1  \n",
       "3            2         2         2  \n",
       "4            1         2         1  \n",
       "...        ...       ...       ...  \n",
       "5817         1         1         1  \n",
       "5818         1         1         1  \n",
       "5819         1         2         1  \n",
       "5820         1         1         1  \n",
       "5821         3         3         3  \n",
       "\n",
       "[5696 rows x 6 columns]"
      ]
     },
     "execution_count": 21,
     "metadata": {},
     "output_type": "execute_result"
    }
   ],
   "source": [
    "#Подсчитываем количество голосов каждого эксперта за каждую из оценок\n",
    "votes = ExpertAnnotations.apply(pd.Series.value_counts, axis=1)\n",
    "\n",
    "# Находим оценки, за которые проголосовала бОльшая часть экспертов\n",
    "majority = votes.idxmax(axis=1)\n",
    "\n",
    "# Содаем новый столбец для этих оценок\n",
    "ExpertAnnotations['majority'] = majority\n",
    "ExpertAnnotations"
   ]
  },
  {
   "cell_type": "markdown",
   "id": "4ff8f9c2",
   "metadata": {},
   "source": [
    "Далее  таблицы с оценками экспертов и краудсорсеров по столбцам 'query_id' и 'image'. \n",
    "\n",
    "После этого пишем функцию в которой оценка эксперта будет приниматься с коэффициентом 0.7, а оценка крауда — с коэффициентом 0.3. При отсутствии оценки от крауда экспертная оценка принимается с коэффициентом 1."
   ]
  },
  {
   "cell_type": "code",
   "execution_count": 22,
   "id": "cbb42ed8",
   "metadata": {},
   "outputs": [],
   "source": [
    "# Объединим таблицы\n",
    "df = pd.merge(ExpertAnnotations, CrowdAnnotations, on=['image', 'query_id'], how='left').drop(['expert_1', 'expert_2', 'expert_3'], axis=1)"
   ]
  },
  {
   "cell_type": "code",
   "execution_count": 23,
   "id": "a8c61edb",
   "metadata": {
    "scrolled": true
   },
   "outputs": [
    {
     "data": {
      "text/html": [
       "<div>\n",
       "<style scoped>\n",
       "    .dataframe tbody tr th:only-of-type {\n",
       "        vertical-align: middle;\n",
       "    }\n",
       "\n",
       "    .dataframe tbody tr th {\n",
       "        vertical-align: top;\n",
       "    }\n",
       "\n",
       "    .dataframe thead th {\n",
       "        text-align: right;\n",
       "    }\n",
       "</style>\n",
       "<table border=\"1\" class=\"dataframe\">\n",
       "  <thead>\n",
       "    <tr style=\"text-align: right;\">\n",
       "      <th></th>\n",
       "      <th>image</th>\n",
       "      <th>query_id</th>\n",
       "      <th>avg_note</th>\n",
       "    </tr>\n",
       "  </thead>\n",
       "  <tbody>\n",
       "    <tr>\n",
       "      <th>0</th>\n",
       "      <td>1056338697_4f7d7ce270.jpg</td>\n",
       "      <td>2549968784_39bfbe44f9.jpg#2</td>\n",
       "      <td>0.300000</td>\n",
       "    </tr>\n",
       "    <tr>\n",
       "      <th>1</th>\n",
       "      <td>1056338697_4f7d7ce270.jpg</td>\n",
       "      <td>2718495608_d8533e3ac5.jpg#2</td>\n",
       "      <td>0.300000</td>\n",
       "    </tr>\n",
       "    <tr>\n",
       "      <th>2</th>\n",
       "      <td>1056338697_4f7d7ce270.jpg</td>\n",
       "      <td>3181701312_70a379ab6e.jpg#2</td>\n",
       "      <td>0.300000</td>\n",
       "    </tr>\n",
       "    <tr>\n",
       "      <th>3</th>\n",
       "      <td>1056338697_4f7d7ce270.jpg</td>\n",
       "      <td>3207358897_bfa61fa3c6.jpg#2</td>\n",
       "      <td>0.533333</td>\n",
       "    </tr>\n",
       "    <tr>\n",
       "      <th>4</th>\n",
       "      <td>1056338697_4f7d7ce270.jpg</td>\n",
       "      <td>3286822339_5535af6b93.jpg#2</td>\n",
       "      <td>0.300000</td>\n",
       "    </tr>\n",
       "    <tr>\n",
       "      <th>...</th>\n",
       "      <td>...</td>\n",
       "      <td>...</td>\n",
       "      <td>...</td>\n",
       "    </tr>\n",
       "    <tr>\n",
       "      <th>5691</th>\n",
       "      <td>997722733_0cb5439472.jpg</td>\n",
       "      <td>2981702521_2459f2c1c4.jpg#2</td>\n",
       "      <td>0.300000</td>\n",
       "    </tr>\n",
       "    <tr>\n",
       "      <th>5692</th>\n",
       "      <td>997722733_0cb5439472.jpg</td>\n",
       "      <td>2985679744_75a7102aab.jpg#2</td>\n",
       "      <td>0.300000</td>\n",
       "    </tr>\n",
       "    <tr>\n",
       "      <th>5693</th>\n",
       "      <td>997722733_0cb5439472.jpg</td>\n",
       "      <td>3150742439_b8a352e1e0.jpg#2</td>\n",
       "      <td>0.300000</td>\n",
       "    </tr>\n",
       "    <tr>\n",
       "      <th>5694</th>\n",
       "      <td>997722733_0cb5439472.jpg</td>\n",
       "      <td>3375070563_3c290a7991.jpg#2</td>\n",
       "      <td>0.300000</td>\n",
       "    </tr>\n",
       "    <tr>\n",
       "      <th>5695</th>\n",
       "      <td>997722733_0cb5439472.jpg</td>\n",
       "      <td>486917990_72bd4069af.jpg#2</td>\n",
       "      <td>1.366667</td>\n",
       "    </tr>\n",
       "  </tbody>\n",
       "</table>\n",
       "<p>5696 rows × 3 columns</p>\n",
       "</div>"
      ],
      "text/plain": [
       "                          image                     query_id  avg_note\n",
       "0     1056338697_4f7d7ce270.jpg  2549968784_39bfbe44f9.jpg#2  0.300000\n",
       "1     1056338697_4f7d7ce270.jpg  2718495608_d8533e3ac5.jpg#2  0.300000\n",
       "2     1056338697_4f7d7ce270.jpg  3181701312_70a379ab6e.jpg#2  0.300000\n",
       "3     1056338697_4f7d7ce270.jpg  3207358897_bfa61fa3c6.jpg#2  0.533333\n",
       "4     1056338697_4f7d7ce270.jpg  3286822339_5535af6b93.jpg#2  0.300000\n",
       "...                         ...                          ...       ...\n",
       "5691   997722733_0cb5439472.jpg  2981702521_2459f2c1c4.jpg#2  0.300000\n",
       "5692   997722733_0cb5439472.jpg  2985679744_75a7102aab.jpg#2  0.300000\n",
       "5693   997722733_0cb5439472.jpg  3150742439_b8a352e1e0.jpg#2  0.300000\n",
       "5694   997722733_0cb5439472.jpg  3375070563_3c290a7991.jpg#2  0.300000\n",
       "5695   997722733_0cb5439472.jpg   486917990_72bd4069af.jpg#2  1.366667\n",
       "\n",
       "[5696 rows x 3 columns]"
      ]
     },
     "execution_count": 23,
     "metadata": {},
     "output_type": "execute_result"
    }
   ],
   "source": [
    "# функция для агрегирования оценок экспертов и крауда\n",
    "def avg_note(row):\n",
    "    majority = row.loc['majority']\n",
    "    percentage_confirmed = row.loc['percentage_confirmed']\n",
    "    #проверяем наличие оценки от крауда в каждой строоке\n",
    "    if math.isnan(percentage_confirmed) :\n",
    "        note = (majority-1)/3\n",
    "    else:\n",
    "        note = (majority-1)/3*0.7 + percentage_confirmed*0.3\n",
    "    return note\n",
    "\n",
    "df['avg_note']=df.apply(avg_note, axis=1)\n",
    "df = df.drop(['majority', 'percentage_confirmed', 'quantity_confirmed', 'quantity_disproved'], axis=1)\n",
    "df"
   ]
  },
  {
   "cell_type": "code",
   "execution_count": 24,
   "id": "8c7ffb50",
   "metadata": {
    "scrolled": false
   },
   "outputs": [
    {
     "data": {
      "text/html": [
       "<div>\n",
       "<style scoped>\n",
       "    .dataframe tbody tr th:only-of-type {\n",
       "        vertical-align: middle;\n",
       "    }\n",
       "\n",
       "    .dataframe tbody tr th {\n",
       "        vertical-align: top;\n",
       "    }\n",
       "\n",
       "    .dataframe thead th {\n",
       "        text-align: right;\n",
       "    }\n",
       "</style>\n",
       "<table border=\"1\" class=\"dataframe\">\n",
       "  <thead>\n",
       "    <tr style=\"text-align: right;\">\n",
       "      <th></th>\n",
       "      <th>avg_note</th>\n",
       "    </tr>\n",
       "  </thead>\n",
       "  <tbody>\n",
       "    <tr>\n",
       "      <th>count</th>\n",
       "      <td>5696.000000</td>\n",
       "    </tr>\n",
       "    <tr>\n",
       "      <th>mean</th>\n",
       "      <td>0.575193</td>\n",
       "    </tr>\n",
       "    <tr>\n",
       "      <th>std</th>\n",
       "      <td>0.426619</td>\n",
       "    </tr>\n",
       "    <tr>\n",
       "      <th>min</th>\n",
       "      <td>0.300000</td>\n",
       "    </tr>\n",
       "    <tr>\n",
       "      <th>25%</th>\n",
       "      <td>0.300000</td>\n",
       "    </tr>\n",
       "    <tr>\n",
       "      <th>50%</th>\n",
       "      <td>0.300000</td>\n",
       "    </tr>\n",
       "    <tr>\n",
       "      <th>75%</th>\n",
       "      <td>0.833333</td>\n",
       "    </tr>\n",
       "    <tr>\n",
       "      <th>max</th>\n",
       "      <td>1.900000</td>\n",
       "    </tr>\n",
       "  </tbody>\n",
       "</table>\n",
       "</div>"
      ],
      "text/plain": [
       "          avg_note\n",
       "count  5696.000000\n",
       "mean      0.575193\n",
       "std       0.426619\n",
       "min       0.300000\n",
       "25%       0.300000\n",
       "50%       0.300000\n",
       "75%       0.833333\n",
       "max       1.900000"
      ]
     },
     "execution_count": 24,
     "metadata": {},
     "output_type": "execute_result"
    }
   ],
   "source": [
    "df.describe()"
   ]
  },
  {
   "cell_type": "code",
   "execution_count": 25,
   "id": "40cf8d45",
   "metadata": {},
   "outputs": [],
   "source": [
    "train_dataset['query_text'] = train_dataset['query_text'].str.lower()"
   ]
  },
  {
   "cell_type": "code",
   "execution_count": 26,
   "id": "7f549dbb",
   "metadata": {
    "scrolled": true
   },
   "outputs": [],
   "source": [
    "disabled_pipes = [\"parser\",  \"ner\"]\n",
    "nlp = spacy.load(\"en_core_web_sm\", disable=disabled_pipes)"
   ]
  },
  {
   "cell_type": "code",
   "execution_count": 27,
   "id": "b7964fb0",
   "metadata": {},
   "outputs": [],
   "source": [
    "def clear_text(text):\n",
    "    processed_text = re.sub(r'[^A-Za-z ]', ' ', text)\n",
    "    return ' '.join(processed_text.split())"
   ]
  },
  {
   "cell_type": "code",
   "execution_count": 28,
   "id": "6b9a1da1",
   "metadata": {},
   "outputs": [
    {
     "name": "stderr",
     "output_type": "stream",
     "text": [
      "100%|██████████████████████████████████████████████████████████████████████████| 5822/5822 [00:00<00:00, 278319.97it/s]\n"
     ]
    }
   ],
   "source": [
    "tqdm.pandas()\n",
    "train_dataset['query_text'] = train_dataset['query_text'].progress_apply(lambda x: clear_text(x))"
   ]
  },
  {
   "cell_type": "code",
   "execution_count": 29,
   "id": "2ae84c2a",
   "metadata": {
    "scrolled": true
   },
   "outputs": [
    {
     "name": "stderr",
     "output_type": "stream",
     "text": [
      "100%|████████████████████████████████████████████████████████████████████████████| 5822/5822 [00:04<00:00, 1251.01it/s]\n"
     ]
    }
   ],
   "source": [
    "train_dataset['query_text'] = [ \" \".join([i.lemma_ for i in doc]) for doc in tqdm(nlp.pipe(train_dataset['query_text'].values, disable=['ner', 'parser']), total=train_dataset.shape[0])]"
   ]
  },
  {
   "cell_type": "code",
   "execution_count": 30,
   "id": "924f2ca4",
   "metadata": {},
   "outputs": [],
   "source": [
    "def lemmatize(texts):\n",
    "    lemmatized_texts = []\n",
    "    for doc in tqdm(nlp.pipe(texts, disable=['ner', 'parser']), total=len(texts)):\n",
    "        lemmatized_texts.append(\" \".join([i.lemma_ for i in doc]))\n",
    "    return lemmatized_texts"
   ]
  },
  {
   "cell_type": "code",
   "execution_count": 31,
   "id": "b1675104",
   "metadata": {},
   "outputs": [],
   "source": [
    "stop_kids = ['child', 'children', 'baby', 'babies', 'girl', 'boy', 'girls', 'boys', 'kid', 'kids', 'juvenile',\n",
    "             'minor', 'minors', 'teen', 'teens', 'teenager', 'teenagers', 'underage', 'infant', 'infants', 'toddler', 'toddlers']"
   ]
  },
  {
   "cell_type": "code",
   "execution_count": 32,
   "id": "938c4c1a",
   "metadata": {},
   "outputs": [],
   "source": [
    "def check_kids(row):\n",
    "    text = row.loc['query_text']\n",
    "    for word in text.split():\n",
    "        if word in stop_kids:\n",
    "            return True\n",
    "    return False"
   ]
  },
  {
   "cell_type": "code",
   "execution_count": 33,
   "id": "6ec46670",
   "metadata": {
    "scrolled": true
   },
   "outputs": [],
   "source": [
    "# (добавляем столбец) создаем список/таблицу с признаком наличия \"запрещенных\" слов в тексте\n",
    "train_dataset['kids_list'] = train_dataset.apply(check_kids, axis=1)"
   ]
  },
  {
   "cell_type": "code",
   "execution_count": 34,
   "id": "6ca866c4",
   "metadata": {},
   "outputs": [
    {
     "data": {
      "text/html": [
       "<div>\n",
       "<style scoped>\n",
       "    .dataframe tbody tr th:only-of-type {\n",
       "        vertical-align: middle;\n",
       "    }\n",
       "\n",
       "    .dataframe tbody tr th {\n",
       "        vertical-align: top;\n",
       "    }\n",
       "\n",
       "    .dataframe thead th {\n",
       "        text-align: right;\n",
       "    }\n",
       "</style>\n",
       "<table border=\"1\" class=\"dataframe\">\n",
       "  <thead>\n",
       "    <tr style=\"text-align: right;\">\n",
       "      <th></th>\n",
       "      <th>image</th>\n",
       "      <th>query_id</th>\n",
       "      <th>query_text</th>\n",
       "      <th>kids_list</th>\n",
       "    </tr>\n",
       "  </thead>\n",
       "  <tbody>\n",
       "    <tr>\n",
       "      <th>0</th>\n",
       "      <td>1056338697_4f7d7ce270.jpg</td>\n",
       "      <td>2549968784_39bfbe44f9.jpg#2</td>\n",
       "      <td>a young child be wear blue goggle and sit in a...</td>\n",
       "      <td>True</td>\n",
       "    </tr>\n",
       "    <tr>\n",
       "      <th>1</th>\n",
       "      <td>1262583859_653f1469a9.jpg</td>\n",
       "      <td>2549968784_39bfbe44f9.jpg#2</td>\n",
       "      <td>a young child be wear blue goggle and sit in a...</td>\n",
       "      <td>True</td>\n",
       "    </tr>\n",
       "    <tr>\n",
       "      <th>2</th>\n",
       "      <td>2447284966_d6bbdb4b6e.jpg</td>\n",
       "      <td>2549968784_39bfbe44f9.jpg#2</td>\n",
       "      <td>a young child be wear blue goggle and sit in a...</td>\n",
       "      <td>True</td>\n",
       "    </tr>\n",
       "    <tr>\n",
       "      <th>3</th>\n",
       "      <td>2549968784_39bfbe44f9.jpg</td>\n",
       "      <td>2549968784_39bfbe44f9.jpg#2</td>\n",
       "      <td>a young child be wear blue goggle and sit in a...</td>\n",
       "      <td>True</td>\n",
       "    </tr>\n",
       "    <tr>\n",
       "      <th>4</th>\n",
       "      <td>2621415349_ef1a7e73be.jpg</td>\n",
       "      <td>2549968784_39bfbe44f9.jpg#2</td>\n",
       "      <td>a young child be wear blue goggle and sit in a...</td>\n",
       "      <td>True</td>\n",
       "    </tr>\n",
       "    <tr>\n",
       "      <th>5</th>\n",
       "      <td>3030566410_393c36a6c5.jpg</td>\n",
       "      <td>2549968784_39bfbe44f9.jpg#2</td>\n",
       "      <td>a young child be wear blue goggle and sit in a...</td>\n",
       "      <td>True</td>\n",
       "    </tr>\n",
       "    <tr>\n",
       "      <th>6</th>\n",
       "      <td>3155451946_c0862c70cb.jpg</td>\n",
       "      <td>2549968784_39bfbe44f9.jpg#2</td>\n",
       "      <td>a young child be wear blue goggle and sit in a...</td>\n",
       "      <td>True</td>\n",
       "    </tr>\n",
       "    <tr>\n",
       "      <th>7</th>\n",
       "      <td>3222041930_f642f49d28.jpg</td>\n",
       "      <td>2549968784_39bfbe44f9.jpg#2</td>\n",
       "      <td>a young child be wear blue goggle and sit in a...</td>\n",
       "      <td>True</td>\n",
       "    </tr>\n",
       "    <tr>\n",
       "      <th>8</th>\n",
       "      <td>343218198_1ca90e0734.jpg</td>\n",
       "      <td>2549968784_39bfbe44f9.jpg#2</td>\n",
       "      <td>a young child be wear blue goggle and sit in a...</td>\n",
       "      <td>True</td>\n",
       "    </tr>\n",
       "    <tr>\n",
       "      <th>9</th>\n",
       "      <td>3718964174_cb2dc1615e.jpg</td>\n",
       "      <td>2549968784_39bfbe44f9.jpg#2</td>\n",
       "      <td>a young child be wear blue goggle and sit in a...</td>\n",
       "      <td>True</td>\n",
       "    </tr>\n",
       "    <tr>\n",
       "      <th>10</th>\n",
       "      <td>3741827382_71e93298d0.jpg</td>\n",
       "      <td>2549968784_39bfbe44f9.jpg#2</td>\n",
       "      <td>a young child be wear blue goggle and sit in a...</td>\n",
       "      <td>True</td>\n",
       "    </tr>\n",
       "    <tr>\n",
       "      <th>11</th>\n",
       "      <td>486712504_36be449055.jpg</td>\n",
       "      <td>2549968784_39bfbe44f9.jpg#2</td>\n",
       "      <td>a young child be wear blue goggle and sit in a...</td>\n",
       "      <td>True</td>\n",
       "    </tr>\n",
       "    <tr>\n",
       "      <th>12</th>\n",
       "      <td>1056338697_4f7d7ce270.jpg</td>\n",
       "      <td>2718495608_d8533e3ac5.jpg#2</td>\n",
       "      <td>a girl wear a yellow shirt and sunglass smile</td>\n",
       "      <td>True</td>\n",
       "    </tr>\n",
       "    <tr>\n",
       "      <th>13</th>\n",
       "      <td>1167669558_87a8a467d6.jpg</td>\n",
       "      <td>2718495608_d8533e3ac5.jpg#2</td>\n",
       "      <td>a girl wear a yellow shirt and sunglass smile</td>\n",
       "      <td>True</td>\n",
       "    </tr>\n",
       "    <tr>\n",
       "      <th>14</th>\n",
       "      <td>2616643090_4f2d2d1a44.jpg</td>\n",
       "      <td>2718495608_d8533e3ac5.jpg#2</td>\n",
       "      <td>a girl wear a yellow shirt and sunglass smile</td>\n",
       "      <td>True</td>\n",
       "    </tr>\n",
       "    <tr>\n",
       "      <th>15</th>\n",
       "      <td>2648165716_02e2e74fd6.jpg</td>\n",
       "      <td>2718495608_d8533e3ac5.jpg#2</td>\n",
       "      <td>a girl wear a yellow shirt and sunglass smile</td>\n",
       "      <td>True</td>\n",
       "    </tr>\n",
       "    <tr>\n",
       "      <th>16</th>\n",
       "      <td>2718495608_d8533e3ac5.jpg</td>\n",
       "      <td>2718495608_d8533e3ac5.jpg#2</td>\n",
       "      <td>a girl wear a yellow shirt and sunglass smile</td>\n",
       "      <td>True</td>\n",
       "    </tr>\n",
       "    <tr>\n",
       "      <th>17</th>\n",
       "      <td>3244747165_17028936e0.jpg</td>\n",
       "      <td>2718495608_d8533e3ac5.jpg#2</td>\n",
       "      <td>a girl wear a yellow shirt and sunglass smile</td>\n",
       "      <td>True</td>\n",
       "    </tr>\n",
       "    <tr>\n",
       "      <th>18</th>\n",
       "      <td>3503689049_63212220be.jpg</td>\n",
       "      <td>2718495608_d8533e3ac5.jpg#2</td>\n",
       "      <td>a girl wear a yellow shirt and sunglass smile</td>\n",
       "      <td>True</td>\n",
       "    </tr>\n",
       "    <tr>\n",
       "      <th>19</th>\n",
       "      <td>3506560025_8d0f4f9ac4.jpg</td>\n",
       "      <td>2718495608_d8533e3ac5.jpg#2</td>\n",
       "      <td>a girl wear a yellow shirt and sunglass smile</td>\n",
       "      <td>True</td>\n",
       "    </tr>\n",
       "    <tr>\n",
       "      <th>20</th>\n",
       "      <td>3718964174_cb2dc1615e.jpg</td>\n",
       "      <td>2718495608_d8533e3ac5.jpg#2</td>\n",
       "      <td>a girl wear a yellow shirt and sunglass smile</td>\n",
       "      <td>True</td>\n",
       "    </tr>\n",
       "    <tr>\n",
       "      <th>21</th>\n",
       "      <td>700884207_d3ec546494.jpg</td>\n",
       "      <td>2718495608_d8533e3ac5.jpg#2</td>\n",
       "      <td>a girl wear a yellow shirt and sunglass smile</td>\n",
       "      <td>True</td>\n",
       "    </tr>\n",
       "    <tr>\n",
       "      <th>22</th>\n",
       "      <td>1056338697_4f7d7ce270.jpg</td>\n",
       "      <td>3181701312_70a379ab6e.jpg#2</td>\n",
       "      <td>a man sleep under a blanket on a city street</td>\n",
       "      <td>False</td>\n",
       "    </tr>\n",
       "    <tr>\n",
       "      <th>23</th>\n",
       "      <td>3187395715_f2940c2b72.jpg</td>\n",
       "      <td>3181701312_70a379ab6e.jpg#2</td>\n",
       "      <td>a man sleep under a blanket on a city street</td>\n",
       "      <td>False</td>\n",
       "    </tr>\n",
       "    <tr>\n",
       "      <th>24</th>\n",
       "      <td>463978865_c87c6ca84c.jpg</td>\n",
       "      <td>3181701312_70a379ab6e.jpg#2</td>\n",
       "      <td>a man sleep under a blanket on a city street</td>\n",
       "      <td>False</td>\n",
       "    </tr>\n",
       "    <tr>\n",
       "      <th>25</th>\n",
       "      <td>488590040_35a3e96c89.jpg</td>\n",
       "      <td>3181701312_70a379ab6e.jpg#2</td>\n",
       "      <td>a man sleep under a blanket on a city street</td>\n",
       "      <td>False</td>\n",
       "    </tr>\n",
       "    <tr>\n",
       "      <th>26</th>\n",
       "      <td>534875358_6ea30d3091.jpg</td>\n",
       "      <td>3181701312_70a379ab6e.jpg#2</td>\n",
       "      <td>a man sleep under a blanket on a city street</td>\n",
       "      <td>False</td>\n",
       "    </tr>\n",
       "    <tr>\n",
       "      <th>27</th>\n",
       "      <td>1056338697_4f7d7ce270.jpg</td>\n",
       "      <td>3207358897_bfa61fa3c6.jpg#2</td>\n",
       "      <td>a woman play with long red ribbon in an empty ...</td>\n",
       "      <td>False</td>\n",
       "    </tr>\n",
       "    <tr>\n",
       "      <th>28</th>\n",
       "      <td>3208074567_ac44aeb3f3.jpg</td>\n",
       "      <td>3207358897_bfa61fa3c6.jpg#2</td>\n",
       "      <td>a woman play with long red ribbon in an empty ...</td>\n",
       "      <td>False</td>\n",
       "    </tr>\n",
       "    <tr>\n",
       "      <th>29</th>\n",
       "      <td>3251976937_20625dc2b8.jpg</td>\n",
       "      <td>3207358897_bfa61fa3c6.jpg#2</td>\n",
       "      <td>a woman play with long red ribbon in an empty ...</td>\n",
       "      <td>False</td>\n",
       "    </tr>\n",
       "  </tbody>\n",
       "</table>\n",
       "</div>"
      ],
      "text/plain": [
       "                        image                     query_id  \\\n",
       "0   1056338697_4f7d7ce270.jpg  2549968784_39bfbe44f9.jpg#2   \n",
       "1   1262583859_653f1469a9.jpg  2549968784_39bfbe44f9.jpg#2   \n",
       "2   2447284966_d6bbdb4b6e.jpg  2549968784_39bfbe44f9.jpg#2   \n",
       "3   2549968784_39bfbe44f9.jpg  2549968784_39bfbe44f9.jpg#2   \n",
       "4   2621415349_ef1a7e73be.jpg  2549968784_39bfbe44f9.jpg#2   \n",
       "5   3030566410_393c36a6c5.jpg  2549968784_39bfbe44f9.jpg#2   \n",
       "6   3155451946_c0862c70cb.jpg  2549968784_39bfbe44f9.jpg#2   \n",
       "7   3222041930_f642f49d28.jpg  2549968784_39bfbe44f9.jpg#2   \n",
       "8    343218198_1ca90e0734.jpg  2549968784_39bfbe44f9.jpg#2   \n",
       "9   3718964174_cb2dc1615e.jpg  2549968784_39bfbe44f9.jpg#2   \n",
       "10  3741827382_71e93298d0.jpg  2549968784_39bfbe44f9.jpg#2   \n",
       "11   486712504_36be449055.jpg  2549968784_39bfbe44f9.jpg#2   \n",
       "12  1056338697_4f7d7ce270.jpg  2718495608_d8533e3ac5.jpg#2   \n",
       "13  1167669558_87a8a467d6.jpg  2718495608_d8533e3ac5.jpg#2   \n",
       "14  2616643090_4f2d2d1a44.jpg  2718495608_d8533e3ac5.jpg#2   \n",
       "15  2648165716_02e2e74fd6.jpg  2718495608_d8533e3ac5.jpg#2   \n",
       "16  2718495608_d8533e3ac5.jpg  2718495608_d8533e3ac5.jpg#2   \n",
       "17  3244747165_17028936e0.jpg  2718495608_d8533e3ac5.jpg#2   \n",
       "18  3503689049_63212220be.jpg  2718495608_d8533e3ac5.jpg#2   \n",
       "19  3506560025_8d0f4f9ac4.jpg  2718495608_d8533e3ac5.jpg#2   \n",
       "20  3718964174_cb2dc1615e.jpg  2718495608_d8533e3ac5.jpg#2   \n",
       "21   700884207_d3ec546494.jpg  2718495608_d8533e3ac5.jpg#2   \n",
       "22  1056338697_4f7d7ce270.jpg  3181701312_70a379ab6e.jpg#2   \n",
       "23  3187395715_f2940c2b72.jpg  3181701312_70a379ab6e.jpg#2   \n",
       "24   463978865_c87c6ca84c.jpg  3181701312_70a379ab6e.jpg#2   \n",
       "25   488590040_35a3e96c89.jpg  3181701312_70a379ab6e.jpg#2   \n",
       "26   534875358_6ea30d3091.jpg  3181701312_70a379ab6e.jpg#2   \n",
       "27  1056338697_4f7d7ce270.jpg  3207358897_bfa61fa3c6.jpg#2   \n",
       "28  3208074567_ac44aeb3f3.jpg  3207358897_bfa61fa3c6.jpg#2   \n",
       "29  3251976937_20625dc2b8.jpg  3207358897_bfa61fa3c6.jpg#2   \n",
       "\n",
       "                                           query_text  kids_list  \n",
       "0   a young child be wear blue goggle and sit in a...       True  \n",
       "1   a young child be wear blue goggle and sit in a...       True  \n",
       "2   a young child be wear blue goggle and sit in a...       True  \n",
       "3   a young child be wear blue goggle and sit in a...       True  \n",
       "4   a young child be wear blue goggle and sit in a...       True  \n",
       "5   a young child be wear blue goggle and sit in a...       True  \n",
       "6   a young child be wear blue goggle and sit in a...       True  \n",
       "7   a young child be wear blue goggle and sit in a...       True  \n",
       "8   a young child be wear blue goggle and sit in a...       True  \n",
       "9   a young child be wear blue goggle and sit in a...       True  \n",
       "10  a young child be wear blue goggle and sit in a...       True  \n",
       "11  a young child be wear blue goggle and sit in a...       True  \n",
       "12      a girl wear a yellow shirt and sunglass smile       True  \n",
       "13      a girl wear a yellow shirt and sunglass smile       True  \n",
       "14      a girl wear a yellow shirt and sunglass smile       True  \n",
       "15      a girl wear a yellow shirt and sunglass smile       True  \n",
       "16      a girl wear a yellow shirt and sunglass smile       True  \n",
       "17      a girl wear a yellow shirt and sunglass smile       True  \n",
       "18      a girl wear a yellow shirt and sunglass smile       True  \n",
       "19      a girl wear a yellow shirt and sunglass smile       True  \n",
       "20      a girl wear a yellow shirt and sunglass smile       True  \n",
       "21      a girl wear a yellow shirt and sunglass smile       True  \n",
       "22       a man sleep under a blanket on a city street      False  \n",
       "23       a man sleep under a blanket on a city street      False  \n",
       "24       a man sleep under a blanket on a city street      False  \n",
       "25       a man sleep under a blanket on a city street      False  \n",
       "26       a man sleep under a blanket on a city street      False  \n",
       "27  a woman play with long red ribbon in an empty ...      False  \n",
       "28  a woman play with long red ribbon in an empty ...      False  \n",
       "29  a woman play with long red ribbon in an empty ...      False  "
      ]
     },
     "execution_count": 34,
     "metadata": {},
     "output_type": "execute_result"
    }
   ],
   "source": [
    "train_dataset.head(30)"
   ]
  },
  {
   "cell_type": "code",
   "execution_count": 35,
   "id": "93ffd59f",
   "metadata": {},
   "outputs": [],
   "source": [
    "# Фильтрация строк, где kids_list = True\n",
    "kids_df = train_dataset[train_dataset['kids_list'] == True]\n",
    "# Составление списка query_id\n",
    "query_id_kids = kids_df['query_id']"
   ]
  },
  {
   "cell_type": "code",
   "execution_count": 36,
   "id": "a3d8afee",
   "metadata": {},
   "outputs": [
    {
     "data": {
      "text/plain": [
       "0       2549968784_39bfbe44f9.jpg#2\n",
       "1       2549968784_39bfbe44f9.jpg#2\n",
       "2       2549968784_39bfbe44f9.jpg#2\n",
       "3       2549968784_39bfbe44f9.jpg#2\n",
       "4       2549968784_39bfbe44f9.jpg#2\n",
       "                   ...             \n",
       "5802     523985664_c866af4850.jpg#2\n",
       "5803    1352410176_af6b139734.jpg#2\n",
       "5804    1352410176_af6b139734.jpg#2\n",
       "5814    2475162978_2c51048dca.jpg#2\n",
       "5817    2061144717_5b3a1864f0.jpg#2\n",
       "Name: query_id, Length: 1559, dtype: object"
      ]
     },
     "execution_count": 36,
     "metadata": {},
     "output_type": "execute_result"
    }
   ],
   "source": [
    "query_id_kids"
   ]
  },
  {
   "cell_type": "markdown",
   "id": "5c499c32",
   "metadata": {},
   "source": [
    "Удаляем последние два символа для получения списка названий файлов."
   ]
  },
  {
   "cell_type": "code",
   "execution_count": 37,
   "id": "b3ac4f75",
   "metadata": {},
   "outputs": [],
   "source": [
    "query_id_kidslist = [query_id[:-2] for query_id in query_id_kids]"
   ]
  },
  {
   "cell_type": "code",
   "execution_count": 38,
   "id": "9e57e117",
   "metadata": {},
   "outputs": [
    {
     "data": {
      "text/plain": [
       "1559"
      ]
     },
     "execution_count": 38,
     "metadata": {},
     "output_type": "execute_result"
    }
   ],
   "source": [
    "len(query_id_kidslist)"
   ]
  },
  {
   "cell_type": "markdown",
   "id": "2c2ae2cb",
   "metadata": {},
   "source": [
    "Удаляем дубликаты названий"
   ]
  },
  {
   "cell_type": "code",
   "execution_count": 39,
   "id": "a85bcc75",
   "metadata": {},
   "outputs": [],
   "source": [
    "modified_query_id_list = list(set(query_id_kidslist))"
   ]
  },
  {
   "cell_type": "code",
   "execution_count": null,
   "id": "313866d6",
   "metadata": {},
   "outputs": [],
   "source": [
    "len(modified_query_id_list)"
   ]
  },
  {
   "cell_type": "code",
   "execution_count": 40,
   "id": "5d9155a4",
   "metadata": {},
   "outputs": [],
   "source": [
    "train_dataset_nokids = train_dataset[~train_dataset['image'].isin(modified_query_id_list)]"
   ]
  },
  {
   "cell_type": "code",
   "execution_count": 41,
   "id": "bb3d897e",
   "metadata": {},
   "outputs": [],
   "source": [
    "train_dataset_nokids = train_dataset_nokids.reset_index(drop=True)"
   ]
  },
  {
   "cell_type": "code",
   "execution_count": 42,
   "id": "47d5e72c",
   "metadata": {},
   "outputs": [
    {
     "data": {
      "text/html": [
       "<div>\n",
       "<style scoped>\n",
       "    .dataframe tbody tr th:only-of-type {\n",
       "        vertical-align: middle;\n",
       "    }\n",
       "\n",
       "    .dataframe tbody tr th {\n",
       "        vertical-align: top;\n",
       "    }\n",
       "\n",
       "    .dataframe thead th {\n",
       "        text-align: right;\n",
       "    }\n",
       "</style>\n",
       "<table border=\"1\" class=\"dataframe\">\n",
       "  <thead>\n",
       "    <tr style=\"text-align: right;\">\n",
       "      <th></th>\n",
       "      <th>image</th>\n",
       "      <th>query_id</th>\n",
       "      <th>query_text</th>\n",
       "      <th>kids_list</th>\n",
       "    </tr>\n",
       "  </thead>\n",
       "  <tbody>\n",
       "    <tr>\n",
       "      <th>0</th>\n",
       "      <td>1056338697_4f7d7ce270.jpg</td>\n",
       "      <td>2549968784_39bfbe44f9.jpg#2</td>\n",
       "      <td>a young child be wear blue goggle and sit in a...</td>\n",
       "      <td>True</td>\n",
       "    </tr>\n",
       "    <tr>\n",
       "      <th>1</th>\n",
       "      <td>1262583859_653f1469a9.jpg</td>\n",
       "      <td>2549968784_39bfbe44f9.jpg#2</td>\n",
       "      <td>a young child be wear blue goggle and sit in a...</td>\n",
       "      <td>True</td>\n",
       "    </tr>\n",
       "    <tr>\n",
       "      <th>2</th>\n",
       "      <td>2621415349_ef1a7e73be.jpg</td>\n",
       "      <td>2549968784_39bfbe44f9.jpg#2</td>\n",
       "      <td>a young child be wear blue goggle and sit in a...</td>\n",
       "      <td>True</td>\n",
       "    </tr>\n",
       "    <tr>\n",
       "      <th>3</th>\n",
       "      <td>3155451946_c0862c70cb.jpg</td>\n",
       "      <td>2549968784_39bfbe44f9.jpg#2</td>\n",
       "      <td>a young child be wear blue goggle and sit in a...</td>\n",
       "      <td>True</td>\n",
       "    </tr>\n",
       "    <tr>\n",
       "      <th>4</th>\n",
       "      <td>3222041930_f642f49d28.jpg</td>\n",
       "      <td>2549968784_39bfbe44f9.jpg#2</td>\n",
       "      <td>a young child be wear blue goggle and sit in a...</td>\n",
       "      <td>True</td>\n",
       "    </tr>\n",
       "    <tr>\n",
       "      <th>...</th>\n",
       "      <td>...</td>\n",
       "      <td>...</td>\n",
       "      <td>...</td>\n",
       "      <td>...</td>\n",
       "    </tr>\n",
       "    <tr>\n",
       "      <th>4083</th>\n",
       "      <td>561417861_8e25d0c0e8.jpg</td>\n",
       "      <td>410453140_5401bf659a.jpg#2</td>\n",
       "      <td>a man stand at the entrance of yerba buena cen...</td>\n",
       "      <td>False</td>\n",
       "    </tr>\n",
       "    <tr>\n",
       "      <th>4084</th>\n",
       "      <td>561940436_64d6fc125d.jpg</td>\n",
       "      <td>3157847991_463e006a28.jpg#2</td>\n",
       "      <td>two man in black jacket behind a white handrail</td>\n",
       "      <td>False</td>\n",
       "    </tr>\n",
       "    <tr>\n",
       "      <th>4085</th>\n",
       "      <td>70995350_75d0698839.jpg</td>\n",
       "      <td>3200120942_59cfbb3437.jpg#2</td>\n",
       "      <td>one person be on a ski lift while another snow...</td>\n",
       "      <td>False</td>\n",
       "    </tr>\n",
       "    <tr>\n",
       "      <th>4086</th>\n",
       "      <td>909808296_23c427022d.jpg</td>\n",
       "      <td>2112921744_92bf706805.jpg#2</td>\n",
       "      <td>a dog stand on the side of a grassy cliff</td>\n",
       "      <td>False</td>\n",
       "    </tr>\n",
       "    <tr>\n",
       "      <th>4087</th>\n",
       "      <td>929679367_ff8c7df2ee.jpg</td>\n",
       "      <td>3651971126_309e6a5e22.jpg#2</td>\n",
       "      <td>a blurry photo of two dog</td>\n",
       "      <td>False</td>\n",
       "    </tr>\n",
       "  </tbody>\n",
       "</table>\n",
       "<p>4088 rows × 4 columns</p>\n",
       "</div>"
      ],
      "text/plain": [
       "                          image                     query_id  \\\n",
       "0     1056338697_4f7d7ce270.jpg  2549968784_39bfbe44f9.jpg#2   \n",
       "1     1262583859_653f1469a9.jpg  2549968784_39bfbe44f9.jpg#2   \n",
       "2     2621415349_ef1a7e73be.jpg  2549968784_39bfbe44f9.jpg#2   \n",
       "3     3155451946_c0862c70cb.jpg  2549968784_39bfbe44f9.jpg#2   \n",
       "4     3222041930_f642f49d28.jpg  2549968784_39bfbe44f9.jpg#2   \n",
       "...                         ...                          ...   \n",
       "4083   561417861_8e25d0c0e8.jpg   410453140_5401bf659a.jpg#2   \n",
       "4084   561940436_64d6fc125d.jpg  3157847991_463e006a28.jpg#2   \n",
       "4085    70995350_75d0698839.jpg  3200120942_59cfbb3437.jpg#2   \n",
       "4086   909808296_23c427022d.jpg  2112921744_92bf706805.jpg#2   \n",
       "4087   929679367_ff8c7df2ee.jpg  3651971126_309e6a5e22.jpg#2   \n",
       "\n",
       "                                             query_text  kids_list  \n",
       "0     a young child be wear blue goggle and sit in a...       True  \n",
       "1     a young child be wear blue goggle and sit in a...       True  \n",
       "2     a young child be wear blue goggle and sit in a...       True  \n",
       "3     a young child be wear blue goggle and sit in a...       True  \n",
       "4     a young child be wear blue goggle and sit in a...       True  \n",
       "...                                                 ...        ...  \n",
       "4083  a man stand at the entrance of yerba buena cen...      False  \n",
       "4084    two man in black jacket behind a white handrail      False  \n",
       "4085  one person be on a ski lift while another snow...      False  \n",
       "4086          a dog stand on the side of a grassy cliff      False  \n",
       "4087                          a blurry photo of two dog      False  \n",
       "\n",
       "[4088 rows x 4 columns]"
      ]
     },
     "execution_count": 42,
     "metadata": {},
     "output_type": "execute_result"
    }
   ],
   "source": [
    "train_dataset_nokids"
   ]
  },
  {
   "cell_type": "markdown",
   "id": "cefc0eef",
   "metadata": {},
   "source": [
    "Таким образом, мы выполнили фильтрацию тренировочного датасета от изображений с детьми. Осталось 4088 строк из 5818, удалено 1730 строк.\n",
    "\n",
    "Поскольку финальная модель должна обучаться как на текстовых описаниях и оценках, так и на самих изображениях, соединим df, где есть посчитанная по формуле оценка, и train_dataset_nokids, где есть текст запроса, и при этом нет изображений с детьми. Джойн будем производить по паре значений 'image' и 'query_id'."
   ]
  },
  {
   "cell_type": "code",
   "execution_count": 43,
   "id": "09efb914",
   "metadata": {},
   "outputs": [
    {
     "name": "stdout",
     "output_type": "stream",
     "text": [
      "<class 'pandas.core.frame.DataFrame'>\n",
      "RangeIndex: 4002 entries, 0 to 4001\n",
      "Data columns (total 5 columns):\n",
      " #   Column      Non-Null Count  Dtype  \n",
      "---  ------      --------------  -----  \n",
      " 0   image       4002 non-null   object \n",
      " 1   query_id    4002 non-null   object \n",
      " 2   avg_note    4002 non-null   float64\n",
      " 3   query_text  4002 non-null   object \n",
      " 4   kids_list   4002 non-null   bool   \n",
      "dtypes: bool(1), float64(1), object(3)\n",
      "memory usage: 129.1+ KB\n"
     ]
    }
   ],
   "source": [
    "train_df = pd.merge(df, train_dataset_nokids, on=['image', 'query_id'], how='inner')\n",
    "train_df.info()"
   ]
  },
  {
   "cell_type": "markdown",
   "id": "0bbb43ff",
   "metadata": {},
   "source": [
    "### !!!!!!!!!!!!!!!!!!!!!!!!!!!!!!!!!!!!!!!!!!!!!!!!!!!!!!!!!!!!!"
   ]
  },
  {
   "cell_type": "markdown",
   "id": "0e2454c1",
   "metadata": {},
   "source": [
    "<img src=\"https://upload.wikimedia.org/wikipedia/commons/thumb/8/81/Stop_sign.png/240px-Stop_sign.png\" align=left width=35, heigth=35>\n",
    "<div class=\"alert alert-danger\">\n",
    "Ты использовал соединение через inner и как следствие потерял слишком много данных... Пожалуйста выбери любую другую страгетию (в комментарии выше я подробно расписал тебе разные варианты..</div>\n"
   ]
  },
  {
   "cell_type": "markdown",
   "id": "dde78369",
   "metadata": {},
   "source": [
    "<div class=\"alert\" style=\"background-color:#ead7f7;color:#8737bf\">\n",
    "    <font size=\"3\"><b>Комментарий студента</b></font>\n",
    "   \n",
    "Исправлено\n",
    "\n",
    "</div>"
   ]
  },
  {
   "cell_type": "markdown",
   "id": "1d4ef807",
   "metadata": {
    "cellId": "ggxcvhmhcm9rshysbjoo4n",
    "execution_id": "d7935f99-48c0-42b8-a227-dd2b2d9b70fc",
    "id": "1d4ef807"
   },
   "source": [
    "## 3. Векторизация изображений\n",
    "\n",
    "Перейдём к векторизации изображений.\n",
    "\n",
    "Самый примитивный способ — прочесть изображение и превратить полученную матрицу в вектор. Такой способ нам не подходит: длина векторов может быть сильно разной, так как размеры изображений разные. Поэтому стоит обратиться к свёрточным сетям: они позволяют \"выделить\" главные компоненты изображений. Как это сделать? Нужно выбрать какую-либо архитектуру, например ResNet-18, посмотреть на слои и исключить полносвязные слои, которые отвечают за конечное предсказание. При этом можно загрузить модель данной архитектуры, предварительно натренированную на датасете ImageNet."
   ]
  },
  {
   "cell_type": "markdown",
   "id": "590205d0",
   "metadata": {
    "cellId": "4wiflhqkew9mq1gq5927e",
    "id": "590205d0"
   },
   "source": [
    "Для векторизации возьмем архитектуру ResNet-18, исключив полносвязные слои, которые отвечают за конечное предсказание:"
   ]
  },
  {
   "cell_type": "code",
   "execution_count": 44,
   "id": "2ae1847a",
   "metadata": {
    "id": "2ae1847a",
    "outputId": "ee7aa18f-7f67-494d-b598-1f82ec2a2942",
    "scrolled": true
   },
   "outputs": [
    {
     "name": "stderr",
     "output_type": "stream",
     "text": [
      "C:\\Users\\Serge\\anaconda3\\Lib\\site-packages\\torchvision\\models\\_utils.py:208: UserWarning: The parameter 'pretrained' is deprecated since 0.13 and may be removed in the future, please use 'weights' instead.\n",
      "  warnings.warn(\n",
      "C:\\Users\\Serge\\anaconda3\\Lib\\site-packages\\torchvision\\models\\_utils.py:223: UserWarning: Arguments other than a weight enum or `None` for 'weights' are deprecated since 0.13 and may be removed in the future. The current behavior is equivalent to passing `weights=ResNet18_Weights.IMAGENET1K_V1`. You can also use `weights=ResNet18_Weights.DEFAULT` to get the most up-to-date weights.\n",
      "  warnings.warn(msg)\n"
     ]
    },
    {
     "name": "stdout",
     "output_type": "stream",
     "text": [
      "[Conv2d(3, 64, kernel_size=(7, 7), stride=(2, 2), padding=(3, 3), bias=False), BatchNorm2d(64, eps=1e-05, momentum=0.1, affine=True, track_running_stats=True), ReLU(inplace=True), MaxPool2d(kernel_size=3, stride=2, padding=1, dilation=1, ceil_mode=False), Sequential(\n",
      "  (0): BasicBlock(\n",
      "    (conv1): Conv2d(64, 64, kernel_size=(3, 3), stride=(1, 1), padding=(1, 1), bias=False)\n",
      "    (bn1): BatchNorm2d(64, eps=1e-05, momentum=0.1, affine=True, track_running_stats=True)\n",
      "    (relu): ReLU(inplace=True)\n",
      "    (conv2): Conv2d(64, 64, kernel_size=(3, 3), stride=(1, 1), padding=(1, 1), bias=False)\n",
      "    (bn2): BatchNorm2d(64, eps=1e-05, momentum=0.1, affine=True, track_running_stats=True)\n",
      "  )\n",
      "  (1): BasicBlock(\n",
      "    (conv1): Conv2d(64, 64, kernel_size=(3, 3), stride=(1, 1), padding=(1, 1), bias=False)\n",
      "    (bn1): BatchNorm2d(64, eps=1e-05, momentum=0.1, affine=True, track_running_stats=True)\n",
      "    (relu): ReLU(inplace=True)\n",
      "    (conv2): Conv2d(64, 64, kernel_size=(3, 3), stride=(1, 1), padding=(1, 1), bias=False)\n",
      "    (bn2): BatchNorm2d(64, eps=1e-05, momentum=0.1, affine=True, track_running_stats=True)\n",
      "  )\n",
      "), Sequential(\n",
      "  (0): BasicBlock(\n",
      "    (conv1): Conv2d(64, 128, kernel_size=(3, 3), stride=(2, 2), padding=(1, 1), bias=False)\n",
      "    (bn1): BatchNorm2d(128, eps=1e-05, momentum=0.1, affine=True, track_running_stats=True)\n",
      "    (relu): ReLU(inplace=True)\n",
      "    (conv2): Conv2d(128, 128, kernel_size=(3, 3), stride=(1, 1), padding=(1, 1), bias=False)\n",
      "    (bn2): BatchNorm2d(128, eps=1e-05, momentum=0.1, affine=True, track_running_stats=True)\n",
      "    (downsample): Sequential(\n",
      "      (0): Conv2d(64, 128, kernel_size=(1, 1), stride=(2, 2), bias=False)\n",
      "      (1): BatchNorm2d(128, eps=1e-05, momentum=0.1, affine=True, track_running_stats=True)\n",
      "    )\n",
      "  )\n",
      "  (1): BasicBlock(\n",
      "    (conv1): Conv2d(128, 128, kernel_size=(3, 3), stride=(1, 1), padding=(1, 1), bias=False)\n",
      "    (bn1): BatchNorm2d(128, eps=1e-05, momentum=0.1, affine=True, track_running_stats=True)\n",
      "    (relu): ReLU(inplace=True)\n",
      "    (conv2): Conv2d(128, 128, kernel_size=(3, 3), stride=(1, 1), padding=(1, 1), bias=False)\n",
      "    (bn2): BatchNorm2d(128, eps=1e-05, momentum=0.1, affine=True, track_running_stats=True)\n",
      "  )\n",
      "), Sequential(\n",
      "  (0): BasicBlock(\n",
      "    (conv1): Conv2d(128, 256, kernel_size=(3, 3), stride=(2, 2), padding=(1, 1), bias=False)\n",
      "    (bn1): BatchNorm2d(256, eps=1e-05, momentum=0.1, affine=True, track_running_stats=True)\n",
      "    (relu): ReLU(inplace=True)\n",
      "    (conv2): Conv2d(256, 256, kernel_size=(3, 3), stride=(1, 1), padding=(1, 1), bias=False)\n",
      "    (bn2): BatchNorm2d(256, eps=1e-05, momentum=0.1, affine=True, track_running_stats=True)\n",
      "    (downsample): Sequential(\n",
      "      (0): Conv2d(128, 256, kernel_size=(1, 1), stride=(2, 2), bias=False)\n",
      "      (1): BatchNorm2d(256, eps=1e-05, momentum=0.1, affine=True, track_running_stats=True)\n",
      "    )\n",
      "  )\n",
      "  (1): BasicBlock(\n",
      "    (conv1): Conv2d(256, 256, kernel_size=(3, 3), stride=(1, 1), padding=(1, 1), bias=False)\n",
      "    (bn1): BatchNorm2d(256, eps=1e-05, momentum=0.1, affine=True, track_running_stats=True)\n",
      "    (relu): ReLU(inplace=True)\n",
      "    (conv2): Conv2d(256, 256, kernel_size=(3, 3), stride=(1, 1), padding=(1, 1), bias=False)\n",
      "    (bn2): BatchNorm2d(256, eps=1e-05, momentum=0.1, affine=True, track_running_stats=True)\n",
      "  )\n",
      "), Sequential(\n",
      "  (0): BasicBlock(\n",
      "    (conv1): Conv2d(256, 512, kernel_size=(3, 3), stride=(2, 2), padding=(1, 1), bias=False)\n",
      "    (bn1): BatchNorm2d(512, eps=1e-05, momentum=0.1, affine=True, track_running_stats=True)\n",
      "    (relu): ReLU(inplace=True)\n",
      "    (conv2): Conv2d(512, 512, kernel_size=(3, 3), stride=(1, 1), padding=(1, 1), bias=False)\n",
      "    (bn2): BatchNorm2d(512, eps=1e-05, momentum=0.1, affine=True, track_running_stats=True)\n",
      "    (downsample): Sequential(\n",
      "      (0): Conv2d(256, 512, kernel_size=(1, 1), stride=(2, 2), bias=False)\n",
      "      (1): BatchNorm2d(512, eps=1e-05, momentum=0.1, affine=True, track_running_stats=True)\n",
      "    )\n",
      "  )\n",
      "  (1): BasicBlock(\n",
      "    (conv1): Conv2d(512, 512, kernel_size=(3, 3), stride=(1, 1), padding=(1, 1), bias=False)\n",
      "    (bn1): BatchNorm2d(512, eps=1e-05, momentum=0.1, affine=True, track_running_stats=True)\n",
      "    (relu): ReLU(inplace=True)\n",
      "    (conv2): Conv2d(512, 512, kernel_size=(3, 3), stride=(1, 1), padding=(1, 1), bias=False)\n",
      "    (bn2): BatchNorm2d(512, eps=1e-05, momentum=0.1, affine=True, track_running_stats=True)\n",
      "  )\n",
      "), AdaptiveAvgPool2d(output_size=(1, 1)), Linear(in_features=512, out_features=1000, bias=True)]\n"
     ]
    },
    {
     "data": {
      "text/plain": [
       "Sequential(\n",
       "  (0): Conv2d(3, 64, kernel_size=(7, 7), stride=(2, 2), padding=(3, 3), bias=False)\n",
       "  (1): BatchNorm2d(64, eps=1e-05, momentum=0.1, affine=True, track_running_stats=True)\n",
       "  (2): ReLU(inplace=True)\n",
       "  (3): MaxPool2d(kernel_size=3, stride=2, padding=1, dilation=1, ceil_mode=False)\n",
       "  (4): Sequential(\n",
       "    (0): BasicBlock(\n",
       "      (conv1): Conv2d(64, 64, kernel_size=(3, 3), stride=(1, 1), padding=(1, 1), bias=False)\n",
       "      (bn1): BatchNorm2d(64, eps=1e-05, momentum=0.1, affine=True, track_running_stats=True)\n",
       "      (relu): ReLU(inplace=True)\n",
       "      (conv2): Conv2d(64, 64, kernel_size=(3, 3), stride=(1, 1), padding=(1, 1), bias=False)\n",
       "      (bn2): BatchNorm2d(64, eps=1e-05, momentum=0.1, affine=True, track_running_stats=True)\n",
       "    )\n",
       "    (1): BasicBlock(\n",
       "      (conv1): Conv2d(64, 64, kernel_size=(3, 3), stride=(1, 1), padding=(1, 1), bias=False)\n",
       "      (bn1): BatchNorm2d(64, eps=1e-05, momentum=0.1, affine=True, track_running_stats=True)\n",
       "      (relu): ReLU(inplace=True)\n",
       "      (conv2): Conv2d(64, 64, kernel_size=(3, 3), stride=(1, 1), padding=(1, 1), bias=False)\n",
       "      (bn2): BatchNorm2d(64, eps=1e-05, momentum=0.1, affine=True, track_running_stats=True)\n",
       "    )\n",
       "  )\n",
       "  (5): Sequential(\n",
       "    (0): BasicBlock(\n",
       "      (conv1): Conv2d(64, 128, kernel_size=(3, 3), stride=(2, 2), padding=(1, 1), bias=False)\n",
       "      (bn1): BatchNorm2d(128, eps=1e-05, momentum=0.1, affine=True, track_running_stats=True)\n",
       "      (relu): ReLU(inplace=True)\n",
       "      (conv2): Conv2d(128, 128, kernel_size=(3, 3), stride=(1, 1), padding=(1, 1), bias=False)\n",
       "      (bn2): BatchNorm2d(128, eps=1e-05, momentum=0.1, affine=True, track_running_stats=True)\n",
       "      (downsample): Sequential(\n",
       "        (0): Conv2d(64, 128, kernel_size=(1, 1), stride=(2, 2), bias=False)\n",
       "        (1): BatchNorm2d(128, eps=1e-05, momentum=0.1, affine=True, track_running_stats=True)\n",
       "      )\n",
       "    )\n",
       "    (1): BasicBlock(\n",
       "      (conv1): Conv2d(128, 128, kernel_size=(3, 3), stride=(1, 1), padding=(1, 1), bias=False)\n",
       "      (bn1): BatchNorm2d(128, eps=1e-05, momentum=0.1, affine=True, track_running_stats=True)\n",
       "      (relu): ReLU(inplace=True)\n",
       "      (conv2): Conv2d(128, 128, kernel_size=(3, 3), stride=(1, 1), padding=(1, 1), bias=False)\n",
       "      (bn2): BatchNorm2d(128, eps=1e-05, momentum=0.1, affine=True, track_running_stats=True)\n",
       "    )\n",
       "  )\n",
       "  (6): Sequential(\n",
       "    (0): BasicBlock(\n",
       "      (conv1): Conv2d(128, 256, kernel_size=(3, 3), stride=(2, 2), padding=(1, 1), bias=False)\n",
       "      (bn1): BatchNorm2d(256, eps=1e-05, momentum=0.1, affine=True, track_running_stats=True)\n",
       "      (relu): ReLU(inplace=True)\n",
       "      (conv2): Conv2d(256, 256, kernel_size=(3, 3), stride=(1, 1), padding=(1, 1), bias=False)\n",
       "      (bn2): BatchNorm2d(256, eps=1e-05, momentum=0.1, affine=True, track_running_stats=True)\n",
       "      (downsample): Sequential(\n",
       "        (0): Conv2d(128, 256, kernel_size=(1, 1), stride=(2, 2), bias=False)\n",
       "        (1): BatchNorm2d(256, eps=1e-05, momentum=0.1, affine=True, track_running_stats=True)\n",
       "      )\n",
       "    )\n",
       "    (1): BasicBlock(\n",
       "      (conv1): Conv2d(256, 256, kernel_size=(3, 3), stride=(1, 1), padding=(1, 1), bias=False)\n",
       "      (bn1): BatchNorm2d(256, eps=1e-05, momentum=0.1, affine=True, track_running_stats=True)\n",
       "      (relu): ReLU(inplace=True)\n",
       "      (conv2): Conv2d(256, 256, kernel_size=(3, 3), stride=(1, 1), padding=(1, 1), bias=False)\n",
       "      (bn2): BatchNorm2d(256, eps=1e-05, momentum=0.1, affine=True, track_running_stats=True)\n",
       "    )\n",
       "  )\n",
       "  (7): Sequential(\n",
       "    (0): BasicBlock(\n",
       "      (conv1): Conv2d(256, 512, kernel_size=(3, 3), stride=(2, 2), padding=(1, 1), bias=False)\n",
       "      (bn1): BatchNorm2d(512, eps=1e-05, momentum=0.1, affine=True, track_running_stats=True)\n",
       "      (relu): ReLU(inplace=True)\n",
       "      (conv2): Conv2d(512, 512, kernel_size=(3, 3), stride=(1, 1), padding=(1, 1), bias=False)\n",
       "      (bn2): BatchNorm2d(512, eps=1e-05, momentum=0.1, affine=True, track_running_stats=True)\n",
       "      (downsample): Sequential(\n",
       "        (0): Conv2d(256, 512, kernel_size=(1, 1), stride=(2, 2), bias=False)\n",
       "        (1): BatchNorm2d(512, eps=1e-05, momentum=0.1, affine=True, track_running_stats=True)\n",
       "      )\n",
       "    )\n",
       "    (1): BasicBlock(\n",
       "      (conv1): Conv2d(512, 512, kernel_size=(3, 3), stride=(1, 1), padding=(1, 1), bias=False)\n",
       "      (bn1): BatchNorm2d(512, eps=1e-05, momentum=0.1, affine=True, track_running_stats=True)\n",
       "      (relu): ReLU(inplace=True)\n",
       "      (conv2): Conv2d(512, 512, kernel_size=(3, 3), stride=(1, 1), padding=(1, 1), bias=False)\n",
       "      (bn2): BatchNorm2d(512, eps=1e-05, momentum=0.1, affine=True, track_running_stats=True)\n",
       "    )\n",
       "  )\n",
       "  (8): AdaptiveAvgPool2d(output_size=(1, 1))\n",
       ")"
      ]
     },
     "execution_count": 44,
     "metadata": {},
     "output_type": "execute_result"
    }
   ],
   "source": [
    "resnet = models.resnet18(pretrained=True)\n",
    "\n",
    "for param in resnet.parameters():\n",
    "    param.requires_grad_(False)\n",
    "\n",
    "print(list(resnet.children()))\n",
    "\n",
    "modules = list(resnet.children())[:-1]\n",
    "resnet = nn.Sequential(*modules)\n",
    "\n",
    "resnet.eval()"
   ]
  },
  {
   "cell_type": "markdown",
   "id": "da80bc7f",
   "metadata": {},
   "source": [
    "<img src=\"https://upload.wikimedia.org/wikipedia/commons/b/ba/Warning_sign_4.0.png\" align=left width=44, heigth=33>\n",
    "<div class=\"alert alert-warning\">\n",
    "Ух, какая \"портянка\". Ты точно хочешь выводить все слои модели на несколько экранов?</div>"
   ]
  },
  {
   "cell_type": "code",
   "execution_count": 45,
   "id": "a88c0d56",
   "metadata": {
    "id": "a88c0d56"
   },
   "outputs": [],
   "source": [
    "from torchvision import transforms\n",
    "norm = transforms.Normalize(\n",
    "    mean=[0.485, 0.456, 0.406], std=[0.229, 0.224, 0.225])\n",
    "\n",
    "preprocess = transforms.Compose([\n",
    "    transforms.Resize(150),\n",
    "    transforms.CenterCrop(140),\n",
    "    transforms.ToTensor(),\n",
    "    norm,\n",
    "])"
   ]
  },
  {
   "cell_type": "code",
   "execution_count": 46,
   "id": "c516220d",
   "metadata": {},
   "outputs": [],
   "source": [
    "image_vectors = []\n",
    "\n",
    "def image_vect(name, path):\n",
    "    image = Image.open(path+name).convert('RGB')\n",
    "    image_tensor = preprocess(image)\n",
    "    image_tensor = image_tensor.unsqueeze(0)\n",
    "    output_tensor = resnet(image_tensor).flatten()\n",
    "    image_vectors.append(output_tensor)"
   ]
  },
  {
   "cell_type": "code",
   "execution_count": 47,
   "id": "f2fe95ac",
   "metadata": {},
   "outputs": [
    {
     "name": "stderr",
     "output_type": "stream",
     "text": [
      "100%|██████████████████████████████████████████████████████████████████████████████| 4002/4002 [02:34<00:00, 25.84it/s]\n"
     ]
    }
   ],
   "source": [
    "train_df['image'].progress_apply(lambda x: image_vect(x, \"to_upload/train_images/\"))\n",
    "outputs_tensor = torch.stack(image_vectors)"
   ]
  },
  {
   "cell_type": "code",
   "execution_count": 48,
   "id": "1a6f8ef6",
   "metadata": {},
   "outputs": [
    {
     "data": {
      "text/plain": [
       "torch.Size([4002, 512])"
      ]
     },
     "execution_count": 48,
     "metadata": {},
     "output_type": "execute_result"
    }
   ],
   "source": [
    "outputs_tensor.shape"
   ]
  },
  {
   "cell_type": "markdown",
   "id": "170ae790",
   "metadata": {},
   "source": [
    "<img src=\"https://emojigraph.org/media/apple/check-mark-button_2705.png\" align=left width=33, heigth=33>\n",
    "<div class=\"alert alert-success\">\n",
    " Отлично, вектра для изображений получены👍 </div>"
   ]
  },
  {
   "cell_type": "markdown",
   "id": "e80d2040",
   "metadata": {},
   "source": [
    "<img src=\"https://upload.wikimedia.org/wikipedia/commons/b/ba/Warning_sign_4.0.png\" align=left width=44, heigth=33>\n",
    "<div class=\"alert alert-warning\">\n",
    "Есть технический момент, связанный с оптимальнойстью кода. Конечно, сейчас у тебя слишком маленький датасет и это возможно не критично, но если ты будешь работать с датасетом крупнее, это может стать проблемой. Вообще у нас должно получиться меньше 1000 уникальных изображений (убираем детские). Но в датасете может быть до 40 тысяч записей (в зависимости от выбранной сттарегии), а значит каждое изображение векторизуется по нескольку раз. Чтобы победить это  нужно сильно переписывать код. Но можно использовать декоратор @lru_cahe (попробуй загуглить про него сама, информации очень много). \n",
    "    \n",
    "Ну и конечно же включение GPU тоже может дать вклад в ускорение векторизации.\n",
    "    \n",
    "\n",
    "    from functools import lru_cache\n",
    "    from tqdm.notebook import tqdm\n",
    "    tqdm.pandas()    \n",
    "\n",
    "    @lru_cache(1000)\n",
    "    def pic_vector(img_name):\n",
    "        img = Image.open(path+img_name).convert('RGB')\n",
    "        image_tensor = preprocess(img)\n",
    "        output_tensor = resnet(image_tensor.unsqueeze(0).to(device)).flatten().cpu()\n",
    "        output_tensor.size()\n",
    "        return output_tensor.numpy()    \n",
    "    \n",
    "    device = torch.device(\"cuda\" if torch.cuda.is_available() else \"cpu\")\n",
    "    resnet = resnet.to(device)    \n",
    "\n",
    "    df_train_vectors = df_train['image'].progress_apply(pic_vector)\n",
    "\n",
    "</div>"
   ]
  },
  {
   "cell_type": "markdown",
   "id": "cd9dd49d",
   "metadata": {
    "id": "cd9dd49d"
   },
   "source": [
    "Таким образом мы получили массив векторов в порядке, в котором изображения находятся в train_data и test_images"
   ]
  },
  {
   "cell_type": "markdown",
   "id": "aea53bf6",
   "metadata": {
    "cellId": "z8evfugfch8wpstvnxv0t",
    "execution_id": "028ade1d-49fe-4110-8b13-3c1aecdaa142",
    "id": "aea53bf6"
   },
   "source": [
    "## 4. Векторизация текстов\n",
    "\n",
    "Следующий этап — векторизация текстов. Вы можете поэкспериментировать с несколькими способами векторизации текстов:\n",
    "\n",
    "- tf-idf\n",
    "- word2vec\n",
    "- \\*трансформеры (например Bert)\n",
    "\n",
    "\\* — если вы изучали трансформеры в спринте Машинное обучение для текстов.\n"
   ]
  },
  {
   "cell_type": "markdown",
   "id": "0bd0b514",
   "metadata": {
    "id": "0bd0b514"
   },
   "source": [
    "Воспользуемся tf-idf"
   ]
  },
  {
   "cell_type": "code",
   "execution_count": 49,
   "id": "586acbd1",
   "metadata": {},
   "outputs": [],
   "source": [
    "train_corpus = train_df['query_text'].values"
   ]
  },
  {
   "cell_type": "code",
   "execution_count": 50,
   "id": "c686ba5a",
   "metadata": {
    "scrolled": true
   },
   "outputs": [
    {
     "name": "stderr",
     "output_type": "stream",
     "text": [
      "[nltk_data] Downloading package stopwords to\n",
      "[nltk_data]     C:\\Users\\Serge\\AppData\\Roaming\\nltk_data...\n",
      "[nltk_data]   Package stopwords is already up-to-date!\n"
     ]
    }
   ],
   "source": [
    "nltk.download('stopwords')\n",
    "#stop_words = set(stopwords.words('english'))\n",
    "\n",
    "count_tf_idf = TfidfVectorizer(stop_words=stopwords.words('english'))\n",
    "#(stop_words=set(stopwords.words('english')))\n",
    "#s(stop_words=stopwords.words('english'))\n",
    "\n",
    "text_vect = count_tf_idf.fit_transform(train_corpus)"
   ]
  },
  {
   "cell_type": "code",
   "execution_count": 51,
   "id": "067ea0b8",
   "metadata": {},
   "outputs": [
    {
     "data": {
      "text/plain": [
       "(4002, 1155)"
      ]
     },
     "execution_count": 51,
     "metadata": {},
     "output_type": "execute_result"
    }
   ],
   "source": [
    "text_vect.shape"
   ]
  },
  {
   "cell_type": "markdown",
   "id": "3c430244",
   "metadata": {},
   "source": [
    "<img src=\"https://emojigraph.org/media/apple/check-mark-button_2705.png\" align=left width=33, heigth=33>\n",
    "<div class=\"alert alert-success\">\n",
    " 👍 Вектора для текста получены с помощью TF-IDF. Здесь конечно есть очень тонкий момент, и в другом проекте это мог бы быть красный комментарий. Ты же помнишь, что векторайзеры мы обучаем на обучающем датасете и применяем к валидационому и тестовому. А сейчас ты сделал вектора с использованием всех частей датасета.  Но для этого проекта это должно быть допустимо, т.к. .утечка,повышающая оценку на валидации врядли что-то сильно  испортит.</div>"
   ]
  },
  {
   "cell_type": "markdown",
   "id": "0e96f58c",
   "metadata": {
    "id": "0e96f58c"
   },
   "source": [
    "### 5. Объединение векторов\n",
    "Подготовьте данные для обучения: объедините векторы изображений и векторы текстов с целевой переменной."
   ]
  },
  {
   "cell_type": "markdown",
   "id": "fa5336c9",
   "metadata": {
    "id": "fa5336c9"
   },
   "source": [
    "Чтобы объединить вектора, переведем их в один формат (np.array) и воспользуемся функцией np.hstack"
   ]
  },
  {
   "cell_type": "code",
   "execution_count": 52,
   "id": "f6c95c79",
   "metadata": {
    "id": "f6c95c79"
   },
   "outputs": [],
   "source": [
    "image_vector = outputs_tensor.numpy()\n"
   ]
  },
  {
   "cell_type": "code",
   "execution_count": 53,
   "id": "d4d36d1e",
   "metadata": {},
   "outputs": [],
   "source": [
    "text_vector = text_vect.toarray()"
   ]
  },
  {
   "cell_type": "code",
   "execution_count": 54,
   "id": "d702a351",
   "metadata": {},
   "outputs": [],
   "source": [
    "combined_array = np.concatenate((image_vector, text_vector), axis=1)"
   ]
  },
  {
   "cell_type": "code",
   "execution_count": 55,
   "id": "3dd3281b",
   "metadata": {},
   "outputs": [
    {
     "data": {
      "text/plain": [
       "(4002, 1667)"
      ]
     },
     "execution_count": 55,
     "metadata": {},
     "output_type": "execute_result"
    }
   ],
   "source": [
    "combined_array.shape"
   ]
  },
  {
   "cell_type": "markdown",
   "id": "39963dc3",
   "metadata": {},
   "source": [
    "<img src=\"https://emojigraph.org/media/apple/check-mark-button_2705.png\" align=left width=33, heigth=33>\n",
    "<div class=\"alert alert-success\">\n",
    " Вектора, полученные из текста и изображения объеденены👍 </div>"
   ]
  },
  {
   "cell_type": "markdown",
   "id": "365c71d1",
   "metadata": {},
   "source": [
    "Суммы размерности сходятся: 4002  и 512+1155=1667"
   ]
  },
  {
   "cell_type": "markdown",
   "id": "ea26308a",
   "metadata": {
    "id": "87c8f9ce"
   },
   "source": [
    "<img src=\"https://upload.wikimedia.org/wikipedia/commons/b/ba/Warning_sign_4.0.png\" align=left width=44, heigth=33>\n",
    "<div class=\"alert alert-warning\">\n",
    "Здесь напрашивается небольшой вывод, хотя бы с указанием размерностей полученных признаков.  \n",
    "</div>"
   ]
  },
  {
   "cell_type": "markdown",
   "id": "60bc5668",
   "metadata": {
    "cellId": "97c9jj3s2zjj62vznivsk",
    "execution_id": "1a2d7233-0c79-479a-be63-5787145e3b48",
    "id": "60bc5668"
   },
   "source": [
    "## 6. Обучение модели предсказания соответствия\n",
    "\n",
    "Для обучения разделите датасет на тренировочную и тестовую выборки. Простое случайное разбиение не подходит: нужно исключить попадание изображения и в обучающую, и в тестовую выборки.\n",
    "Для того чтобы учесть изображения при разбиении, можно воспользоваться классом [GroupShuffleSplit](https://scikit-learn.org/stable/modules/generated/sklearn.model_selection.GroupShuffleSplit.html) из библиотеки sklearn.model_selection.\n",
    "\n",
    "Код ниже разбивает датасет на тренировочную и тестовую выборки в пропорции 7:3 так, что строки с одинаковым значением 'group_column' будут содержаться либо в тестовом, либо в тренировочном датасете.\n",
    "\n",
    "```\n",
    "from sklearn.model_selection import GroupShuffleSplit\n",
    "gss = GroupShuffleSplit(n_splits=1, train_size=.7, random_state=42)\n",
    "train_indices, test_indices = next(gss.split(X=df.drop(columns=['target']), y=df['target'], groups=df['group_column']))\n",
    "train_df, test_df = df.loc[train_indices], df.loc[test_indices]\n",
    "\n",
    "```\n",
    "\n",
    "Какую модель использовать — выберите самостоятельно. Также вам предстоит выбрать метрику качества либо реализовать свою."
   ]
  },
  {
   "cell_type": "markdown",
   "id": "a71f0e95",
   "metadata": {},
   "source": [
    "<img src=\"https://upload.wikimedia.org/wikipedia/commons/thumb/8/81/Stop_sign.png/240px-Stop_sign.png\" align=left width=35, heigth=35>\n",
    "<div class=\"alert alert-danger\">\n",
    "В этом задании требуется выбрать основную метрику, которую ты будешь оптимизировать. Пожаулуйста выбери метрику и обоснуй свой выбор.  </div>"
   ]
  },
  {
   "cell_type": "markdown",
   "id": "d99ca0a6",
   "metadata": {},
   "source": [
    "<div class=\"alert\" style=\"background-color:#ead7f7;color:#8737bf\">\n",
    "    <font size=\"3\"><b>Комментарий студента</b></font>\n",
    "   \n",
    "Будем оптимизировать RMSE см. описание ниже\n",
    "\n",
    "</div>"
   ]
  },
  {
   "cell_type": "code",
   "execution_count": 56,
   "id": "4303abea",
   "metadata": {},
   "outputs": [],
   "source": [
    "target = train_df['avg_note']"
   ]
  },
  {
   "cell_type": "code",
   "execution_count": 57,
   "id": "ee602841",
   "metadata": {},
   "outputs": [],
   "source": [
    "gss = GroupShuffleSplit(n_splits=1, train_size=.7, random_state=6767)\n",
    "train_indices, test_indices = next(gss.split(X=combined_array, y=target, groups=train_df['image']))\n",
    "features_train, features_test = combined_array[train_indices], combined_array[test_indices]\n",
    "target_train, target_test = target[train_indices], target[test_indices]"
   ]
  },
  {
   "cell_type": "markdown",
   "id": "6409931d",
   "metadata": {},
   "source": [
    "<img src=\"https://emojigraph.org/media/apple/check-mark-button_2705.png\" align=left width=33, heigth=33>\n",
    "<div class=\"alert alert-success\">\n",
    "Отлично, благодаря использованию GroupShuffleSplit ты исключаешь попадание одного изображения в обучающий и валидационный наборы.</div>"
   ]
  },
  {
   "cell_type": "code",
   "execution_count": null,
   "id": "7217187c",
   "metadata": {},
   "outputs": [],
   "source": [
    "scaler = StandardScaler()\n",
    "scaler.fit(features_train)\n",
    "features_train = scaler.transform(features_train)\n",
    "features_test = scaler.transform(features_test)"
   ]
  },
  {
   "cell_type": "markdown",
   "id": "7ab62741",
   "metadata": {},
   "source": [
    "Будем пробывать обучить линейную регрессию.\n",
    "\n",
    "В качестве метрики выберем RMSE, поскольку эта метрика имеет ту же размерность, что и зависимая переменная, что облегчает интерпретацию и сопоставление с единицами измерения переменной.\n",
    "\n",
    "Нам нужно стремиться к небольшому значению RMSE, чтобы быть уверенными в корректной работе модели."
   ]
  },
  {
   "cell_type": "code",
   "execution_count": null,
   "id": "b7f19afa",
   "metadata": {},
   "outputs": [],
   "source": [
    "lr = LinearRegression()\n",
    "lr.fit(features_train, target_train)"
   ]
  },
  {
   "cell_type": "code",
   "execution_count": null,
   "id": "50c1e3ad",
   "metadata": {},
   "outputs": [],
   "source": [
    "y_pred = lr.predict(features_test)\n",
    "\n",
    "rmse = mean_squared_error(target_test, y_pred) ** 0.5\n",
    "rmse"
   ]
  },
  {
   "cell_type": "code",
   "execution_count": null,
   "id": "3f493752",
   "metadata": {},
   "outputs": [],
   "source": [
    "lin_reg = ElasticNet(alpha=0.001, random_state=45)"
   ]
  },
  {
   "cell_type": "code",
   "execution_count": null,
   "id": "5688d218",
   "metadata": {},
   "outputs": [],
   "source": [
    "lin_reg.fit(features_train, target_train)"
   ]
  },
  {
   "cell_type": "code",
   "execution_count": null,
   "id": "864062f8",
   "metadata": {},
   "outputs": [],
   "source": [
    "y_pred_reg = lin_reg.predict(features_test)\n",
    "\n",
    "rmse_reg = mean_squared_error(target_test, y_pred_reg) ** 0.5\n",
    "rmse_reg"
   ]
  },
  {
   "cell_type": "markdown",
   "id": "6f170539",
   "metadata": {},
   "source": [
    "### Выводы________________"
   ]
  },
  {
   "cell_type": "markdown",
   "id": "ee61940b",
   "metadata": {},
   "source": [
    "<img src=\"https://upload.wikimedia.org/wikipedia/commons/thumb/8/81/Stop_sign.png/240px-Stop_sign.png\" align=left width=35, heigth=35>\n",
    "<div class=\"alert alert-danger\">\n",
    "Нельзя применять скаллер к предсказаниям, тем более обучать этот скаллер на этих же предсказаниях.\n",
    "\n",
    "Да, линейная регрессия сильно переобучается. Но давай честно посмотрим правде в глаза и поймем насколько она плоха здесь.\n",
    "</div>"
   ]
  },
  {
   "cell_type": "markdown",
   "id": "9016e112",
   "metadata": {},
   "source": [
    "<div class=\"alert\" style=\"background-color:#ead7f7;color:#8737bf\">\n",
    "    <font size=\"3\"><b>Комментарий студента</b></font>\n",
    "   \n",
    "Исправлено\n",
    "\n",
    "</div>"
   ]
  },
  {
   "cell_type": "markdown",
   "id": "6f9b316d",
   "metadata": {
    "id": "6f9b316d"
   },
   "source": [
    "Теперь создадим полносвязную нейронную сеть."
   ]
  },
  {
   "cell_type": "code",
   "execution_count": null,
   "id": "dcc28007",
   "metadata": {
    "id": "dcc28007"
   },
   "outputs": [],
   "source": [
    "X_train = torch.FloatTensor(np.array(X_train))\n",
    "X_test = torch.FloatTensor(np.array(X_test))\n",
    "y_train = torch.FloatTensor(np.array(y_train))\n",
    "y_test = torch.FloatTensor(np.array(y_test))"
   ]
  },
  {
   "cell_type": "code",
   "execution_count": null,
   "id": "d78f050c",
   "metadata": {
    "id": "d78f050c",
    "outputId": "66470575-fc76-410b-d1e8-ffd7d7dd95b5"
   },
   "outputs": [],
   "source": [
    "X_train.shape"
   ]
  },
  {
   "cell_type": "code",
   "execution_count": null,
   "id": "1d84ee92",
   "metadata": {
    "id": "1d84ee92"
   },
   "outputs": [],
   "source": [
    "class Net(nn.Module):\n",
    "    def __init__(self, n_in_neurons, n_hidden_neurons_1, n_hidden_neurons_2, n_hidden_neurons_3, n_hidden_neurons_4, n_out_neurons):\n",
    "            super(Net, self).__init__()\n",
    "\n",
    "            self.fc1 = nn.Linear(n_in_neurons, n_hidden_neurons_1)\n",
    "            self.act1 = nn.ReLU()\n",
    "            #self.do1 = nn.Dropout(p=0.7)\n",
    "            self.fc2 = nn.Linear(n_hidden_neurons_1, n_hidden_neurons_2)\n",
    "            self.act2 = nn.ReLU()\n",
    "            self.fc3 = nn.Linear(n_hidden_neurons_2, n_hidden_neurons_3)\n",
    "            self.act3 = nn.ReLU()\n",
    "            self.fc4 = nn.Linear(n_hidden_neurons_3, n_hidden_neurons_4)\n",
    "            self.act4 = nn.ReLU()\n",
    "            self.fc5 = nn.Linear(n_hidden_neurons_4, n_out_neurons)\n",
    "            self.act5 = nn.Sigmoid()\n",
    "\n",
    "            nn.init.kaiming_uniform_(self.fc1.weight, mode='fan_in', nonlinearity='relu')\n",
    "            nn.init.kaiming_uniform_(self.fc2.weight, mode='fan_in', nonlinearity='relu')\n",
    "            nn.init.kaiming_uniform_(self.fc3.weight, mode='fan_in', nonlinearity='relu')\n",
    "            nn.init.kaiming_uniform_(self.fc4.weight, mode='fan_in', nonlinearity='relu')\n",
    "            nn.init.kaiming_uniform_(self.fc5.weight, mode='fan_in', nonlinearity='sigmoid')\n",
    "\n",
    "    def forward(self, x):\n",
    "        x = self.fc1(x)\n",
    "        x = self.act1(x)\n",
    "        #x = self.do1(x)\n",
    "        x = self.fc2(x)\n",
    "        x = self.act2(x)\n",
    "        x = self.fc3(x)\n",
    "        x = self.act3(x)\n",
    "        x = self.fc4(x)\n",
    "        x = self.act4(x)\n",
    "        x = self.fc5(x)\n",
    "        x = self.act5(x)\n",
    "\n",
    "        return x"
   ]
  },
  {
   "cell_type": "markdown",
   "id": "0f9ab4fa",
   "metadata": {},
   "source": [
    "<img src=\"https://emojigraph.org/media/apple/check-mark-button_2705.png\" align=left width=33, heigth=33>\n",
    "<div class=\"alert alert-success\">\n",
    "Технически все верно. Но учитывая что даже простая модель переобучается я бы озаботился борьбой с переобучением. Возможно начал с более простых архитектур (один - два внутренних слоя, возможно поменьше нейронов).\n",
    "\n",
    "Что касается регуляризации - стоит попробовать dropout (посмотри p в диапазоне 0,1-0,3), но например добавь слои прореживания после каждого внутреннего слоя.\n",
    "    \n",
    "Как альтернативу можно попробовать l1/l2 регуляризацию на веса, в pytorch она реализуется через параметр weight_decay оптимайзера.    \n",
    "\n",
    "</div>"
   ]
  },
  {
   "cell_type": "code",
   "execution_count": null,
   "id": "23f26130",
   "metadata": {
    "id": "23f26130"
   },
   "outputs": [],
   "source": [
    "n_in_neurons = 2800\n",
    "n_hidden_neurons_1 = 1200\n",
    "n_hidden_neurons_2 = 600\n",
    "n_hidden_neurons_3 = 200\n",
    "n_hidden_neurons_4 = 10\n",
    "n_out_neurons = 1\n",
    "\n",
    "\n",
    "\n",
    "net = Net(n_in_neurons, n_hidden_neurons_1, n_hidden_neurons_2, n_hidden_neurons_3, n_hidden_neurons_4, n_out_neurons)\n",
    "\n",
    "#net = nn.Sequential(\n",
    "#    nn.Linear(n_in_neurons, n_hidden_neurons_1),\n",
    "#    nn.ReLU(),\n",
    "#    nn.Linear(n_hidden_neurons_1, n_hidden_neurons_2),\n",
    "#    nn.ReLU(),\n",
    "#    nn.Linear(n_hidden_neurons_2, n_out_neurons)\n",
    "#)\n",
    "\n",
    "optimizer2 = torch.optim.SGD(net.parameters(), lr=1e-3, momentum=0.8)\n",
    "\n",
    "optimizers = [optimizer2]\n",
    "\n",
    "loss = nn.MSELoss()"
   ]
  },
  {
   "cell_type": "code",
   "execution_count": null,
   "id": "e8b04fce",
   "metadata": {
    "id": "e8b04fce",
    "outputId": "9320d77c-4e20-4044-cbb1-4d703c50136b"
   },
   "outputs": [],
   "source": [
    "num_epochs = 900\n",
    "batch_size = 150\n",
    "num_batches = ceil(len(X_train)/batch_size)\n",
    "\n",
    "for optimizer in optimizers:\n",
    "    optimizer_rmse = []\n",
    "    print(f'Оптимизатор {optimizer}:')\n",
    "\n",
    "    for epoch in range(num_epochs):\n",
    "        net.train()\n",
    "        order = np.random.permutation(len(X_train))\n",
    "\n",
    "        for batch_idx in range(num_batches):\n",
    "\n",
    "            start_index = batch_idx * batch_size\n",
    "            optimizer.zero_grad()\n",
    "\n",
    "            batch_indexes = order[start_index : start_index + batch_size]\n",
    "            X_batch = X_train[batch_indexes]\n",
    "            y_batch = y_train[batch_indexes]\n",
    "\n",
    "            preds = net.forward(X_batch.float()).flatten()\n",
    "\n",
    "            loss_value = loss(preds, y_batch)\n",
    "\n",
    "            loss_value.backward()\n",
    "\n",
    "            optimizer.step()\n",
    "\n",
    "        if epoch % 10 == 0 or epoch == num_epochs - 1:\n",
    "            with torch.no_grad():\n",
    "                net.eval()\n",
    "                test_preds = net.forward(X_test).flatten()\n",
    "                #print(test_preds.numpy())\n",
    "                ans = round(float(torch.sqrt(loss(test_preds, y_test))), 2)\n",
    "                print(f'Метрика RMSE на {epoch} итерации =', ans)\n",
    "                optimizer_rmse.append(ans)\n",
    "    print()\n",
    "    print(f'Лучшая метрика RMSE = {min(optimizer_rmse)} обнаружена на {optimizer_rmse.index(min(optimizer_rmse))} эпохе')\n",
    "    print(f'Средняя метрика RMSE = {round(np.mean(optimizer_rmse), 2)}')\n",
    "    print('---------------------------------------------------------------------------------------------', '\\n')"
   ]
  },
  {
   "cell_type": "markdown",
   "id": "2f870d77",
   "metadata": {
    "cellId": "tbnfwg686jpxjdsw7cqbl",
    "execution_id": "5e14c3be-a481-438e-a979-0f4621acea44",
    "id": "2f870d77"
   },
   "source": [
    "## 7. Тестирование модели\n",
    "\n",
    "Настало время протестировать модель. Для этого получите эмбеддинги для всех тестовых изображений из папки `test_images`, выберите случайные 10 запросов из файла `test_queries.csv` и для каждого запроса выведите наиболее релевантное изображение. Сравните визуально качество поиска."
   ]
  },
  {
   "cell_type": "code",
   "execution_count": null,
   "id": "16db4240",
   "metadata": {},
   "outputs": [],
   "source": [
    "#создаем вектор изображений\n",
    "image_vectors = []\n",
    "test_queries['image'].progress_apply(lambda x: image_vect(x, PATH_TEST))\n",
    "outputs_tensor_test = torch.stack(image_vectors)"
   ]
  },
  {
   "cell_type": "code",
   "execution_count": null,
   "id": "33254768",
   "metadata": {},
   "outputs": [],
   "source": [
    "outputs_tensor_test.shape"
   ]
  },
  {
   "cell_type": "code",
   "execution_count": null,
   "id": "68d3f6ca",
   "metadata": {},
   "outputs": [],
   "source": [
    "df_test_images = pd.read_csv(os.path.join(PATH, 'test_images.csv'))"
   ]
  },
  {
   "cell_type": "markdown",
   "id": "8a9caee1",
   "metadata": {},
   "source": [
    "Пишем функцию для тестирования работы модели — выдачи изображения по запросу."
   ]
  },
  {
   "cell_type": "code",
   "execution_count": null,
   "id": "898d021f",
   "metadata": {},
   "outputs": [],
   "source": [
    "def testing(text):\n",
    "    print(f'Описание: {text}')\n",
    "    for word in text.split():\n",
    "        if word in stop_kids:\n",
    "            return print('WARNING: This image is unavailable in your country in compliance with local laws.')\n",
    "    Xids_test = count_tf_idf.transform([text]).toarray()\n",
    "    best = 0\n",
    "    best_index = 0\n",
    "    pred_list = []\n",
    "\n",
    "    for i in range(len(outputs_tensor_test)):\n",
    "\n",
    "        features_test = pd.DataFrame(outputs_tensor_test[i]).T.merge(pd.DataFrame(Xids_test), left_index=True, \\\n",
    "                                                      right_index=True, suffixes=(None, '_t'))\n",
    "\n",
    "        features_test.columns = features_test.columns.astype(str)\n",
    "        target_pred_test = cb.predict(features_test.to_numpy())\n",
    "        pred_list.append(target_pred_test[0])\n",
    "\n",
    "        if target_pred_test > best:\n",
    "            best = target_pred_test\n",
    "            best_index = i\n",
    "\n",
    "    print(f'Лучшая вероятность: {best}')\n",
    "    print(f'Лучший индекс: {best_index}')\n",
    "    print(f'Лучшее изображение:')\n",
    "    img = mpimg.imread(os.path.join(PATH, 'test_images/') + test_queries.image[best_index])\n",
    "    imgplot = plt.imshow(img)\n",
    "    plt.show()"
   ]
  },
  {
   "cell_type": "code",
   "execution_count": null,
   "id": "68f19654",
   "metadata": {},
   "outputs": [],
   "source": [
    "queries_for_test = test_queries['query_text'].sample(10, random_state=123)\n",
    "queries_for_test"
   ]
  },
  {
   "cell_type": "code",
   "execution_count": null,
   "id": "4d4282b2",
   "metadata": {},
   "outputs": [],
   "source": [
    "for query in queries_for_test:\n",
    "    testing(query)"
   ]
  },
  {
   "cell_type": "markdown",
   "id": "cb0442ff",
   "metadata": {
    "id": "86b59a0c"
   },
   "source": [
    "<img src=\"https://upload.wikimedia.org/wikipedia/commons/thumb/8/81/Stop_sign.png/240px-Stop_sign.png\" align=left width=35, heigth=35>\n",
    "<div class=\"alert alert-danger\">\n",
    "Небольшая формальность - пожалуйста добавь в код функции инфереса, чтобы она кроме изображения и текста  выводила найденную меру близости.\n",
    "\n",
    "Ну и в соответствии с требованиями пожалуйста покажи найденные фото.\n",
    "</div>"
   ]
  },
  {
   "cell_type": "markdown",
   "id": "2163863c",
   "metadata": {},
   "source": [
    "<div class=\"alert\" style=\"background-color:#ead7f7;color:#8737bf\">\n",
    "    <font size=\"3\"><b>Комментарий студента</b></font>\n",
    "   \n",
    "Добавлено\n",
    "\n",
    "</div>"
   ]
  },
  {
   "cell_type": "markdown",
   "id": "74f0b487",
   "metadata": {
    "id": "55022d4a"
   },
   "source": [
    "<img src=\"https://emojigraph.org/media/apple/check-mark-button_2705.png\" align=left width=33, heigth=33>\n",
    "<div class=\"alert alert-success\">\n",
    "Функции написаны и со своей задачей справляются. Принимают на вход текст и находят изображение. Отрабатывают контроль \"запрещенного контента\".\n",
    "\n",
    "Да, мы столкнулись с тем, что модель выдает одно и то же изображение. Это связано с тем, что модель похоже \"застряла\" в локальном минимуме. Одна из причин такого поведения - использование векторов полученных с помощью TF-IDF, в которых очень много нулей и редко встречаются числа, отличные от нуля. Поэтому модели крайне сложно найти взаимосвязь между такими разноплановыми признаками и таргетом, она слишком быстро переобучается на какие-то другие признаки (тем более и данных у нас немного).\n",
    "    \n",
    "Здесь совет только один - поработать с большим объемом датасета + больше экспериментов с архитетурой модели и попытками обучить её. Может получиться (а может и нет).     \n",
    "</div>"
   ]
  },
  {
   "cell_type": "markdown",
   "id": "2f5104e9",
   "metadata": {
    "id": "98130d7d"
   },
   "source": [
    "<img src=\"http://s3.amazonaws.com/pix.iemoji.com/images/emoji/apple/ios-12/256/waving-hand.png\" align=left width=44, heigth=44>\n",
    "<div class=\"alert alert-info\">\n",
    "<b> Идеи и альтернативные подходы</b>\n",
    "  Если хочешь получить хорошо работающее решение без обучения, то можешь провести эксперимент с нейронной сетью CLIP от OPEN AI (это не обязательно, только если хочешь добиться хороших результатов в этом проекте).\n",
    "\n",
    "  Про эту нейронку много где написано, но можешь посмотреть например вот здесь  https://habr.com/ru/post/539312/.\n",
    "\n",
    "  А для написания  реализации наиболее удобной лично для меня оказалась библиотека sbert. https://www.sbert.net/examples/applications/image-search/README.html  \n",
    "    \n",
    "    \n",
    "<hr>    \n",
    "    \n",
    "Также неплохо работает следующий подход без предобученных моделей (к тому же легко реализуемый).\n",
    "    \n",
    "    \n",
    "Вместо того, чтобы подавать на вход модели изображение + текст и получать меру соответствия, поступаем по другому. \n",
    "    \n",
    "На вход модели подаем вектор описания, а на выходе учимся предсказывать вектор изображения. \n",
    "    \n",
    "По поводу метрик тут ситуация следующая. Точно работает следующий подход\n",
    "    \n",
    "  - берем метрику mse, но тогда нужно чтобы модель её уменьшала. А значит в обучении используем только пары заведомо сответствующие друг другу\n",
    "\n",
    "Можно попробовать использовать косинусное расстояние, она позволяет использовать все данные (если есть соответствие то выдает 1, если нет то 0). \n",
    "    \n",
    "Также можно попробовать усложнить модель, например и изображения и тексты отправлять в пространство размерностью 256 и уже в этом пространстве учиться их \"сближать\".\n",
    "    \n",
    "По поводу методов векторизации: я бы использовать resnet18 для изображений (размерность эмбеддинга избражения 512) и БЕРТ для текстов (768). \n",
    "    \n",
    "***\n",
    "    \n",
    "А еще я видел удачный проект, где для векторизации изображений использовалось предсказание Resnet в котором не отключался последний слой. Получился вектор предсказаний верояятности что изображение принадлежит к каждому из 1000 классов Imagenet. И в сочетании с подходом \"мешок слов\" для текстов это может дать неплохой результа. Такая модель находит людей, собак, машины, снег и т.д.  \n",
    "   \n",
    "</div>"
   ]
  },
  {
   "cell_type": "markdown",
   "id": "fab1345a",
   "metadata": {
    "cellId": "dnvdkzzxdpet1yc4m64cx",
    "execution_id": "3e367f6a-97e3-4ed7-9b73-39ed363fd2b7",
    "id": "fab1345a"
   },
   "source": [
    "## 8. Выводы\n",
    "\n",
    "- Jupyter Notebook открыт\n",
    "- Весь код выполняется без ошибок\n",
    "- Ячейки с кодом расположены в порядке исполнения\n",
    "- Исследовательский анализ данных выполнен\n",
    "- Проверены экспертные оценки и краудсорсинговые оценки\n",
    "- Из датасета исключены те объекты, которые выходят за рамки юридических ограничений\n",
    "- Изображения векторизованы\n",
    "- Текстовые запросы векторизованы\n",
    "- Данные корректно разбиты на тренировочную и тестовую выборки\n",
    "- Предложена метрика качества работы модели\n",
    "- Предложена модель схожести изображений и текстового запроса\n",
    "- Модель обучена\n",
    "- По итогам обучения модели сделаны выводы\n",
    "- Проведено тестирование работы модели\n",
    "- По итогам тестирования визуально сравнили качество поиска"
   ]
  },
  {
   "cell_type": "markdown",
   "id": "38f189de",
   "metadata": {},
   "source": [
    "<img src=\"http://s3.amazonaws.com/pix.iemoji.com/images/emoji/apple/ios-12/256/waving-hand.png\" align=left width=44, heigth=44>\n",
    "<div class=\"alert alert-info\">\n",
    "<b> Заключительный комментарий</b>\n",
    "\n",
    "Подведем итоги. Я вижу, что в целом с проектом ты справляешься.\n",
    "    \n",
    "Проведено исследование и предобработка данных. Выполнена векторизация изображений и текстовых описаний. Обучены модели для предсказания степени соответствия, а также написана функция для инференса и с её помощью проведено тестирование.\n",
    " \n",
    "    \n",
    "Что нужно доделать обязательно:\n",
    "    \n",
    " - пожалуйста добавь выводы после знакомства с данными\n",
    " - пожалуйста используй альтернативный подход к объединению экспертных и краудсорс оценок (не соединение через inner)\n",
    " - нужно обосновать выбор оптимизируемой метрики\n",
    " - нельзя применять скаллер к предсказаниям, тем более обучать его на них\n",
    " - пожалуйста доработай функцию для инференса\n",
    "    \n",
    "Желтые комментарии на твое усмотрение. Но учитывая что наш подход \"не взлетел\" и нужно хоть что-то показать заказчику, попробуй показать возможный инференс с помщью CLIP. С библиотекой sentence-transformers это делается буквально в 10 строк.    \n",
    "Жду твою работу на повторное ревью.\n",
    "</div>"
   ]
  },
  {
   "cell_type": "markdown",
   "id": "4b41199a",
   "metadata": {},
   "source": []
  },
  {
   "cell_type": "code",
   "execution_count": null,
   "id": "53a4ed51",
   "metadata": {},
   "outputs": [],
   "source": []
  }
 ],
 "metadata": {
  "ExecuteTimeLog": [
   {
    "duration": 76,
    "start_time": "2024-01-04T15:43:09.473Z"
   },
   {
    "duration": 51,
    "start_time": "2024-01-04T15:43:28.852Z"
   },
   {
    "duration": 9,
    "start_time": "2024-01-04T15:43:41.212Z"
   },
   {
    "duration": 3,
    "start_time": "2024-01-04T15:44:06.357Z"
   },
   {
    "duration": 15,
    "start_time": "2024-01-04T15:44:08.746Z"
   },
   {
    "duration": 6,
    "start_time": "2024-01-04T15:44:57.117Z"
   },
   {
    "duration": 275428,
    "start_time": "2024-01-04T15:50:10.739Z"
   },
   {
    "duration": 8471,
    "start_time": "2024-01-04T15:54:46.169Z"
   },
   {
    "duration": 0,
    "start_time": "2024-01-04T15:54:54.643Z"
   },
   {
    "duration": 0,
    "start_time": "2024-01-04T15:54:54.645Z"
   },
   {
    "duration": 404,
    "start_time": "2024-01-04T16:02:18.423Z"
   },
   {
    "duration": 76,
    "start_time": "2024-01-04T16:02:30.678Z"
   },
   {
    "duration": 227632,
    "start_time": "2024-01-05T15:58:16.510Z"
   },
   {
    "duration": 8263,
    "start_time": "2024-01-05T16:02:04.144Z"
   },
   {
    "duration": 244,
    "start_time": "2024-01-05T16:02:12.409Z"
   },
   {
    "duration": 0,
    "start_time": "2024-01-05T16:02:12.655Z"
   },
   {
    "duration": 45,
    "start_time": "2024-01-06T17:13:46.313Z"
   },
   {
    "duration": 4557,
    "start_time": "2024-01-06T17:14:01.322Z"
   },
   {
    "duration": 257556,
    "start_time": "2024-01-06T17:14:23.413Z"
   },
   {
    "duration": 8067,
    "start_time": "2024-01-06T17:18:40.971Z"
   },
   {
    "duration": 238,
    "start_time": "2024-01-06T17:18:49.039Z"
   },
   {
    "duration": 0,
    "start_time": "2024-01-06T17:18:49.278Z"
   },
   {
    "duration": 60,
    "start_time": "2024-01-06T17:35:51.625Z"
   }
  ],
  "celltoolbar": "Отсутствует",
  "colab": {
   "provenance": []
  },
  "kernelspec": {
   "display_name": "Python 3 (ipykernel)",
   "language": "python",
   "name": "python3"
  },
  "language_info": {
   "codemirror_mode": {
    "name": "ipython",
    "version": 3
   },
   "file_extension": ".py",
   "mimetype": "text/x-python",
   "name": "python",
   "nbconvert_exporter": "python",
   "pygments_lexer": "ipython3",
   "version": "3.9.13"
  },
  "notebookId": "e47b60f7-b2b4-44ee-beb3-b44a93eaf068",
  "notebookPath": "precode.ipynb",
  "toc": {
   "base_numbering": 1,
   "nav_menu": {},
   "number_sections": true,
   "sideBar": true,
   "skip_h1_title": true,
   "title_cell": "Table of Contents",
   "title_sidebar": "Contents",
   "toc_cell": false,
   "toc_position": {},
   "toc_section_display": true,
   "toc_window_display": false
  },
  "varInspector": {
   "cols": {
    "lenName": 16,
    "lenType": 16,
    "lenVar": 40
   },
   "kernels_config": {
    "python": {
     "delete_cmd_postfix": "",
     "delete_cmd_prefix": "del ",
     "library": "var_list.py",
     "varRefreshCmd": "print(var_dic_list())"
    },
    "r": {
     "delete_cmd_postfix": ") ",
     "delete_cmd_prefix": "rm(",
     "library": "var_list.r",
     "varRefreshCmd": "cat(var_dic_list()) "
    }
   },
   "types_to_exclude": [
    "module",
    "function",
    "builtin_function_or_method",
    "instance",
    "_Feature"
   ],
   "window_display": false
  }
 },
 "nbformat": 4,
 "nbformat_minor": 5
}
